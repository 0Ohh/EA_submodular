{
 "cells": [
  {
   "cell_type": "code",
   "execution_count": 76,
   "metadata": {
    "collapsed": true,
    "pycharm": {
     "name": "#%%\n"
    }
   },
   "outputs": [],
   "source": [
    "import os\n",
    "\n",
    "import numpy as np\n",
    "import matplotlib.pyplot as plt\n",
    "\n",
    "def getXY(name:str, T=-1):\n",
    "    if T == -1:\n",
    "        T = np.inf\n",
    "    with open(name, 'r') as file:\n",
    "        lines = file.readlines()\n",
    "    ts = []\n",
    "    fs = []\n",
    "    for i in range(len(lines)):\n",
    "        sentence = lines[i]\n",
    "        if i % 2 == 0:\n",
    "            if int(sentence) > T:\n",
    "                break\n",
    "            ts.append(int(sentence))\n",
    "        else:\n",
    "            fs.append(float(sentence.split()[0].strip(\"[\")))  # '[70.47        2.95153658]'\n",
    "    x_num = -6\n",
    "    for i in range(0, len(ts)):\n",
    "        if ts[i] > ts[i+1]:\n",
    "            x_num = i + 1  # +1是因为数组从零开始\n",
    "            break\n",
    "\n",
    "    X = np.array(ts[:x_num])\n",
    "    Y = np.zeros(len(X))\n",
    "    times = 0\n",
    "    for i in range((len(fs)//x_num) * x_num):\n",
    "        if i % x_num == 0:\n",
    "            times += 1\n",
    "        Y[i % x_num] += fs[i]\n",
    "    Y /= times\n",
    "    # print(Y[-1])\n",
    "    return X, Y"
   ]
  },
  {
   "cell_type": "code",
   "execution_count": 77,
   "outputs": [],
   "source": [
    "def getFinalInfo(name:str, T=-1):\n",
    "    if T == -1:\n",
    "        T = np.inf\n",
    "    with open(name, 'r') as file:\n",
    "        lines = file.readlines()\n",
    "    ts = []\n",
    "    fs = []\n",
    "    for i in range(len(lines)):\n",
    "        sentence = lines[i]\n",
    "        if i % 2 == 0:\n",
    "            if int(sentence) > T:\n",
    "                break\n",
    "            ts.append(int(sentence))\n",
    "        else:\n",
    "            fs.append(float(sentence.split()[0].strip(\"[\")))  # '[70.47        2.95153658]'\n",
    "    x_num = -6 # !! 每次运行的打印次数 !!\n",
    "    for i in range(0, len(ts)):\n",
    "        if ts[i] > ts[i+1]:\n",
    "            x_num = i + 1  # +1是因为数组从零开始\n",
    "            break\n",
    "    finals = []\n",
    "    for i in range((len(fs)//x_num) * x_num):\n",
    "        if (i + 1) % x_num == 0:  # 每次运行的最后一行打印\n",
    "            finals.append(fs[i])\n",
    "    print(finals)\n",
    "    return finals\n"
   ],
   "metadata": {
    "collapsed": false,
    "pycharm": {
     "name": "#%%\n"
    }
   }
  },
  {
   "cell_type": "code",
   "execution_count": 78,
   "outputs": [
    {
     "name": "stdout",
     "output_type": "stream",
     "text": [
      "{'10meanOutD_final.py_result.txt': 'red', 'meanOutD_final.py_result.txt': 'orange', 'OutD_final.py_result.txt': 'yellow', '非支配排序_然后按Hamm.py_result.txt': 'green'}\n"
     ]
    }
   ],
   "source": [
    "colors = ['red', 'orange', 'yellow', 'green', 'cyan', 'blue', 'purple', 'black', 'grey']\n",
    "file_colors = dict()\n",
    "ci = 0\n",
    "for file_name in os.listdir('D:/42/Final/Code_Project/EA_submodular/Z画图/'\n",
    "                            'InfMax'):\n",
    "    if file_name == '0画.ipynb': continue\n",
    "    file_colors[file_name] = colors[ci]\n",
    "    ci += 1\n",
    "print(file_colors)\n"
   ],
   "metadata": {
    "collapsed": false,
    "pycharm": {
     "name": "#%%\n"
    }
   }
  },
  {
   "cell_type": "code",
   "execution_count": 79,
   "outputs": [
    {
     "ename": "FileNotFoundError",
     "evalue": "[Errno 2] No such file or directory: '10meanOutD_final.py_result.txt'",
     "output_type": "error",
     "traceback": [
      "\u001B[1;31m---------------------------------------------------------------------------\u001B[0m",
      "\u001B[1;31mFileNotFoundError\u001B[0m                         Traceback (most recent call last)",
      "Input \u001B[1;32mIn [79]\u001B[0m, in \u001B[0;36m<cell line: 2>\u001B[1;34m()\u001B[0m\n\u001B[0;32m      2\u001B[0m \u001B[38;5;28;01mfor\u001B[39;00m fi \u001B[38;5;129;01min\u001B[39;00m file_colors:\n\u001B[0;32m      3\u001B[0m     color \u001B[38;5;241m=\u001B[39m file_colors[fi]\n\u001B[1;32m----> 4\u001B[0m     X, Y \u001B[38;5;241m=\u001B[39m \u001B[43mgetXY\u001B[49m\u001B[43m(\u001B[49m\u001B[43mfi\u001B[49m\u001B[43m)\u001B[49m\n\u001B[0;32m      5\u001B[0m     plt\u001B[38;5;241m.\u001B[39mplot(X, Y, color, label\u001B[38;5;241m=\u001B[39mfi)\n\u001B[0;32m      6\u001B[0m     infos[fi] \u001B[38;5;241m=\u001B[39m getFinalInfo(fi)\n",
      "Input \u001B[1;32mIn [76]\u001B[0m, in \u001B[0;36mgetXY\u001B[1;34m(name, T)\u001B[0m\n\u001B[0;32m      7\u001B[0m \u001B[38;5;28;01mif\u001B[39;00m T \u001B[38;5;241m==\u001B[39m \u001B[38;5;241m-\u001B[39m\u001B[38;5;241m1\u001B[39m:\n\u001B[0;32m      8\u001B[0m     T \u001B[38;5;241m=\u001B[39m np\u001B[38;5;241m.\u001B[39minf\n\u001B[1;32m----> 9\u001B[0m \u001B[38;5;28;01mwith\u001B[39;00m \u001B[38;5;28;43mopen\u001B[39;49m\u001B[43m(\u001B[49m\u001B[43mname\u001B[49m\u001B[43m,\u001B[49m\u001B[43m \u001B[49m\u001B[38;5;124;43m'\u001B[39;49m\u001B[38;5;124;43mr\u001B[39;49m\u001B[38;5;124;43m'\u001B[39;49m\u001B[43m)\u001B[49m \u001B[38;5;28;01mas\u001B[39;00m file:\n\u001B[0;32m     10\u001B[0m     lines \u001B[38;5;241m=\u001B[39m file\u001B[38;5;241m.\u001B[39mreadlines()\n\u001B[0;32m     11\u001B[0m ts \u001B[38;5;241m=\u001B[39m []\n",
      "\u001B[1;31mFileNotFoundError\u001B[0m: [Errno 2] No such file or directory: '10meanOutD_final.py_result.txt'"
     ]
    }
   ],
   "source": [
    "infos = dict()\n",
    "for fi in file_colors:\n",
    "    color = file_colors[fi]\n",
    "    X, Y = getXY(fi)\n",
    "    plt.plot(X, Y, color, label=fi)\n",
    "    infos[fi] = getFinalInfo(fi)\n",
    "for fi in infos:\n",
    "    print(fi.strip('_result.txt'), np.mean(infos[fi]), '+-', np.std(infos[fi], ddof=1))\n",
    "\n",
    "# print(Infos)\n",
    "plt.legend()\n",
    "plt.show()"
   ],
   "metadata": {
    "collapsed": false,
    "pycharm": {
     "name": "#%%\n"
    }
   }
  }
 ],
 "metadata": {
  "kernelspec": {
   "display_name": "Python 3",
   "language": "python",
   "name": "python3"
  },
  "language_info": {
   "codemirror_mode": {
    "name": "ipython",
    "version": 2
   },
   "file_extension": ".py",
   "mimetype": "text/x-python",
   "name": "python",
   "nbconvert_exporter": "python",
   "pygments_lexer": "ipython2",
   "version": "2.7.6"
  }
 },
 "nbformat": 4,
 "nbformat_minor": 0
}