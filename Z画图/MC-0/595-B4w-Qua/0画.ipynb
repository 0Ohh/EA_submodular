{
 "cells": [
  {
   "cell_type": "code",
   "execution_count": 56,
   "metadata": {
    "collapsed": true,
    "pycharm": {
     "name": "#%%\n"
    }
   },
   "outputs": [],
   "source": [
    "import os\n",
    "\n",
    "import numpy as np\n",
    "import matplotlib.pyplot as plt\n",
    "TT = 40_0000\n",
    "def getXY(name:str, T=-1):\n",
    "    if T == -1:\n",
    "        T = TT\n",
    "    with open(name, 'r',encoding=\"utf-8\") as file:\n",
    "        lines = file.readlines()\n",
    "    ts, fs = [], []\n",
    "    for i in range(len(lines)):\n",
    "        sentence = lines[i]\n",
    "        if i % 2 == 0:\n",
    "            if int(float(sentence.split()[0])) > T:\n",
    "                continue\n",
    "            ts.append(int(float(sentence.split()[0])))\n",
    "        else:\n",
    "            fs.append(float(sentence.split()[0].strip(\"[\")))  # '[70.47        2.95153658]'\n",
    "    x_num = -6\n",
    "    for i in range(0, len(ts)):\n",
    "        if ts[i] > ts[i+1]:\n",
    "            x_num = i + 1  # +1是因为数组从零开始\n",
    "            break\n",
    "\n",
    "    X = np.array(ts[:x_num])\n",
    "    Y = np.zeros(len(X))\n",
    "    times = 0\n",
    "    for i in range((len(fs)//x_num) * x_num):\n",
    "        if i % x_num == 0:\n",
    "            times += 1\n",
    "        Y[i % x_num] += fs[i]\n",
    "    Y /= times\n",
    "    # print(Y[-1])\n",
    "    return X, Y"
   ]
  },
  {
   "cell_type": "code",
   "execution_count": 57,
   "outputs": [],
   "source": [
    "def getFinalInfo(name:str, T=-1):\n",
    "    if T == -1:\n",
    "        T = TT\n",
    "    with open(name, 'r',encoding=\"utf-8\") as file:\n",
    "        lines = file.readlines()\n",
    "    ts = []\n",
    "    fs = []\n",
    "    for i in range(len(lines)):\n",
    "        sentence = lines[i]\n",
    "        if i % 2 == 0:\n",
    "            if int(float(sentence.split()[0])) > T:\n",
    "                continue\n",
    "            ts.append(int(float(sentence.split()[0])))\n",
    "        else:\n",
    "            fs.append(float(sentence.split()[0].strip(\"[\")))  # '[70.47        2.95153658]'\n",
    "    x_num = -6 # !! 每次运行的打印次数 !!\n",
    "    for i in range(0, len(ts)):\n",
    "        if ts[i] > ts[i+1]:\n",
    "            x_num = i + 1  # +1是因为数组从零开始\n",
    "            break\n",
    "    finals = []\n",
    "    for i in range((len(fs)//x_num) * x_num):\n",
    "        if (i + 1) % x_num == 0:  # 每次运行的最后一行打印\n",
    "            finals.append(fs[i])\n",
    "    print(finals)\n",
    "    return finals\n"
   ],
   "metadata": {
    "collapsed": false,
    "pycharm": {
     "name": "#%%\n"
    }
   }
  },
  {
   "cell_type": "code",
   "execution_count": 58,
   "outputs": [
    {
     "name": "stdout",
     "output_type": "stream",
     "text": [
      "{'控制台MC_Jiao回档并修改_算法等同WrongHamm': 'red', '消融-无ham.py_result.txt': 'orange', '消融实验-无交配.py_result.txt': 'yellow'}\n"
     ]
    }
   ],
   "source": [
    "colors = ['red', 'orange', 'yellow', 'green', 'cyan', 'blue', 'purple', 'black', 'grey']\n",
    "file_colors = dict()\n",
    "ci = 0\n",
    "for file_name in os.listdir(os.getcwd()):\n",
    "    if file_name == '0画.ipynb' or file_name[-3:] == '.py' or file_name[0:2]=='出错': continue\n",
    "    file_colors[file_name] = colors[ci]\n",
    "    ci += 1\n",
    "print(file_colors)\n"
   ],
   "metadata": {
    "collapsed": false,
    "pycharm": {
     "name": "#%%\n"
    }
   }
  },
  {
   "cell_type": "code",
   "execution_count": 59,
   "outputs": [
    {
     "name": "stdout",
     "output_type": "stream",
     "text": [
      "[468.0, 468.0, 468.0, 464.0, 464.0, 465.0, 465.0, 468.0, 468.0, 466.0, 466.0, 466.0, 464.0, 464.0, 464.0, 461.0, 465.0, 465.0, 465.0, 468.0, 468.0, 468.0, 468.0, 468.0, 465.0, 468.0, 468.0, 464.0, 466.0, 466.0]\n",
      "[464.0, 468.0, 468.0, 464.0, 466.0, 466.0, 464.0, 464.0, 464.0, 466.0, 466.0, 466.0, 468.0, 468.0, 468.0, 465.0, 468.0, 468.0, 468.0, 468.0, 468.0, 464.0, 466.0, 466.0, 464.0, 464.0, 465.0, 465.0, 468.0, 468.0]\n",
      "[466.0, 466.0, 468.0, 468.0, 468.0, 468.0, 464.0, 465.0, 466.0, 463.0, 465.0, 468.0, 465.0, 465.0, 465.0, 466.0, 466.0, 466.0, 468.0, 468.0, 468.0, 463.0, 466.0, 466.0, 466.0, 466.0, 466.0, 468.0, 468.0, 468.0]\n",
      "red 控制台MC_Jiao回档并修改_算法等同WrongHamm 466.03333333333336 +- 1.8842968748696896\n",
      "orange 消融-无ham.py 466.1666666666667 +- 1.6832508230603465\n",
      "yellow 消融实验-无交配.py 466.3 +- 1.534657099743491\n"
     ]
    },
    {
     "name": "stderr",
     "output_type": "stream",
     "text": [
      "C:\\Users\\wangli\\anaconda3\\lib\\site-packages\\IPython\\core\\pylabtools.py:151: UserWarning: Glyph 25511 (\\N{CJK UNIFIED IDEOGRAPH-63A7}) missing from current font.\n",
      "  fig.canvas.print_figure(bytes_io, **kw)\n",
      "C:\\Users\\wangli\\anaconda3\\lib\\site-packages\\IPython\\core\\pylabtools.py:151: UserWarning: Glyph 21046 (\\N{CJK UNIFIED IDEOGRAPH-5236}) missing from current font.\n",
      "  fig.canvas.print_figure(bytes_io, **kw)\n",
      "C:\\Users\\wangli\\anaconda3\\lib\\site-packages\\IPython\\core\\pylabtools.py:151: UserWarning: Glyph 21488 (\\N{CJK UNIFIED IDEOGRAPH-53F0}) missing from current font.\n",
      "  fig.canvas.print_figure(bytes_io, **kw)\n",
      "C:\\Users\\wangli\\anaconda3\\lib\\site-packages\\IPython\\core\\pylabtools.py:151: UserWarning: Glyph 22238 (\\N{CJK UNIFIED IDEOGRAPH-56DE}) missing from current font.\n",
      "  fig.canvas.print_figure(bytes_io, **kw)\n",
      "C:\\Users\\wangli\\anaconda3\\lib\\site-packages\\IPython\\core\\pylabtools.py:151: UserWarning: Glyph 26723 (\\N{CJK UNIFIED IDEOGRAPH-6863}) missing from current font.\n",
      "  fig.canvas.print_figure(bytes_io, **kw)\n",
      "C:\\Users\\wangli\\anaconda3\\lib\\site-packages\\IPython\\core\\pylabtools.py:151: UserWarning: Glyph 24182 (\\N{CJK UNIFIED IDEOGRAPH-5E76}) missing from current font.\n",
      "  fig.canvas.print_figure(bytes_io, **kw)\n",
      "C:\\Users\\wangli\\anaconda3\\lib\\site-packages\\IPython\\core\\pylabtools.py:151: UserWarning: Glyph 20462 (\\N{CJK UNIFIED IDEOGRAPH-4FEE}) missing from current font.\n",
      "  fig.canvas.print_figure(bytes_io, **kw)\n",
      "C:\\Users\\wangli\\anaconda3\\lib\\site-packages\\IPython\\core\\pylabtools.py:151: UserWarning: Glyph 25913 (\\N{CJK UNIFIED IDEOGRAPH-6539}) missing from current font.\n",
      "  fig.canvas.print_figure(bytes_io, **kw)\n",
      "C:\\Users\\wangli\\anaconda3\\lib\\site-packages\\IPython\\core\\pylabtools.py:151: UserWarning: Glyph 31639 (\\N{CJK UNIFIED IDEOGRAPH-7B97}) missing from current font.\n",
      "  fig.canvas.print_figure(bytes_io, **kw)\n",
      "C:\\Users\\wangli\\anaconda3\\lib\\site-packages\\IPython\\core\\pylabtools.py:151: UserWarning: Glyph 27861 (\\N{CJK UNIFIED IDEOGRAPH-6CD5}) missing from current font.\n",
      "  fig.canvas.print_figure(bytes_io, **kw)\n",
      "C:\\Users\\wangli\\anaconda3\\lib\\site-packages\\IPython\\core\\pylabtools.py:151: UserWarning: Glyph 31561 (\\N{CJK UNIFIED IDEOGRAPH-7B49}) missing from current font.\n",
      "  fig.canvas.print_figure(bytes_io, **kw)\n",
      "C:\\Users\\wangli\\anaconda3\\lib\\site-packages\\IPython\\core\\pylabtools.py:151: UserWarning: Glyph 21516 (\\N{CJK UNIFIED IDEOGRAPH-540C}) missing from current font.\n",
      "  fig.canvas.print_figure(bytes_io, **kw)\n",
      "C:\\Users\\wangli\\anaconda3\\lib\\site-packages\\IPython\\core\\pylabtools.py:151: UserWarning: Glyph 28040 (\\N{CJK UNIFIED IDEOGRAPH-6D88}) missing from current font.\n",
      "  fig.canvas.print_figure(bytes_io, **kw)\n",
      "C:\\Users\\wangli\\anaconda3\\lib\\site-packages\\IPython\\core\\pylabtools.py:151: UserWarning: Glyph 34701 (\\N{CJK UNIFIED IDEOGRAPH-878D}) missing from current font.\n",
      "  fig.canvas.print_figure(bytes_io, **kw)\n",
      "C:\\Users\\wangli\\anaconda3\\lib\\site-packages\\IPython\\core\\pylabtools.py:151: UserWarning: Glyph 26080 (\\N{CJK UNIFIED IDEOGRAPH-65E0}) missing from current font.\n",
      "  fig.canvas.print_figure(bytes_io, **kw)\n",
      "C:\\Users\\wangli\\anaconda3\\lib\\site-packages\\IPython\\core\\pylabtools.py:151: UserWarning: Glyph 23454 (\\N{CJK UNIFIED IDEOGRAPH-5B9E}) missing from current font.\n",
      "  fig.canvas.print_figure(bytes_io, **kw)\n",
      "C:\\Users\\wangli\\anaconda3\\lib\\site-packages\\IPython\\core\\pylabtools.py:151: UserWarning: Glyph 39564 (\\N{CJK UNIFIED IDEOGRAPH-9A8C}) missing from current font.\n",
      "  fig.canvas.print_figure(bytes_io, **kw)\n",
      "C:\\Users\\wangli\\anaconda3\\lib\\site-packages\\IPython\\core\\pylabtools.py:151: UserWarning: Glyph 20132 (\\N{CJK UNIFIED IDEOGRAPH-4EA4}) missing from current font.\n",
      "  fig.canvas.print_figure(bytes_io, **kw)\n",
      "C:\\Users\\wangli\\anaconda3\\lib\\site-packages\\IPython\\core\\pylabtools.py:151: UserWarning: Glyph 37197 (\\N{CJK UNIFIED IDEOGRAPH-914D}) missing from current font.\n",
      "  fig.canvas.print_figure(bytes_io, **kw)\n"
     ]
    },
    {
     "data": {
      "text/plain": "<Figure size 432x288 with 1 Axes>",
      "image/png": "[encoded data removed]"
     },
     "metadata": {
      "needs_background": "light"
     },
     "output_type": "display_data"
    }
   ],
   "source": [
    "infos = dict()\n",
    "for fi in file_colors:\n",
    "    color = file_colors[fi]\n",
    "    X, Y = getXY(fi)\n",
    "    plt.plot(X[:], Y[:], color, label=fi)\n",
    "    infos[fi] = getFinalInfo(fi)\n",
    "for fi in infos:\n",
    "    print(file_colors[fi], fi.strip('_result.txt'), np.mean(infos[fi]), '+-', np.std(infos[fi], ddof=1))\n",
    "\n",
    "# print(Infos)\n",
    "plt.legend()\n",
    "plt.show()"
   ],
   "metadata": {
    "collapsed": false,
    "pycharm": {
     "name": "#%%\n"
    }
   }
  }
 ],
 "metadata": {
  "kernelspec": {
   "display_name": "Python 3",
   "language": "python",
   "name": "python3"
  },
  "language_info": {
   "codemirror_mode": {
    "name": "ipython",
    "version": 2
   },
   "file_extension": ".py",
   "mimetype": "text/x-python",
   "name": "python",
   "nbconvert_exporter": "python",
   "pygments_lexer": "ipython2",
   "version": "2.7.6"
  }
 },
 "nbformat": 4,
 "nbformat_minor": 0
}