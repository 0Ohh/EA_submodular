{
 "cells": [
  {
   "cell_type": "code",
   "execution_count": 1,
   "id": "07fdf86d",
   "metadata": {
    "pycharm": {
     "name": "#%%\n"
    }
   },
   "outputs": [],
   "source": [
    "import os\n",
    "import glob\n",
    "\n",
    "import numpy as np\n",
    "from shutil import rmtree\n",
    "\n",
    "def clean():\n",
    "    for name in (\"my-experiment\", \"ioh_data\"):\n",
    "        for path in glob.glob(f\"{name}*\"):\n",
    "            if os.path.isfile(path):\n",
    "                os.remove(path)\n",
    "            if os.path.isdir(path):\n",
    "                rmtree(path, ignore_errors=True)\n",
    "\n",
    "def ls(p=\"./\"):\n",
    "    for obj in os.listdir(os.path.normpath(p)):\n",
    "        print(obj)\n",
    "\n",
    "def cat(f):\n",
    "    with open(os.path.normpath(f)) as h:\n",
    "        print(h.read())\n",
    "\n",
    "clean()"
   ]
  },
  {
   "cell_type": "code",
   "execution_count": 2,
   "id": "41cf4c7e-1813-4414-9e38-e1efc3ad622d",
   "metadata": {
    "pycharm": {
     "name": "#%%\n"
    }
   },
   "outputs": [
    {
     "name": "stdout",
     "output_type": "stream",
     "text": [
      "Name: ioh\n",
      "Version: 0.3.16\n",
      "Summary: The experimenter for Iterative Optimization Heuristics\n",
      "Home-page: https://iohprofiler.github.io/IOHexperimenter\n",
      "Author-email: iohprofiler@liacs.leidenuniv.nl\n",
      "License: BSD\n",
      "Location: c:\\users\\wangli\\anaconda3\\lib\\site-packages\n",
      "Requires: numpy\n",
      "Required-by: \n",
      "Note: you may need to restart the kernel to use updated packages.\n"
     ]
    },
    {
     "name": "stderr",
     "output_type": "stream",
     "text": [
      "--- Logging error ---\n",
      "Traceback (most recent call last):\n",
      "  File \"C:\\Users\\wangli\\anaconda3\\lib\\logging\\__init__.py\", line 1086, in emit\n",
      "    stream.write(msg + self.terminator)\n",
      "  File \"C:\\Users\\wangli\\anaconda3\\lib\\site-packages\\pip\\_vendor\\colorama\\ansitowin32.py\", line 162, in write\n",
      "    self.write_and_convert(text)\n",
      "  File \"C:\\Users\\wangli\\anaconda3\\lib\\site-packages\\pip\\_vendor\\colorama\\ansitowin32.py\", line 190, in write_and_convert\n",
      "    self.write_plain_text(text, cursor, len(text))\n",
      "  File \"C:\\Users\\wangli\\anaconda3\\lib\\site-packages\\pip\\_vendor\\colorama\\ansitowin32.py\", line 195, in write_plain_text\n",
      "    self.wrapped.write(text[start:end])\n",
      "UnicodeEncodeError: 'gbk' codec can't encode character '\\xe4' in position 91: illegal multibyte sequence\n",
      "Call stack:\n",
      "  File \"C:\\Users\\wangli\\anaconda3\\lib\\runpy.py\", line 197, in _run_module_as_main\n",
      "    return _run_code(code, main_globals, None,\n",
      "  File \"C:\\Users\\wangli\\anaconda3\\lib\\runpy.py\", line 87, in _run_code\n",
      "    exec(code, run_globals)\n",
      "  File \"C:\\Users\\wangli\\anaconda3\\lib\\site-packages\\pip\\__main__.py\", line 31, in <module>\n",
      "    sys.exit(_main())\n",
      "  File \"C:\\Users\\wangli\\anaconda3\\lib\\site-packages\\pip\\_internal\\cli\\main.py\", line 70, in main\n",
      "    return command.main(cmd_args)\n",
      "  File \"C:\\Users\\wangli\\anaconda3\\lib\\site-packages\\pip\\_internal\\cli\\base_command.py\", line 98, in main\n",
      "    return self._main(args)\n",
      "  File \"C:\\Users\\wangli\\anaconda3\\lib\\site-packages\\pip\\_internal\\cli\\base_command.py\", line 173, in _main\n",
      "    status = self.run(options, args)\n",
      "  File \"C:\\Users\\wangli\\anaconda3\\lib\\site-packages\\pip\\_internal\\commands\\show.py\", line 45, in run\n",
      "    if not print_results(\n",
      "  File \"C:\\Users\\wangli\\anaconda3\\lib\\site-packages\\pip\\_internal\\commands\\show.py\", line 211, in print_results\n",
      "    write_output(\"Author: %s\", dist.author)\n",
      "  File \"C:\\Users\\wangli\\anaconda3\\lib\\site-packages\\pip\\_internal\\utils\\misc.py\", line 499, in write_output\n",
      "    logger.info(msg, *args)\n",
      "Message: 'Author: %s'\n",
      "Arguments: ('Jacob de Nobel, Furong Ye, Diederick Vermetten, Hao Wang, Carola Doerr and Thomas B\\xe4ck',)\n"
     ]
    }
   ],
   "source": [
    "import ioh\n",
    "%pip show ioh"
   ]
  },
  {
   "attachments": {},
   "cell_type": "markdown",
   "id": "94f8621d",
   "metadata": {
    "pycharm": {
     "name": "#%% md\n"
    }
   },
   "source": [
    "# Problem\n",
    "In ioh, everything revolves around the `problem` class, which exists for both `Real` and `Integer` types for continious and discrete problems resp. These classes are wrappers around an objective function, and can be used to interact with the various other parts of iohexperimenter. \n",
    "\n",
    "We have a number of objective functions already implemented for convenience, which includes the objective functions from the BBOB single objective benchmark by the COCO platform for the continous case and the PBO benchmark functions for the discrete case.\n"
   ]
  },
  {
   "cell_type": "code",
   "execution_count": 3,
   "id": "5cbe3df2",
   "metadata": {
    "tags": [],
    "pycharm": {
     "name": "#%%\n"
    }
   },
   "outputs": [
    {
     "data": {
      "text/plain": "{1: 'Sphere',\n 2: 'Ellipsoid',\n 3: 'Rastrigin',\n 4: 'BuecheRastrigin',\n 5: 'LinearSlope',\n 6: 'AttractiveSector',\n 7: 'StepEllipsoid',\n 8: 'Rosenbrock',\n 9: 'RosenbrockRotated',\n 10: 'EllipsoidRotated',\n 11: 'Discus',\n 12: 'BentCigar',\n 13: 'SharpRidge',\n 14: 'DifferentPowers',\n 15: 'RastriginRotated',\n 16: 'Weierstrass',\n 17: 'Schaffers10',\n 18: 'Schaffers1000',\n 19: 'GriewankRosenbrock',\n 20: 'Schwefel',\n 21: 'Gallagher101',\n 22: 'Gallagher21',\n 23: 'Katsuura',\n 24: 'LunacekBiRastrigin',\n 30: 'UniformStarDiscrepancy10',\n 31: 'UniformStarDiscrepancy25',\n 32: 'UniformStarDiscrepancy50',\n 33: 'UniformStarDiscrepancy100',\n 34: 'UniformStarDiscrepancy150',\n 35: 'UniformStarDiscrepancy200',\n 36: 'UniformStarDiscrepancy250',\n 37: 'UniformStarDiscrepancy500',\n 38: 'UniformStarDiscrepancy750',\n 39: 'UniformStarDiscrepancy1000',\n 40: 'SobolStarDiscrepancy10',\n 41: 'SobolStarDiscrepancy25',\n 42: 'SobolStarDiscrepancy50',\n 43: 'SobolStarDiscrepancy100',\n 44: 'SobolStarDiscrepancy150',\n 45: 'SobolStarDiscrepancy200',\n 46: 'SobolStarDiscrepancy250',\n 47: 'SobolStarDiscrepancy500',\n 48: 'SobolStarDiscrepancy750',\n 49: 'SobolStarDiscrepancy1000',\n 50: 'HaltonStarDiscrepancy10',\n 51: 'HaltonStarDiscrepancy25',\n 52: 'HaltonStarDiscrepancy50',\n 53: 'HaltonStarDiscrepancy100',\n 54: 'HaltonStarDiscrepancy150',\n 55: 'HaltonStarDiscrepancy200',\n 56: 'HaltonStarDiscrepancy250',\n 57: 'HaltonStarDiscrepancy500',\n 58: 'HaltonStarDiscrepancy750',\n 59: 'HaltonStarDiscrepancy1000',\n 1001: 'CEC2022Zakharov',\n 1002: 'CEC2022Rosenbrock',\n 1003: 'CEC2022SchafferF7',\n 1004: 'CEC2022Rastrigin',\n 1005: 'CEC2022Levy',\n 1006: 'CEC2022HybridFunction1',\n 1007: 'CEC2022HybridFunction2',\n 1008: 'CEC2022HybridFunction3',\n 1009: 'CEC2022CompositionFunction1',\n 1010: 'CEC2022CompositionFunction2',\n 1011: 'CEC2022CompositionFunction3',\n 1012: 'CEC2022CompositionFunction4',\n 1101: 'FivePeaks1101',\n 1102: 'EqualMaxima1102',\n 1103: 'UnevenEqualMaxima1103',\n 1104: 'Himmelblau1104',\n 1105: 'SixHumpCamelback1105',\n 1106: 'Shubert1106',\n 1107: 'Vincent1107',\n 1108: 'Shubert1108',\n 1109: 'Vincent1109',\n 1110: 'ModifiedRastrigin1110',\n 1111: 'CompositionFunction1111',\n 1112: 'CompositionFunction1112',\n 1113: 'CompositionFunction1113',\n 1114: 'CompositionFunction1114',\n 1115: 'CompositionFunction1115',\n 1116: 'CompositionFunction1116',\n 1117: 'CompositionFunction1117',\n 1118: 'CompositionFunction1118',\n 1119: 'CompositionFunction1119',\n 1120: 'CompositionFunction1120'}"
     },
     "execution_count": 3,
     "metadata": {},
     "output_type": "execute_result"
    }
   ],
   "source": [
    "# A list of problems can be accessed via the base classes\n",
    "ioh.problem.RealSingleObjective.problems"
   ]
  },
  {
   "cell_type": "code",
   "execution_count": 54,
   "id": "2e9d10a4",
   "metadata": {
    "tags": [],
    "pycharm": {
     "name": "#%%\n"
    }
   },
   "outputs": [
    {
     "data": {
      "text/plain": "<RealSingleObjectiveProblem 1. Sphere (iid=1 dim=10)>"
     },
     "execution_count": 54,
     "metadata": {},
     "output_type": "execute_result"
    }
   ],
   "source": [
    "# In order to instantiate a problem instance, we can do the following:\n",
    "problem = ioh.get_problem(\n",
    "    \"Sphere\", \n",
    "    instance=1,\n",
    "    dimension=10,\n",
    "    problem_class=ioh.ProblemClass.REAL\n",
    ")\n",
    "problem"
   ]
  },
  {
   "cell_type": "code",
   "execution_count": 55,
   "id": "e0c8733f",
   "metadata": {
    "tags": [],
    "pycharm": {
     "name": "#%%\n"
    }
   },
   "outputs": [
    {
     "data": {
      "text/plain": "<MetaData: Sphere id: 1 iid: 1 dim: 10>"
     },
     "execution_count": 55,
     "metadata": {},
     "output_type": "execute_result"
    }
   ],
   "source": [
    "# The problem class includes information about the problem, which can be retrieved via the meta_data accessor\n",
    "problem.meta_data"
   ]
  },
  {
   "cell_type": "code",
   "execution_count": 6,
   "id": "f0264ec1",
   "metadata": {
    "tags": [],
    "pycharm": {
     "name": "#%%\n"
    }
   },
   "outputs": [
    {
     "data": {
      "text/plain": "<State evaluations: 0 final_target_found: false current_best: <Solution x: [nan, nan, nan, nan, nan, nan, nan, nan, nan, nan] y: inf>>"
     },
     "execution_count": 6,
     "metadata": {},
     "output_type": "execute_result"
    }
   ],
   "source": [
    "# The current state of the problem, e.g. the number of evaluations, best seen points etc. are stored in the problems state.\n",
    "problem.state"
   ]
  },
  {
   "cell_type": "code",
   "execution_count": 7,
   "id": "50ac1487",
   "metadata": {
    "pycharm": {
     "name": "#%%\n"
    }
   },
   "outputs": [
    {
     "data": {
      "text/plain": "<BoxConstraint lb: [[-5, -5, -5, -5, -5, -5, -5, -5, -5, -5]] ub: [[5, 5, 5, 5, 5, 5, 5, 5, 5, 5]]>"
     },
     "execution_count": 7,
     "metadata": {},
     "output_type": "execute_result"
    }
   ],
   "source": [
    "# Every problem as has a simple box-bounds associcated\n",
    "problem.bounds"
   ]
  },
  {
   "cell_type": "code",
   "execution_count": 8,
   "id": "372f25a0",
   "metadata": {
    "pycharm": {
     "name": "#%%\n"
    }
   },
   "outputs": [
    {
     "data": {
      "text/plain": "<State evaluations: 1 final_target_found: false current_best: <Solution x: [-3.267458978663853, -0.9478227335493186, -1.4148783930956057, -0.9461668613513483, -1.4946241051647946, -4.261914333523058, -0.28333582156967463, -3.7876646987826836, 3.8704755696253272, 1.7626686881639237] y: 192.9621431376477>>"
     },
     "execution_count": 8,
     "metadata": {},
     "output_type": "execute_result"
    }
   ],
   "source": [
    "# We can access the contraint information of the problem\n",
    "x0 = np.random.uniform(problem.bounds.lb, problem.bounds.ub)\n",
    "\n",
    "# Evaluation happens like a 'normal' objective function would\n",
    "problem(x0)\n",
    "\n",
    "# Whenever the problem is evaluated, the state changes\n",
    "problem.state"
   ]
  },
  {
   "cell_type": "code",
   "execution_count": 9,
   "id": "e29ce7c2",
   "metadata": {
    "pycharm": {
     "name": "#%%\n"
    }
   },
   "outputs": [
    {
     "data": {
      "text/plain": "[202.26639544740476,\n 244.9750252075154,\n 229.2882155951649,\n 156.95346353593038,\n 161.62755981350858]"
     },
     "execution_count": 9,
     "metadata": {},
     "output_type": "execute_result"
    }
   ],
   "source": [
    "# Additionally, it is possible to evaluate a list of points\n",
    "n_points = 5\n",
    "X = np.random.uniform(problem.bounds.lb, problem.bounds.ub, size=(n_points, problem.meta_data.n_variables))\n",
    "problem(X)"
   ]
  },
  {
   "cell_type": "code",
   "execution_count": 10,
   "id": "75f26c25",
   "metadata": {
    "pycharm": {
     "name": "#%%\n"
    }
   },
   "outputs": [],
   "source": [
    "# If we want to perform multiple runs with the same objective function, after every run, the problem has to be reset, \n",
    "# such that the internal state reflects the current run.\n",
    "def run_experiment(problem, algorithm, n_runs=5):\n",
    "    for run in range(n_runs):\n",
    "        \n",
    "        # Run the algorithm on the problem\n",
    "        algorithm(problem)\n",
    "\n",
    "        # print the best found for this run\n",
    "        print(f\"run: {run+1} - best found:{problem.state.current_best.y: .3f}\")\n",
    "\n",
    "        # Reset the problem\n",
    "        problem.reset()"
   ]
  },
  {
   "cell_type": "code",
   "execution_count": 11,
   "id": "16d775ef",
   "metadata": {
    "pycharm": {
     "name": "#%%\n"
    }
   },
   "outputs": [],
   "source": [
    "class RandomSearch:\n",
    "    'Simple random search algorithm'\n",
    "    def __init__(self, n: int, length: float = 0.0):\n",
    "        self.n: int = n\n",
    "        self.length: float = length\n",
    "        \n",
    "    def __call__(self, problem: ioh.problem.RealSingleObjective) -> None:\n",
    "        'Evaluate the problem n times with a randomly generated solution'\n",
    "        for _ in range(self.n):\n",
    "            # We can use the problems bounds accessor to get information about the problem bounds\n",
    "            x = np.random.uniform(problem.bounds.lb, problem.bounds.ub)\n",
    "            self.length = np.linalg.norm(x)\n",
    "            \n",
    "            problem(x)             "
   ]
  },
  {
   "cell_type": "code",
   "execution_count": 12,
   "id": "04699081-e241-493f-8f51-85f14c137df1",
   "metadata": {
    "pycharm": {
     "name": "#%%\n"
    }
   },
   "outputs": [
    {
     "name": "stdout",
     "output_type": "stream",
     "text": [
      "run: 1 - best found: 134.385\n",
      "run: 2 - best found: 136.481\n",
      "run: 3 - best found: 131.860\n",
      "run: 4 - best found: 124.548\n",
      "run: 5 - best found: 159.759\n"
     ]
    }
   ],
   "source": [
    "# using the random search algorithm, we can then run a simple experiment\n",
    "run_experiment(problem, RandomSearch(10))"
   ]
  },
  {
   "attachments": {},
   "cell_type": "markdown",
   "id": "ff1d41c0",
   "metadata": {
    "pycharm": {
     "name": "#%% md\n"
    }
   },
   "source": [
    "# Adding custom problems\n",
    "As the list of already implemented problems might not contains the objective function you would like to analyze and benchmark, we include an easy to use interface to wrap your benchmark function into an iohexperimenter `problem` object. \n",
    "\n",
    "Currently, only single objective functions are supported, so the only requirement on the function is its signature, which should take a single array parameter, and return a single floating point number $f(\\mathbf{x}) \\mapsto \\mathbb{R}$.\n",
    "\n",
    "In this example we will add the function (Styblinski–Tang):\n",
    "\n",
    "$f(\\mathbf{x}) = \\frac{\\sum_{i=1}^n x_i^4 - 16x_i^2 + 5x_i}{2}$\n",
    "\n",
    "defined on $[-5, 5]$"
   ]
  },
  {
   "cell_type": "code",
   "execution_count": 13,
   "id": "86f32b7a",
   "metadata": {
    "pycharm": {
     "name": "#%%\n"
    }
   },
   "outputs": [
    {
     "data": {
      "text/plain": "-391.661657037714"
     },
     "execution_count": 13,
     "metadata": {},
     "output_type": "execute_result"
    }
   ],
   "source": [
    "def styblinski_tang(x: np.ndarray) -> float:\n",
    "    return np.sum(np.power(x, 4) - (16 * np.power(x, 2)) + (5 * x)) / 2\n",
    "\n",
    "\n",
    "styblinski_tang(np.array([-2.903534]*10)) # global minima"
   ]
  },
  {
   "cell_type": "code",
   "execution_count": 14,
   "id": "eb23a7d5",
   "metadata": {
    "pycharm": {
     "name": "#%%\n"
    }
   },
   "outputs": [],
   "source": [
    "# we can wrap this function in ioh, as this is is a continous function, we use wrap_real_problem:\n",
    "ioh.problem.wrap_real_problem(\n",
    "    styblinski_tang,                                     # Handle to the function\n",
    "    name=\"StyblinskiTang\",                               # Name to be used when instantiating\n",
    "    optimization_type=ioh.OptimizationType.MIN, # Specify that we want to minimize\n",
    "    lb=-5,                                               # The lower bound\n",
    "    ub=5,                                                # The upper bound\n",
    ")"
   ]
  },
  {
   "cell_type": "code",
   "execution_count": 15,
   "id": "f76f8aea",
   "metadata": {
    "pycharm": {
     "name": "#%%\n"
    }
   },
   "outputs": [
    {
     "data": {
      "text/plain": "<RealSingleObjectiveProblem 1121. StyblinskiTang (iid=1 dim=10)>"
     },
     "execution_count": 15,
     "metadata": {},
     "output_type": "execute_result"
    }
   ],
   "source": [
    "# We can create an instance of this problem, wrapped in ioh\n",
    "problem = ioh.get_problem(\"StyblinskiTang\", dimension=10)\n",
    "problem"
   ]
  },
  {
   "cell_type": "code",
   "execution_count": 16,
   "id": "bcedf9d9-29f9-4292-a7a7-d16a8bfdae48",
   "metadata": {
    "pycharm": {
     "name": "#%%\n"
    }
   },
   "outputs": [
    {
     "data": {
      "text/plain": "-391.661657037714"
     },
     "execution_count": 16,
     "metadata": {},
     "output_type": "execute_result"
    }
   ],
   "source": [
    "problem(np.array([-2.903534]*10))"
   ]
  },
  {
   "attachments": {},
   "cell_type": "markdown",
   "id": "d6ef70d4",
   "metadata": {
    "pycharm": {
     "name": "#%% md\n"
    }
   },
   "source": [
    "## Specifying instances\n",
    "When doing bechmarking of custom problems, it can often be usefull to look at different instances of the same problem, but that perform some transformation the parameter or objective space, to test if an algorithm is invariant to such transformations. \n",
    "\n",
    "Here we add the following transformations to the aforementioned objective function:\n",
    "\n",
    "$T_x(\\mathbf{x}, c) = \\mathbf{x} + c$\n",
    "\n",
    "$T_y(y, c) = y * c$\n",
    "\n",
    "We can do this by providing transformation functions to the `wrap_problem` interface. Note that these take two parameters:\n",
    " 1. The operand they function on, which are the variables for the variables transformation and objective function value for the objective transformation. \n",
    " 2. An integer identifier of the instance id which is currently used. This allows you to specify alternate behavior for different instances.  "
   ]
  },
  {
   "cell_type": "code",
   "execution_count": 17,
   "id": "200870f4",
   "metadata": {
    "pycharm": {
     "name": "#%%\n"
    }
   },
   "outputs": [],
   "source": [
    "# Variables transformation R^d -> R^d\n",
    "def transform_variables(x: np.ndarray, instance_id:int) -> np.ndarray:\n",
    "    c = (instance_id - 1) * .5\n",
    "    return x + c\n",
    "\n",
    "# Objective transformation R -> R\n",
    "def transform_objectives(y: float, instance_id:int) -> float:\n",
    "    c = instance_id\n",
    "    return y * c\n",
    "\n",
    "# Note that we can overwrite a previously defined problem by calling wrap_real_problem again with the same name\n",
    "ioh.problem.wrap_real_problem(\n",
    "    styblinski_tang,                                     \n",
    "    name=\"StyblinskiTang\",                               \n",
    "    optimization_type=ioh.OptimizationType.MIN, \n",
    "    lb=-5,                                               \n",
    "    ub=5,      \n",
    "    \n",
    "    # Adding the transformation functions\n",
    "    transform_variables=transform_variables,     \n",
    "    transform_objectives=transform_objectives\n",
    ")"
   ]
  },
  {
   "cell_type": "code",
   "execution_count": 18,
   "id": "5b86e87e",
   "metadata": {
    "pycharm": {
     "name": "#%%\n"
    }
   },
   "outputs": [
    {
     "data": {
      "text/plain": "(<RealSingleObjectiveProblem 1121. StyblinskiTang (iid=1 dim=10)>,\n <RealSingleObjectiveProblem 1121. StyblinskiTang (iid=2 dim=10)>)"
     },
     "execution_count": 18,
     "metadata": {},
     "output_type": "execute_result"
    }
   ],
   "source": [
    "# We can now create different instances of the same problem\n",
    "instance1 = ioh.get_problem(\"StyblinskiTang\", instance=1, dimension=10)\n",
    "instance2 = ioh.get_problem(\"StyblinskiTang\", instance=2, dimension=10)\n",
    "instance1, instance2"
   ]
  },
  {
   "cell_type": "code",
   "execution_count": 19,
   "id": "e20b5d6b",
   "metadata": {
    "pycharm": {
     "name": "#%%\n"
    }
   },
   "outputs": [
    {
     "data": {
      "text/plain": "(-118.79046750865781, -206.07537169961742)"
     },
     "execution_count": 19,
     "metadata": {},
     "output_type": "execute_result"
    }
   ],
   "source": [
    "# Note that when evaluating with the same point, each instance gives a different (transformed value)\n",
    "instance1(x0), instance2(x0)"
   ]
  },
  {
   "attachments": {},
   "cell_type": "markdown",
   "id": "021fac60",
   "metadata": {
    "pycharm": {
     "name": "#%% md\n"
    }
   },
   "source": [
    "# Logging data\n",
    "The default usage of IOHExperimenter is in generating logs of benchmarking experiments which can be analyzed in IOHAnalyzer. "
   ]
  },
  {
   "cell_type": "code",
   "execution_count": 20,
   "id": "b5d4b73d",
   "metadata": {
    "pycharm": {
     "name": "#%%\n"
    }
   },
   "outputs": [
    {
     "data": {
      "text/plain": "<Analyzer D:/42/Final/Code_Project/EA_submodular/my-experiment>"
     },
     "execution_count": 20,
     "metadata": {},
     "output_type": "execute_result"
    }
   ],
   "source": [
    "import os\n",
    "\n",
    "logger = ioh.logger.Analyzer(\n",
    "    root=os.getcwd(),                  # Store data in the current working directory\n",
    "    folder_name=\"my-experiment\",       # in a folder named: 'my-experiment'\n",
    "    algorithm_name=\"random-search\",    # meta-data for the algorithm used to generate these results\n",
    "    store_positions=True               # store x-variables in the logged files\n",
    ")\n",
    "\n",
    "# this automatically creates a folder 'my-experiment' in the current working directory\n",
    "# if the folder already exists, it will given an additional number to make the name unique\n",
    "logger"
   ]
  },
  {
   "cell_type": "code",
   "execution_count": 21,
   "id": "e008c25a",
   "metadata": {
    "pycharm": {
     "name": "#%%\n"
    }
   },
   "outputs": [
    {
     "name": "stdout",
     "output_type": "stream",
     "text": [
      ".git\n",
      ".gitignore\n",
      ".idea\n",
      "algorithm.py\n",
      "example\n",
      "HammingWrong结果大多数情况下比HammingCorrect要好.txt\n",
      "ioh.ipynb\n",
      "max_cut_graph.py\n",
      "MC_Jiao回档，此算法波动性极大，有时候非常好.txt\n",
      "my-experiment\n",
      "Random-MC-30151-B=7，居然有447，带交配算法稳定产446，偶见447.PNG\n",
      "readme\n",
      "te.py\n",
      "testt.ipynb\n",
      "tutorial.ipynb\n",
      "不要让slot跨Budget，就不会丢解.txt\n",
      "图书馆运行记录.txt\n"
     ]
    }
   ],
   "source": [
    "ls()"
   ]
  },
  {
   "cell_type": "code",
   "execution_count": 22,
   "id": "276c6a7b",
   "metadata": {
    "pycharm": {
     "name": "#%%\n"
    }
   },
   "outputs": [
    {
     "name": "stdout",
     "output_type": "stream",
     "text": [
      "run: 1 - best found:-50.338\n"
     ]
    }
   ],
   "source": [
    "# In order to log data for a problem, we only have to attach it to a logger\n",
    "problem = ioh.get_problem(\"StyblinskiTang\", instance=1, dimension=2)\n",
    "problem.attach_logger(logger)\n",
    "\n",
    "# We can then run the random search as before, only now all data will be logged to a file\n",
    "run_experiment(problem, RandomSearch(10), n_runs=1)\n",
    "\n",
    "# Force logger to flush and write files. (> v0.3.3)\n",
    "# This is only required when using the logger in an interactive context, such as this jupyter notebook.\n",
    "# Otherwise, the destructor, which is called on exit of the python interpreter, forces such a write automatically.\n",
    "logger.close()"
   ]
  },
  {
   "cell_type": "code",
   "execution_count": 23,
   "id": "d5bdef3a-7c8b-4846-a8e8-53bff6042643",
   "metadata": {
    "pycharm": {
     "name": "#%%\n"
    }
   },
   "outputs": [
    {
     "data": {
      "text/plain": "1121"
     },
     "execution_count": 23,
     "metadata": {},
     "output_type": "execute_result"
    }
   ],
   "source": [
    "StyblinskiTang_function_identifier = max(ioh.problem.RealSingleObjective.problems.keys())\n",
    "StyblinskiTang_function_identifier"
   ]
  },
  {
   "cell_type": "code",
   "execution_count": 24,
   "id": "4207c311",
   "metadata": {
    "pycharm": {
     "name": "#%%\n"
    }
   },
   "outputs": [
    {
     "name": "stdout",
     "output_type": "stream",
     "text": [
      "{\n",
      "\t\"version\": \"0.3.16\", \n",
      "\t\"suite\": \"unknown_suite\", \n",
      "\t\"function_id\": 1121, \n",
      "\t\"function_name\": \"StyblinskiTang\", \n",
      "\t\"maximization\": false, \n",
      "\t\"algorithm\": {\"name\": \"random-search\", \"info\": \"algorithm_info\"},\n",
      "\t\"attributes\": [\"evaluations\", \"raw_y\"],\n",
      "\t\"scenarios\": [\n",
      "\t\t{\"dimension\": 2,\n",
      "\t\t\"path\": \"data_f1121_StyblinskiTang/IOHprofiler_f1121_DIM2.dat\",\n",
      "\t\t\"runs\": [\n",
      "\t\t\t{\"instance\": 1, \"evals\": 10, \"best\": {\"evals\": 2, \"y\": -50.338112418388675, \"x\": [-2.3005828979405774, -1.3477674786718117]}}\n",
      "\t\t]}\n",
      "\t]\n",
      "}\n",
      "\n"
     ]
    }
   ],
   "source": [
    "cat(f\"my-experiment/IOHprofiler_f{StyblinskiTang_function_identifier}_StyblinskiTang.json\")"
   ]
  },
  {
   "cell_type": "code",
   "execution_count": 25,
   "id": "d820be5c",
   "metadata": {
    "pycharm": {
     "name": "#%%\n"
    }
   },
   "outputs": [
    {
     "name": "stdout",
     "output_type": "stream",
     "text": [
      "evaluations raw_y x0 x1\n",
      "1 -10.7621538730 0.645947 1.320347\n",
      "2 -50.3381124184 -2.300583 -1.347767\n",
      "10 27.1417699478 3.117619 -4.655687\n",
      "\n"
     ]
    }
   ],
   "source": [
    "cat(f\"my-experiment/data_f{StyblinskiTang_function_identifier}_StyblinskiTang/IOHprofiler_f{StyblinskiTang_function_identifier}_DIM2.dat\")"
   ]
  },
  {
   "attachments": {},
   "cell_type": "markdown",
   "id": "7da18cd9",
   "metadata": {
    "pycharm": {
     "name": "#%% md\n"
    }
   },
   "source": [
    "## Triggers \n",
    "The default behavior of the `Analyzer` logger is to log data only when there is an improvement of the objective value. We can change this behaviour, by specifying one or more triggers, which are logical operators, which when one of them evaluates to True, will cause data to be logged.\n",
    "\n",
    "We provide a number of trigger variants which can be use to customize the logging. In the following example, a trigger is defined which evaluates to True, every 3 function evaluations. It is combined with a trigger for improvement, so data will be logged on every 3rd function evaluation, or when there is an observed improvement of the objective value"
   ]
  },
  {
   "cell_type": "code",
   "execution_count": 26,
   "id": "3673e717",
   "metadata": {
    "pycharm": {
     "name": "#%%\n"
    }
   },
   "outputs": [
    {
     "data": {
      "text/plain": "<Analyzer D:/42/Final/Code_Project/EA_submodular/my-experiment-1>"
     },
     "execution_count": 26,
     "metadata": {},
     "output_type": "execute_result"
    }
   ],
   "source": [
    "triggers = [\n",
    "    ioh.logger.trigger.Each(3),\n",
    "    ioh.logger.trigger.OnImprovement()\n",
    "]\n",
    "\n",
    "logger = ioh.logger.Analyzer(\n",
    "    root=os.getcwd(),                  \n",
    "    folder_name=\"my-experiment\",       \n",
    "    algorithm_name=\"random-search\",    \n",
    "    store_positions=True,\n",
    "    \n",
    "    # Add the triggers to the logger\n",
    "    triggers = triggers\n",
    ")\n",
    "\n",
    "logger"
   ]
  },
  {
   "cell_type": "code",
   "execution_count": 27,
   "id": "f8720851",
   "metadata": {
    "pycharm": {
     "name": "#%%\n"
    }
   },
   "outputs": [
    {
     "name": "stdout",
     "output_type": "stream",
     "text": [
      "run: 1 - best found:-66.649\n"
     ]
    }
   ],
   "source": [
    "# Rerun the same experiment as before\n",
    "problem = ioh.get_problem(\"StyblinskiTang\", instance=1, dimension=2)\n",
    "problem.attach_logger(logger)\n",
    "run_experiment(problem, RandomSearch(10), n_runs=1)\n",
    "logger.close()"
   ]
  },
  {
   "cell_type": "code",
   "execution_count": 28,
   "id": "0eb16b3e",
   "metadata": {
    "pycharm": {
     "name": "#%%\n"
    }
   },
   "outputs": [
    {
     "name": "stdout",
     "output_type": "stream",
     "text": [
      "evaluations raw_y x0 x1\n",
      "1 -20.9056357747 0.768005 3.356259\n",
      "3 -39.2728465389 -1.281810 2.508948\n",
      "6 -47.2012662191 -3.978342 -2.430608\n",
      "8 -66.6490863675 -3.369383 -2.160306\n",
      "9 -12.6882948745 3.567303 -0.191676\n",
      "10 -50.7052367615 -2.387019 -3.906859\n",
      "\n"
     ]
    }
   ],
   "source": [
    "# We can now see that data is logged either if there is improvement, or on every 3rd evaluation\n",
    "cat(f\"my-experiment-1/data_f{StyblinskiTang_function_identifier}_StyblinskiTang/IOHprofiler_f{StyblinskiTang_function_identifier}_DIM2.dat\")"
   ]
  },
  {
   "attachments": {},
   "cell_type": "markdown",
   "id": "3ebb4607",
   "metadata": {
    "pycharm": {
     "name": "#%% md\n"
    }
   },
   "source": [
    "## Properties\n",
    "If we want to keep track of any dynamic parameters a given algorithm might have, we can use properties to log them to the output files. \n",
    "\n",
    "In the following example, we will track the length parameters for the RandomSearch algorithm, which is added for illustrative purpoposes, and changes for every function evaluation"
   ]
  },
  {
   "cell_type": "code",
   "execution_count": 29,
   "id": "d3a125d6",
   "metadata": {
    "pycharm": {
     "name": "#%%\n"
    }
   },
   "outputs": [
    {
     "name": "stdout",
     "output_type": "stream",
     "text": [
      "run: 1 - best found:-57.121\n"
     ]
    }
   ],
   "source": [
    "# RandomSearch has a length parameter, which is dynamic\n",
    "algorithm = RandomSearch(10)\n",
    "\n",
    "# Creating a new logger\n",
    "logger = ioh.logger.Analyzer(\n",
    "    root=os.getcwd(),                  \n",
    "    folder_name=\"my-experiment\",       \n",
    "    algorithm_name=\"random-search\",    \n",
    "    store_positions=True\n",
    ")\n",
    "\n",
    "# Before we attach a problem, we tell the logger to keep track of the length parameter on algorithm\n",
    "logger.watch(algorithm, \"length\")\n",
    "\n",
    "# We can now again run the same experiment \n",
    "problem = ioh.get_problem(\"StyblinskiTang\", instance=1, dimension=2)\n",
    "\n",
    "problem.attach_logger(logger)\n",
    "run_experiment(problem, algorithm, n_runs=1)\n",
    "logger.close()"
   ]
  },
  {
   "cell_type": "code",
   "execution_count": 30,
   "id": "103e13cb",
   "metadata": {
    "pycharm": {
     "name": "#%%\n"
    }
   },
   "outputs": [
    {
     "name": "stdout",
     "output_type": "stream",
     "text": [
      "evaluations raw_y length x0 x1\n",
      "1 -21.8464135836 2.1117709212 2.085005 -0.335158\n",
      "2 -33.2105297646 3.2358584917 3.077691 -0.999298\n",
      "9 -57.1208738575 3.4215654128 2.632257 -2.185940\n",
      "10 59.3284490187 4.5588119397 -0.236681 4.552664\n",
      "\n"
     ]
    }
   ],
   "source": [
    "# Note the additional length parameter being logged \n",
    "cat(f\"my-experiment-2/data_f{StyblinskiTang_function_identifier}_StyblinskiTang/IOHprofiler_f{StyblinskiTang_function_identifier}_DIM2.dat\")"
   ]
  },
  {
   "attachments": {},
   "cell_type": "markdown",
   "id": "7e2642f5",
   "metadata": {
    "pycharm": {
     "name": "#%% md\n"
    }
   },
   "source": [
    "# Alternate logging behaviour\n",
    "We provide a number of different loggers in addition to the `Analyzer` logger, which include:\n",
    " - `FlatFile` which logs data to a simple csv file\n",
    " - `Store` which keeps all of the stored data in memory\n",
    " - `EAF/EAH` which compute Empirical Attainment Function/Histogram statistics on the fly\n",
    "\n",
    "You can define your own custom logging behavoir by inheriting from the `AbstractLogger` class. The only required part of the interface is that you override the `__call__` operator, which takes a single `ioh.LogInfo` parameter. In this method you should define your desired behavior. "
   ]
  },
  {
   "cell_type": "code",
   "execution_count": 31,
   "id": "bad5d7de",
   "metadata": {
    "pycharm": {
     "name": "#%%\n"
    }
   },
   "outputs": [
    {
     "name": "stdout",
     "output_type": "stream",
     "text": [
      "triggered! y: -49.04196914784783\n",
      "triggered! y: 4.4722875057526466\n",
      "triggered! y: -46.81317557022521\n",
      "triggered! y: 97.23616621854518\n",
      "triggered! y: 16.39420462460196\n",
      "triggered! y: -3.726603314278862\n",
      "triggered! y: 69.14350960809308\n",
      "triggered! y: -2.8430666649021283\n",
      "triggered! y: 5.937275063985734\n",
      "triggered! y: 21.76879757978923\n",
      "run: 1 - best found:-49.042\n"
     ]
    }
   ],
   "source": [
    "# Simple logger that logs data using the python logging module whenever it is triggeredd\n",
    "class MyLogger(ioh.logger.AbstractLogger):\n",
    "    def __call__(self, log_info: ioh.LogInfo):\n",
    "        print(f\"triggered! y: {log_info.y}\")\n",
    "\n",
    "\n",
    "# The abstract logger takes two parameters, triggers and properties\n",
    "mylogger = MyLogger(triggers=[ioh.logger.trigger.ALWAYS])\n",
    "\n",
    "problem = ioh.get_problem(\"StyblinskiTang\", instance=1, dimension=2)\n",
    "problem.attach_logger(mylogger)\n",
    "\n",
    "run_experiment(problem, RandomSearch(10), 1)"
   ]
  },
  {
   "attachments": {},
   "cell_type": "markdown",
   "id": "0b163d3e",
   "metadata": {
    "pycharm": {
     "name": "#%% md\n"
    }
   },
   "source": [
    "# Standardized Experimental Setup (Python only)\n",
    "In Python, we provide the `Experiment` class which can be used to easily run a given algorithm over a larger number of problems. "
   ]
  },
  {
   "cell_type": "code",
   "execution_count": 32,
   "id": "84f169dc",
   "metadata": {
    "pycharm": {
     "name": "#%%\n"
    }
   },
   "outputs": [],
   "source": [
    "experiment = ioh.Experiment(\n",
    "    algorithm = RandomSearch(10), # An algorithm instance\n",
    "    fids = [1, StyblinskiTang_function_identifier],               # the id's of the problems we want to test\n",
    "    iids = [1, 10],               # the instances \n",
    "    dims = [2, 10],               # the dimensions\n",
    "    reps = 3,                     # the number of runs,\n",
    "    zip_output = True,\n",
    "    old_logger = True       \n",
    ")"
   ]
  },
  {
   "cell_type": "code",
   "execution_count": 33,
   "id": "9d116207",
   "metadata": {
    "pycharm": {
     "name": "#%%\n"
    }
   },
   "outputs": [
    {
     "data": {
      "text/plain": "<ioh.Experiment at 0x201d24bd2b0>"
     },
     "execution_count": 33,
     "metadata": {},
     "output_type": "execute_result"
    }
   ],
   "source": [
    "experiment.run()"
   ]
  },
  {
   "cell_type": "code",
   "execution_count": 34,
   "id": "3adf7ee0",
   "metadata": {
    "pycharm": {
     "name": "#%%\n"
    }
   },
   "outputs": [
    {
     "name": "stdout",
     "output_type": "stream",
     "text": [
      "data_f1121_StyblinskiTang\n",
      "data_f1_Sphere\n",
      "IOHprofiler_f1121_StyblinskiTang.info\n",
      "IOHprofiler_f1_Sphere.info\n"
     ]
    }
   ],
   "source": [
    "ls(\"ioh_data\")"
   ]
  },
  {
   "cell_type": "code",
   "execution_count": 35,
   "id": "424db49c",
   "metadata": {
    "pycharm": {
     "name": "#%%\n"
    }
   },
   "outputs": [],
   "source": [
    "clean()"
   ]
  },
  {
   "cell_type": "code",
   "execution_count": 36,
   "id": "675c09cb",
   "metadata": {
    "pycharm": {
     "name": "#%%\n"
    }
   },
   "outputs": [],
   "source": [
    "# cleanup\n",
    "rmtree(\"my-experiment\", ignore_errors=True)\n",
    "rmtree(\"ioh_data\", ignore_errors=True)"
   ]
  },
  {
   "attachments": {},
   "cell_type": "markdown",
   "id": "f2b194f1",
   "metadata": {
    "pycharm": {
     "name": "#%% md\n"
    }
   },
   "source": [
    "# Working with constraints (> v0.3.3)\n",
    "Every problem has a set of constraints associated with it. For most of the currently implemented problems, this is an empty set by default. However, we can modify this set, and add arbitrary functions as constraints. "
   ]
  },
  {
   "cell_type": "code",
   "execution_count": 37,
   "id": "1165fc20",
   "metadata": {
    "pycharm": {
     "name": "#%%\n"
    }
   },
   "outputs": [
    {
     "data": {
      "text/plain": "<ConstraintSet: >"
     },
     "execution_count": 37,
     "metadata": {},
     "output_type": "execute_result"
    }
   ],
   "source": [
    "# We take the Shere function as example\n",
    "p = ioh.get_problem(\"Sphere\", 1, 2)\n",
    "\n",
    "# The set of constraints is empty by default\n",
    "p.constraints\n"
   ]
  },
  {
   "cell_type": "code",
   "execution_count": 38,
   "id": "67e63ea3",
   "metadata": {
    "pycharm": {
     "name": "#%%\n"
    }
   },
   "outputs": [
    {
     "name": "stdout",
     "output_type": "stream",
     "text": [
      "<BoxConstraint lb: [[-5, -5]] ub: [[5, 5]]>\n"
     ]
    },
    {
     "data": {
      "text/plain": "298.96209408"
     },
     "execution_count": 38,
     "metadata": {},
     "output_type": "execute_result"
    }
   ],
   "source": [
    "# We can turn the bounds of the problem into a contraint\n",
    "print(p.bounds)\n",
    "\n",
    "# By default, bounds are not enforced, so violating them changes nothing to the returned objective function value\n",
    "p([10, 10])"
   ]
  },
  {
   "cell_type": "code",
   "execution_count": 39,
   "id": "77a523d0",
   "metadata": {
    "pycharm": {
     "name": "#%%\n"
    }
   },
   "outputs": [
    {
     "data": {
      "text/plain": "<ConstraintSet: <BoxConstraint lb: [[-5, -5]] ub: [[5, 5]]>>"
     },
     "execution_count": 39,
     "metadata": {},
     "output_type": "execute_result"
    }
   ],
   "source": [
    "# For bound constraints, violation is computed as the sum of the squared violation per component\n",
    "p.enforce_bounds(\n",
    "    how=ioh.ConstraintEnforcement.SOFT, # The enforcement strategy: SOFT ensure penalization on violation by a penalty (y + p)\n",
    "    weight=1.0,                         # Penaly p is computed as: weight * violation ^ exponent                       \n",
    "    exponent=1.0,                        \n",
    ")\n",
    "# Now the bounds are in the constraint set\n",
    "p.constraints"
   ]
  },
  {
   "cell_type": "code",
   "execution_count": 40,
   "id": "2b1bc2cd",
   "metadata": {
    "pycharm": {
     "name": "#%%\n"
    }
   },
   "outputs": [
    {
     "data": {
      "text/plain": "348.96209408"
     },
     "execution_count": 40,
     "metadata": {},
     "output_type": "execute_result"
    }
   ],
   "source": [
    "# We can now observe the added penalty term\n",
    "p([10, 10]) "
   ]
  },
  {
   "cell_type": "code",
   "execution_count": 41,
   "id": "8cd91c34",
   "metadata": {
    "pycharm": {
     "name": "#%%\n"
    }
   },
   "outputs": [
    {
     "name": "stdout",
     "output_type": "stream",
     "text": [
      "ConstraintEnforcement.NOT 298.96209408 0.0\n",
      "ConstraintEnforcement.HIDDEN 298.96209408 50.0\n",
      "ConstraintEnforcement.SOFT 348.96209408 50.0\n",
      "ConstraintEnforcement.HARD 50.0 50.0\n"
     ]
    }
   ],
   "source": [
    "# There a several strategies that modify a constraint's behavoir:\n",
    "types = (\n",
    "    ioh.ConstraintEnforcement.NOT,       # Don't calulate the constraint function\n",
    "    ioh.ConstraintEnforcement.HIDDEN,    # Calulate the constraint, but don't penalize\n",
    "    ioh.ConstraintEnforcement.SOFT,      # Calculate both constraint and objective function value y, and penalize as y + p\n",
    "    ioh.ConstraintEnforcement.HARD,      # Calulate the constraint, if there is violation, don't calculate y, and only return p\n",
    ")\n",
    "for strategy in types:\n",
    "    p.enforce_bounds(how=strategy, weight=1.0, exponent=1.0)\n",
    "    print(strategy, p([10, 10]), p.constraints.violation())\n"
   ]
  },
  {
   "cell_type": "code",
   "execution_count": 42,
   "id": "d436d64c",
   "metadata": {
    "pycharm": {
     "name": "#%%\n"
    }
   },
   "outputs": [
    {
     "data": {
      "text/plain": "inf"
     },
     "execution_count": 42,
     "metadata": {},
     "output_type": "execute_result"
    }
   ],
   "source": [
    "# Note that when we use a HARD method, the objective value is actually lower (50.0) than the actual objective value (298.96)\n",
    "# This is because we didn't change any of the other parameters, that influence the penalty. Normally, with HARD constraints, we \n",
    "# want to also make sure that we return a y-value that is infeasible. We can do this by changing the weight and/or exponent parameters.\n",
    "p.enforce_bounds(\n",
    "    how=ioh.ConstraintEnforcement.HARD, \n",
    "    weight=float(\"inf\"),                \n",
    "    exponent=1.0                        \n",
    ")\n",
    "\n",
    "# Any infeasible solution gets an infinity value\n",
    "p([10, 10])"
   ]
  },
  {
   "cell_type": "code",
   "execution_count": 43,
   "id": "967caa00",
   "metadata": {
    "pycharm": {
     "name": "#%%\n"
    }
   },
   "outputs": [
    {
     "data": {
      "text/plain": "inf"
     },
     "execution_count": 43,
     "metadata": {},
     "output_type": "execute_result"
    }
   ],
   "source": [
    "# Note that the actual objective function is not called for infeasible points with HARD constraints:\n",
    "p.state.y_unconstrained"
   ]
  },
  {
   "cell_type": "code",
   "execution_count": 44,
   "id": "08f50677",
   "metadata": {
    "pycharm": {
     "name": "#%%\n"
    }
   },
   "outputs": [
    {
     "data": {
      "text/plain": "(80.06289408, 80.06289408)"
     },
     "execution_count": 44,
     "metadata": {},
     "output_type": "execute_result"
    }
   ],
   "source": [
    "# If we pass a feasible point it is evaluated\n",
    "p([1.,-1.]), p.state.y_unconstrained"
   ]
  },
  {
   "attachments": {},
   "cell_type": "markdown",
   "id": "0cd768e3",
   "metadata": {
    "pycharm": {
     "name": "#%% md\n"
    }
   },
   "source": [
    "### Custom constraint functions"
   ]
  },
  {
   "cell_type": "code",
   "execution_count": 45,
   "id": "74a98dc3",
   "metadata": {
    "pycharm": {
     "name": "#%%\n"
    }
   },
   "outputs": [
    {
     "name": "stdout",
     "output_type": "stream",
     "text": [
      "1.0\n",
      "0.0\n"
     ]
    }
   ],
   "source": [
    "# We can create custom constraint functions, which can be 'just' functions that check something on x.\n",
    "# Such functions should return a nonzero floating point value when there is violation, and zero otherwise. \n",
    "\n",
    "def is_x_ordered(x: np.ndarray) -> float:\n",
    "    '''Checks that xi < xi+1'''\n",
    "\n",
    "    return 1. - (np.diff(x) > 0).all().astype(float)\n",
    "\n",
    "# x is not ordered, so there is a violation (1.)\n",
    "print(is_x_ordered([10, 1, 3]))\n",
    "\n",
    "# x is ordered, so there is no violation (0.)\n",
    "print(is_x_ordered([1, 3, 10]))"
   ]
  },
  {
   "cell_type": "code",
   "execution_count": 46,
   "id": "e3375039",
   "metadata": {
    "pycharm": {
     "name": "#%%\n"
    }
   },
   "outputs": [
    {
     "data": {
      "text/plain": "<ConstraintSet: <FunctionalConstraint is_x_ordered>>"
     },
     "execution_count": 46,
     "metadata": {},
     "output_type": "execute_result"
    }
   ],
   "source": [
    "# We can add such a function to an arbitary problem as constraint like so:\n",
    "constraint = ioh.RealConstraint(is_x_ordered, name=\"is_x_ordered\", weight=100_000)\n",
    "\n",
    "p = ioh.get_problem(\"Sphere\", 1, 3)\n",
    "p.add_constraint(constraint)\n",
    "\n",
    "# Note that it gets added to the list of constraints. \n",
    "p.constraints "
   ]
  },
  {
   "cell_type": "code",
   "execution_count": 47,
   "id": "a4927b59",
   "metadata": {
    "pycharm": {
     "name": "#%%\n"
    }
   },
   "outputs": [
    {
     "name": "stdout",
     "output_type": "stream",
     "text": [
      "100112.04147008\n",
      "119.63347008000001\n"
     ]
    }
   ],
   "source": [
    "print(p([4, 1, 3]))  # The penalty gets added \n",
    "print(p([1, 3, 4]))  # The penalty doesn't get added"
   ]
  },
  {
   "cell_type": "code",
   "execution_count": 48,
   "id": "1991b5b7",
   "metadata": {
    "pycharm": {
     "name": "#%%\n"
    }
   },
   "outputs": [
    {
     "data": {
      "text/plain": "<ConstraintSet: >"
     },
     "execution_count": 48,
     "metadata": {},
     "output_type": "execute_result"
    }
   ],
   "source": [
    "# We can remove the contraint again\n",
    "p.remove_constraint(constraint)\n",
    "p.constraints"
   ]
  },
  {
   "attachments": {},
   "cell_type": "markdown",
   "id": "00ad93ab",
   "metadata": {
    "pycharm": {
     "name": "#%% md\n"
    }
   },
   "source": [
    "### Wrapping constraints"
   ]
  },
  {
   "cell_type": "code",
   "execution_count": 49,
   "id": "8ae27408",
   "metadata": {
    "pycharm": {
     "name": "#%%\n"
    }
   },
   "outputs": [],
   "source": [
    "# We can also add constraints to the problem definition to wrap problem\n",
    "ioh.problem.wrap_real_problem(\n",
    "    styblinski_tang,                                     \n",
    "    name=\"StyblinskiTang\",                               \n",
    "    optimization_type=ioh.OptimizationType.MIN, \n",
    "    lb=-5,                                              \n",
    "    ub=5,   \n",
    "    # Adding the constraints                                            \n",
    "    constraints=[constraint]\n",
    ")"
   ]
  },
  {
   "cell_type": "code",
   "execution_count": 50,
   "id": "2150cffd",
   "metadata": {
    "pycharm": {
     "name": "#%%\n"
    }
   },
   "outputs": [
    {
     "data": {
      "text/plain": "<ConstraintSet: <FunctionalConstraint is_x_ordered>>"
     },
     "execution_count": 50,
     "metadata": {},
     "output_type": "execute_result"
    }
   ],
   "source": [
    "# Now if we instantiate an instance of the Styblinski-Tang function, is has the x_ordering constraint added automatically\n",
    "p = ioh.get_problem(\"StyblinskiTang\", 1, 5)\n",
    "p.constraints"
   ]
  },
  {
   "attachments": {},
   "cell_type": "markdown",
   "id": "23e11cb6",
   "metadata": {
    "pycharm": {
     "name": "#%% md\n"
    }
   },
   "source": [
    "### Logging constraints"
   ]
  },
  {
   "cell_type": "code",
   "execution_count": 51,
   "id": "4bf8b3b6",
   "metadata": {
    "pycharm": {
     "name": "#%%\n"
    }
   },
   "outputs": [
    {
     "name": "stdout",
     "output_type": "stream",
     "text": [
      "run: 1 - best found:-9.677\n"
     ]
    }
   ],
   "source": [
    "# Creating a new logger\n",
    "logger = ioh.logger.Analyzer(\n",
    "    root=os.getcwd(),                  \n",
    "    folder_name=\"my-experiment\",       \n",
    "    algorithm_name=\"random-search\",    \n",
    "    store_positions=True,\n",
    "    \n",
    "    # We add the constraint properties to the list of logged items\n",
    "    # Note that these properties are aggregated values for ALL applied constrains, \n",
    "    # So when you have more than one constraint added to a problem, these values will be the sums\n",
    "    # of all the applied constraints. \n",
    "    additional_properties=[\n",
    "        ioh.logger.property.CURRENTY,   # The constrained y-value, by default only the untransformed & unconstraint y\n",
    "                                        # value is logged. \n",
    "        ioh.logger.property.VIOLATION,  # The violation value\n",
    "        ioh.logger.property.PENALTY     # The applied penalty\n",
    "    ]\n",
    ")\n",
    "\n",
    "# We can now again run the same experiment \n",
    "problem = ioh.get_problem(\"StyblinskiTang\", instance=1, dimension=2)\n",
    "\n",
    "problem.attach_logger(logger)\n",
    "run_experiment(problem, RandomSearch(10), n_runs=1)\n",
    "logger.close()"
   ]
  },
  {
   "cell_type": "code",
   "execution_count": 52,
   "id": "34932bbb",
   "metadata": {
    "pycharm": {
     "name": "#%%\n"
    }
   },
   "outputs": [
    {
     "name": "stdout",
     "output_type": "stream",
     "text": [
      "{\n",
      "\t\"version\": \"0.3.16\", \n",
      "\t\"suite\": \"unknown_suite\", \n",
      "\t\"function_id\": 1121, \n",
      "\t\"function_name\": \"StyblinskiTang\", \n",
      "\t\"maximization\": false, \n",
      "\t\"algorithm\": {\"name\": \"random-search\", \"info\": \"algorithm_info\"},\n",
      "\t\"attributes\": [\"evaluations\", \"raw_y\", \"current_y\", \"violation\", \"penalty\"],\n",
      "\t\"scenarios\": [\n",
      "\t\t{\"dimension\": 2,\n",
      "\t\t\"path\": \"data_f1121_StyblinskiTang/IOHprofiler_f1121_DIM2.dat\",\n",
      "\t\t\"runs\": [\n",
      "\t\t\t{\"instance\": 1, \"evals\": 10, \"best\": {\"evals\": 3, \"y\": -42.91898216591834, \"x\": [-3.7203195469929815, -3.843497981758104]}}\n",
      "\t\t]}\n",
      "\t]\n",
      "}\n",
      "\n",
      "evaluations raw_y current_y violation penalty x0 x1\n",
      "1 -12.2373803254 99987.7626196746 1.0000000000 100000.0000000000 0.237906 -3.960267\n",
      "3 -42.9189821659 99957.0810178341 1.0000000000 100000.0000000000 -3.720320 -3.843498\n",
      "4 -9.6773254328 -9.6773254328 0.0000000000 0.0000000000 0.558100 1.284656\n",
      "10 -37.8220599847 99962.1779400153 1.0000000000 100000.0000000000 1.756840 -3.766370\n",
      "\n"
     ]
    }
   ],
   "source": [
    "cat(f\"my-experiment/IOHprofiler_f{StyblinskiTang_function_identifier}_StyblinskiTang.json\")\n",
    "cat(f\"my-experiment/data_f{StyblinskiTang_function_identifier}_StyblinskiTang/IOHprofiler_f{StyblinskiTang_function_identifier}_DIM2.dat\")"
   ]
  },
  {
   "cell_type": "code",
   "execution_count": 53,
   "id": "4f8d16a6",
   "metadata": {
    "pycharm": {
     "name": "#%%\n"
    }
   },
   "outputs": [],
   "source": [
    "clean()"
   ]
  }
 ],
 "metadata": {
  "kernelspec": {
   "display_name": "Python 3 (ipykernel)",
   "language": "python",
   "name": "python3"
  },
  "language_info": {
   "codemirror_mode": {
    "name": "ipython",
    "version": 3
   },
   "file_extension": ".py",
   "mimetype": "text/x-python",
   "name": "python",
   "nbconvert_exporter": "python",
   "pygments_lexer": "ipython3",
   "version": "3.9.18"
  },
  "vscode": {
   "interpreter": {
    "hash": "4df11b7c6bc988e752c29608807e53948928701720d1ef956f7ac1d1074d71bd"
   }
  },
  "widgets": {
   "application/vnd.jupyter.widget-state+json": {
    "state": {},
    "version_major": 2,
    "version_minor": 0
   }
  }
 },
 "nbformat": 4,
 "nbformat_minor": 5
}