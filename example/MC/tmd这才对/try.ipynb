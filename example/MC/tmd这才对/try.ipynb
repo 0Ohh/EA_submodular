{
 "cells": [
  {
   "cell_type": "code",
   "execution_count": 47,
   "id": "initial_id",
   "metadata": {
    "collapsed": true,
    "ExecuteTime": {
     "end_time": "2024-05-25T08:36:09.760337600Z",
     "start_time": "2024-05-25T08:36:09.709727700Z"
    }
   },
   "outputs": [
    {
     "name": "stdout",
     "output_type": "stream",
     "text": [
      "The autoreload extension is already loaded. To reload it, use:\n",
      "  %reload_ext autoreload\n"
     ]
    },
    {
     "data": {
      "text/plain": "2819"
     },
     "execution_count": 47,
     "metadata": {},
     "output_type": "execute_result"
    }
   ],
   "source": [
    "%load_ext autoreload\n",
    "%autoreload 2\n",
    "import coverage\n",
    "import numpy as np\n",
    "\n",
    "graph = np.zeros([450, 450], dtype='int')\n",
    "with open('frb30-15-1.mis', 'r') as f:\n",
    "    lines = f.readlines()\n",
    "    for l in lines:\n",
    "        a, b = l.split(' ')\n",
    "        a, b = int(a)-1, int(b)-1\n",
    "        graph[a, b] = 1\n",
    "        graph[b, a] = 1\n",
    "    f.close()\n",
    "\n",
    "ci = np.sum(graph, axis=0)   # degree of each node\n",
    "quadra_1_ci = np.square(ci) + 1\n",
    "x = np.zeros(450, 'int')\n",
    "x[[0, 1]] = 1\n",
    "np.dot(x, quadra_1_ci)"
   ]
  },
  {
   "cell_type": "code",
   "execution_count": 48,
   "outputs": [
    {
     "name": "stdout",
     "output_type": "stream",
     "text": [
      "66\n"
     ]
    }
   ],
   "source": [
    "m = np.multiply(x, graph)\n",
    "neis = np.any(m > 0, axis=1).sum()\n",
    "print(neis)"
   ],
   "metadata": {
    "collapsed": false,
    "ExecuteTime": {
     "end_time": "2024-05-25T08:36:09.795081500Z",
     "start_time": "2024-05-25T08:36:09.759337200Z"
    }
   },
   "id": "5e32e4916d1eae1c"
  },
  {
   "cell_type": "code",
   "execution_count": 49,
   "outputs": [],
   "source": [
    "import numpy as np\n",
    "\n",
    "edges = []\n",
    "graph = np.zeros([450, 450], dtype='int')\n",
    "with open('frb30-15-1.mis', 'r') as f:\n",
    "    lines = f.readlines()\n",
    "    for l in lines:\n",
    "        a, b = l.split(' ')\n",
    "        a, b = int(a)-1, int(b)-1\n",
    "        edges.append((a, b))\n",
    "        \n",
    "        graph[a, b] = 1\n",
    "        graph[b, a] = 1\n",
    "    f.close()\n",
    "edges = np.array(edges)"
   ],
   "metadata": {
    "collapsed": false,
    "ExecuteTime": {
     "end_time": "2024-05-25T08:36:09.835686Z",
     "start_time": "2024-05-25T08:36:09.796119300Z"
    }
   },
   "id": "84acd1057ea7c2a1"
  },
  {
   "cell_type": "code",
   "execution_count": 50,
   "outputs": [],
   "source": [
    "\n",
    "ci = np.sum(graph, axis=0)   # degree of each node\n",
    "quadra_1_ci = np.square(ci) + 1\n",
    "\n",
    "def C(x):\n",
    "    # todo Quadra + 1\n",
    "    return np.dot(x, quadra_1_ci)\n",
    "\n",
    "    \n",
    "def F_ori(x):\n",
    "    m = np.multiply(x, graph)\n",
    "    neis = np.any(m > 0, axis=1).sum()\n",
    "    return neis\n",
    "    \n",
    "\n",
    "\n",
    "x = np.random.binomial(1, 0.01, 450)"
   ],
   "metadata": {
    "collapsed": false,
    "ExecuteTime": {
     "end_time": "2024-05-25T08:36:09.873075500Z",
     "start_time": "2024-05-25T08:36:09.836713500Z"
    }
   },
   "id": "82cfdc3167d249fb"
  },
  {
   "cell_type": "code",
   "execution_count": 51,
   "outputs": [],
   "source": [
    "\n",
    "for _ in range(10_0000):\n",
    "    coverage.F(x)\n",
    "    "
   ],
   "metadata": {
    "collapsed": false,
    "ExecuteTime": {
     "end_time": "2024-05-25T08:36:19.680656500Z",
     "start_time": "2024-05-25T08:36:09.872044800Z"
    }
   },
   "id": "612cad8eb7fbb659"
  },
  {
   "cell_type": "code",
   "execution_count": 52,
   "outputs": [],
   "source": [
    "for _ in range(10_0000):\n",
    "    F_ori(x)"
   ],
   "metadata": {
    "collapsed": false,
    "ExecuteTime": {
     "end_time": "2024-05-25T08:36:29.220408Z",
     "start_time": "2024-05-25T08:36:19.681719200Z"
    }
   },
   "id": "846631aed008c7d0"
  },
  {
   "cell_type": "code",
   "execution_count": 53,
   "outputs": [
    {
     "data": {
      "text/plain": "9439"
     },
     "execution_count": 53,
     "metadata": {},
     "output_type": "execute_result"
    }
   ],
   "source": [
    "coverage.C(x)"
   ],
   "metadata": {
    "collapsed": false,
    "ExecuteTime": {
     "end_time": "2024-05-25T08:50:02.994594700Z",
     "start_time": "2024-05-25T08:50:02.944817500Z"
    }
   },
   "id": "cac5824afe4786ab"
  }
 ],
 "metadata": {
  "kernelspec": {
   "display_name": "Python 3",
   "language": "python",
   "name": "python3"
  },
  "language_info": {
   "codemirror_mode": {
    "name": "ipython",
    "version": 2
   },
   "file_extension": ".py",
   "mimetype": "text/x-python",
   "name": "python",
   "nbconvert_exporter": "python",
   "pygments_lexer": "ipython2",
   "version": "2.7.6"
  }
 },
 "nbformat": 4,
 "nbformat_minor": 5
}
