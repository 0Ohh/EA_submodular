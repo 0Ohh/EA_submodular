{
 "cells": [
  {
   "cell_type": "code",
   "execution_count": 1,
   "metadata": {
    "ExecuteTime": {
     "end_time": "2024-05-23T05:53:46.537162500Z",
     "start_time": "2024-05-23T05:53:46.336564400Z"
    },
    "collapsed": true,
    "pycharm": {
     "name": "#%%\n"
    }
   },
   "outputs": [
    {
     "name": "stdout",
     "output_type": "stream",
     "text": [
      "0.599782\n",
      "[[1 1 1 ... 0 0 1]]\n",
      "0.420078\n",
      "True\n",
      "0.499594\n",
      " [0 1 1 ... 0 0 0]\n",
      "0.7097046666666667\n",
      "[[0 1 1 ... 0 0 1]]\n"
     ]
    }
   ],
   "source": [
    "import time\n",
    "\n",
    "import numpy as np\n",
    "lenth = 1500000\n",
    "s = np.mat(np.random.binomial(1, 0.6, lenth))\n",
    "print(s.sum()/lenth)\n",
    "print(s)\n",
    "\n",
    "s_ori = np.copy(s)\n",
    "\n",
    "change1_to_0 = (1 - np.random.binomial(1, 0.3, lenth))\n",
    "s = np.multiply(s, change1_to_0)\n",
    "print(s.sum()/lenth)\n",
    "check = np.multiply((1 - s), (1 - s_ori))\n",
    "print(np.all((1 - s_ori) == check))\n",
    "\n",
    "def f_1_to_0(sin, change1_to_0):\n",
    "    change1_to_0 = 1- change1_to_0\n",
    "    return np.multiply(sin, change1_to_0)\n",
    "\n",
    "change0_to_1 = np.random.binomial(1, 0.5, lenth)\n",
    "print(change0_to_1.sum() / lenth)\n",
    "print('', change0_to_1)\n",
    "s = 1 - f_1_to_0(1-s, change0_to_1)\n",
    "print(s.sum()/lenth)\n",
    "print(s)"
   ]
  },
  {
   "cell_type": "code",
   "execution_count": 2,
   "metadata": {
    "ExecuteTime": {
     "end_time": "2024-05-23T05:53:46.544970300Z",
     "start_time": "2024-05-23T05:53:46.538214400Z"
    },
    "collapsed": false,
    "pycharm": {
     "name": "#%%\n"
    }
   },
   "outputs": [
    {
     "name": "stdout",
     "output_type": "stream",
     "text": [
      "[[0 1 1 1]]\n"
     ]
    }
   ],
   "source": [
    "s = np.mat([0,0,1,1])\n",
    "change0_to_1 = np.array([1, 0, 1, 0])\n",
    "s = 1 - s\n",
    "s = np.multiply(s, change0_to_1)\n",
    "s = 1 - s\n",
    "print(s)"
   ]
  },
  {
   "cell_type": "code",
   "execution_count": null,
   "metadata": {
    "collapsed": false,
    "pycharm": {
     "name": "#%%\n"
    }
   },
   "outputs": [],
   "source": [
    "np.inf == np.inf"
   ]
  },
  {
   "cell_type": "code",
   "execution_count": null,
   "metadata": {
    "collapsed": false,
    "pycharm": {
     "name": "#%%\n"
    }
   },
   "outputs": [],
   "source": [
    "popu = np.mat(np.random.binomial(1, 0.5, 100), 'int8')\n",
    "print(popu)"
   ]
  },
  {
   "cell_type": "code",
   "execution_count": null,
   "metadata": {
    "collapsed": false,
    "pycharm": {
     "name": "#%%\n"
    }
   },
   "outputs": [],
   "source": [
    "sl_n = 10\n",
    "ind_n = 5\n",
    "popu_slots = np.array(np.zeros([sl_n, ind_n, 12], 'int8'))\n",
    "for i in range(0, sl_n):\n",
    "    for j in range(0, ind_n):\n",
    "        popu_slots[i, j, 0] = i*ind_n + j\n",
    "print(popu_slots)"
   ]
  },
  {
   "cell_type": "code",
   "execution_count": null,
   "metadata": {
    "collapsed": false,
    "pycharm": {
     "name": "#%%\n"
    }
   },
   "outputs": [],
   "source": []
  },
  {
   "cell_type": "code",
   "execution_count": null,
   "metadata": {
    "collapsed": false,
    "pycharm": {
     "name": "#%%\n"
    }
   },
   "outputs": [],
   "source": [
    "ran_indic = 22\n",
    "si = ran_indic // ind_n\n",
    "ii = ran_indic % ind_n\n",
    "indie = (si, ii)\n",
    "x = popu_slots[indie]\n",
    "x = x -100\n",
    "print(popu_slots[indie])\n",
    "print(x)"
   ]
  },
  {
   "cell_type": "code",
   "execution_count": null,
   "metadata": {
    "collapsed": false,
    "pycharm": {
     "name": "#%%\n"
    }
   },
   "outputs": [],
   "source": [
    "t0 = time.time()\n",
    "for i in range(0, 100):\n",
    "    sl_ind = i % sl_n\n",
    "    indi_ind = i % ind_n\n",
    "    choose = popu_slots[sl_ind, indi_ind, :]\n",
    "    choose = choose + 1\n",
    "    # popu_slots[sl_ind, indi_ind, :] = choose\n",
    "print(time.time() - t0)\n"
   ]
  },
  {
   "cell_type": "code",
   "execution_count": null,
   "metadata": {
    "collapsed": false,
    "pycharm": {
     "name": "#%%\n"
    }
   },
   "outputs": [],
   "source": [
    "si = 3\n",
    "ii = 2\n",
    "# popu_slots[si].shape[0]\n",
    "popu_slots[si, ii, 0]\n",
    "print(popu_slots[-1])"
   ]
  },
  {
   "cell_type": "code",
   "execution_count": null,
   "metadata": {
    "collapsed": false,
    "pycharm": {
     "name": "#%%\n"
    }
   },
   "outputs": [],
   "source": [
    "x = np.array(popu_slots[1][0]) + 1\n",
    "print(x)\n",
    "for s in popu_slots[-1]:\n",
    "    print(np.abs(x - s).sum())\n",
    "print(\n",
    "    np.abs(x - popu_slots[-1]).sum()\n",
    ")\n",
    "50+51+52+53+54"
   ]
  },
  {
   "cell_type": "code",
   "execution_count": null,
   "metadata": {
    "collapsed": false,
    "pycharm": {
     "name": "#%%\n"
    }
   },
   "outputs": [],
   "source": [
    "import matplotlib.pyplot as plt\n",
    "reco = [444, 445, 445, 447, 449, 449, 449]\n",
    "t    = [1000, 2000, 3000, 4000, 5000, 6000, 7000]\n",
    "plt.plot(t, reco)\n",
    "plt.show()"
   ]
  },
  {
   "cell_type": "code",
   "execution_count": null,
   "metadata": {
    "collapsed": false,
    "pycharm": {
     "name": "#%%\n"
    }
   },
   "outputs": [],
   "source": [
    "sss = np.array([0, 1, 2, 3])\n",
    "print(sss[1:3])"
   ]
  },
  {
   "cell_type": "code",
   "execution_count": null,
   "metadata": {
    "collapsed": false,
    "pycharm": {
     "name": "#%%\n"
    }
   },
   "outputs": [],
   "source": [
    "np.where(sss == 0, 666, sss)\n",
    "\n"
   ]
  },
  {
   "cell_type": "code",
   "execution_count": null,
   "metadata": {
    "collapsed": false,
    "pycharm": {
     "name": "#%%\n"
    }
   },
   "outputs": [],
   "source": [
    "slot = np.array([\n",
    "    [0, 1, 0, 0, 0, 0],\n",
    "    [0, 1, 0, 0, 0, 1],\n",
    "    [0, 0, 1, 0, 0, 1],\n",
    "    [0, 0, 0, 0, 0, 0]\n",
    "])\n",
    "x= np.array(\n",
    "    [0, 0, 1, 0, 0, 1])\n",
    "\n",
    "# slot = slot.reshape(1, -1)\n",
    "print(np.abs(x - slot))\n",
    "print(\n",
    "    np.sum(np.abs(x - slot), axis=1)\n",
    "    )\n",
    "print(\n",
    "    np.min(np.sum(np.abs(x - slot), axis=1))\n",
    "    )\n",
    "diff = np.sum(np.abs(x - slot), axis=1)\n",
    "# diff[2] = np.inf\n",
    "print(diff)\n",
    "print(np.max(diff))\n",
    "diff[2] = np.max(diff)\n",
    "print(diff)\n",
    "print(np.min(diff))"
   ]
  },
  {
   "cell_type": "code",
   "execution_count": null,
   "metadata": {
    "collapsed": false,
    "pycharm": {
     "name": "#%%\n"
    }
   },
   "outputs": [],
   "source": [
    "print(slot)\n",
    "print(len(np.where(slot[:,1] == 3)[0]))\n",
    "print(len(np.where(slot[:,1] == 0)[0]))\n",
    "print(np.where(slot[:,2] == 1)[0])"
   ]
  },
  {
   "cell_type": "code",
   "execution_count": null,
   "metadata": {
    "collapsed": false,
    "pycharm": {
     "name": "#%%\n"
    }
   },
   "outputs": [],
   "source": [
    "popu_slots[-1, 2, 1] = 4\n",
    "popu_slots[-1, 3, 1] = 7\n",
    "popu_slots[-1, 4, 1] = 5\n",
    "print(popu_slots[-1])\n",
    "print((np.where((popu_slots[-1, :, 0] > 47))[0]))\n",
    "print((np.where((popu_slots[-1, :, 1] < 6))[0]))\n",
    "print((np.where((popu_slots[-1, :, 0] > 47) & (popu_slots[-1, :, 1] < 6))[0]))"
   ]
  },
  {
   "cell_type": "code",
   "execution_count": null,
   "metadata": {
    "collapsed": false,
    "pycharm": {
     "name": "#%%\n"
    }
   },
   "outputs": [],
   "source": [
    "\n",
    "fc = np.array([\n",
    "    [9, 3],\n",
    "    [2, 3],\n",
    "    [3, 2],\n",
    "    [5, 7],\n",
    "    [5, 7],\n",
    "    [5, 7],\n",
    "    [5, 7],\n",
    "    [5, 7],\n",
    "    [4, 1]\n",
    "])\n",
    "# print(np.argmax(fc[0], axis=0))\n",
    "# print(np.max(fc[:, 0], axis=0))\n",
    "print((np.where((fc[ :, 1] < 6))[0]))"
   ]
  },
  {
   "cell_type": "code",
   "execution_count": null,
   "metadata": {
    "collapsed": false,
    "pycharm": {
     "name": "#%%\n"
    }
   },
   "outputs": [],
   "source": [
    "sl = fc[:, 0]\n",
    "sl += 999\n",
    "fc"
   ]
  },
  {
   "cell_type": "code",
   "execution_count": null,
   "metadata": {
    "collapsed": false,
    "pycharm": {
     "name": "#%%\n"
    }
   },
   "outputs": [],
   "source": [
    "f = fc[:, 0]\n",
    "len(np.where(f == 5)[0])"
   ]
  },
  {
   "cell_type": "code",
   "execution_count": null,
   "metadata": {
    "collapsed": false,
    "pycharm": {
     "name": "#%%\n"
    }
   },
   "outputs": [],
   "source": [
    "popu = np.zeros(5, 'int')\n",
    "popu[2] = 1.0\n",
    "popu[3] = 5.0\n",
    "popu[4] = 3.0\n",
    "popu"
   ]
  },
  {
   "cell_type": "code",
   "execution_count": null,
   "metadata": {
    "collapsed": false,
    "pycharm": {
     "name": "#%%\n"
    }
   },
   "outputs": [],
   "source": [
    "f = np.array([1, 2, 3])\n",
    "f_all = np.hstack((f, [[5]]))\n",
    "print(f_all)"
   ]
  },
  {
   "cell_type": "markdown",
   "metadata": {
    "collapsed": false,
    "pycharm": {
     "name": "#%% md\n"
    }
   },
   "source": []
  },
  {
   "cell_type": "code",
   "execution_count": null,
   "metadata": {
    "collapsed": false,
    "pycharm": {
     "name": "#%%\n"
    }
   },
   "outputs": [],
   "source": [
    "np.arange(5)"
   ]
  },
  {
   "cell_type": "code",
   "execution_count": null,
   "metadata": {
    "collapsed": false,
    "pycharm": {
     "name": "#%%\n"
    }
   },
   "outputs": [],
   "source": [
    "ind = [0, 1, 2, 3, 4, 5]\n",
    "sli = fc[ind]\n",
    "# print(sli)\n",
    "# print(np.array(ind).reshape(-1, 1))\n",
    "i_f_c = np.vstack((np.array(ind), [9, 6, 6, 6, 4, 3])).T\n",
    "print(i_f_c)"
   ]
  },
  {
   "cell_type": "code",
   "execution_count": null,
   "metadata": {
    "collapsed": false,
    "pycharm": {
     "name": "#%%\n"
    }
   },
   "outputs": [],
   "source": [
    "print(np.argsort(i_f_c[:, -1]))\n",
    "print((i_f_c[:, -1]))"
   ]
  },
  {
   "cell_type": "code",
   "execution_count": null,
   "metadata": {
    "collapsed": false,
    "pycharm": {
     "name": "#%%\n"
    }
   },
   "outputs": [],
   "source": [
    "i_f_c[[]]"
   ]
  },
  {
   "cell_type": "code",
   "execution_count": null,
   "metadata": {
    "collapsed": false,
    "pycharm": {
     "name": "#%%\n"
    }
   },
   "outputs": [],
   "source": [
    "np.random.rand()"
   ]
  },
  {
   "cell_type": "code",
   "execution_count": null,
   "metadata": {
    "collapsed": false,
    "pycharm": {
     "name": "#%%\n"
    }
   },
   "outputs": [],
   "source": [
    "ifc_sort = i_f_c[np.argsort(i_f_c[:, 1])]\n",
    "print(ifc_sort)\n",
    "wor = ifc_sort[-1, 1]\n",
    "where = np.where(ifc_sort[:, 1] == 6)[0]\n",
    "print(where)\n",
    "w_pi = ifc_sort[where, 0]\n",
    "print(w_pi)\n",
    "w_ifc = i_f_c[w_pi]\n",
    "print(w_ifc)"
   ]
  },
  {
   "cell_type": "code",
   "execution_count": null,
   "metadata": {
    "collapsed": false,
    "pycharm": {
     "name": "#%%\n"
    }
   },
   "outputs": [],
   "source": [
    "i_f_c[:, :] = 0\n",
    "print(i_f_c)\n",
    "print(ind)"
   ]
  },
  {
   "cell_type": "code",
   "execution_count": null,
   "metadata": {
    "collapsed": false,
    "pycharm": {
     "name": "#%%\n"
    }
   },
   "outputs": [],
   "source": []
  },
  {
   "cell_type": "code",
   "execution_count": null,
   "metadata": {
    "collapsed": false,
    "pycharm": {
     "name": "#%%\n"
    }
   },
   "outputs": [],
   "source": [
    "fuck = np.all(fc == [4, 1], axis=1)\n",
    "print(fuck)\n",
    "print(np.any(\n",
    "    fuck\n",
    "))"
   ]
  },
  {
   "cell_type": "code",
   "execution_count": null,
   "metadata": {
    "collapsed": false,
    "pycharm": {
     "name": "#%%\n"
    }
   },
   "outputs": [],
   "source": [
    "t = np.where((fc[ :, 1] < 6))[0]\n",
    "list(t)"
   ]
  },
  {
   "cell_type": "code",
   "execution_count": null,
   "metadata": {
    "collapsed": false,
    "pycharm": {
     "name": "#%%\n"
    }
   },
   "outputs": [],
   "source": [
    "ff = fc[1]\n",
    "ff += 99\n",
    "print(fc)"
   ]
  },
  {
   "cell_type": "code",
   "execution_count": null,
   "metadata": {
    "collapsed": false,
    "pycharm": {
     "name": "#%%\n"
    }
   },
   "outputs": [],
   "source": [
    "sl_ham = np.array([\n",
    "    [1],\n",
    "    [8],\n",
    "    [1],\n",
    "    [2]\n",
    "])\n",
    "print(np.argmax(sl_ham))"
   ]
  },
  {
   "cell_type": "code",
   "execution_count": null,
   "metadata": {
    "collapsed": false,
    "pycharm": {
     "name": "#%%\n"
    }
   },
   "outputs": [],
   "source": [
    "a = np.ones((1000,10000))"
   ]
  },
  {
   "cell_type": "code",
   "execution_count": null,
   "metadata": {
    "collapsed": false,
    "pycharm": {
     "name": "#%%\n"
    }
   },
   "outputs": [],
   "source": [
    "for i in range(10_00):\n",
    "    a[0, 0] = 999\n",
    "    a = np.zeros(a.shape)\n",
    "    # a = np.zeros_like(a)\n",
    "    # a[:, :] = 0\n",
    "print('!')\n",
    "print(a.shape)"
   ]
  },
  {
   "cell_type": "code",
   "execution_count": null,
   "metadata": {
    "collapsed": false,
    "pycharm": {
     "name": "#%%\n"
    }
   },
   "outputs": [],
   "source": [
    "k = [(1, 2), (9, 2), (4, 2)]\n",
    "k.remove((9, 2))\n",
    "print(k)"
   ]
  },
  {
   "cell_type": "code",
   "execution_count": null,
   "metadata": {
    "collapsed": false,
    "pycharm": {
     "name": "#%%\n"
    }
   },
   "outputs": [],
   "source": [
    "L = 7.34566543\n",
    "B = 8\n",
    "n_sl = 10\n",
    "wid = (2 * L)/10\n",
    "print(wid)\n",
    "cost_x = B\n",
    "print(\n",
    "    int(np.ceil((cost_x - (B - L)) / wid))\n",
    ")\n"
   ]
  },
  {
   "cell_type": "code",
   "execution_count": null,
   "metadata": {
    "collapsed": false,
    "pycharm": {
     "name": "#%%\n"
    }
   },
   "outputs": [],
   "source": [
    "def fuccc(li):\n",
    "    li.append(-1)\n",
    "lll = []\n",
    "fuccc(lll)\n",
    "print(lll)"
   ]
  },
  {
   "cell_type": "code",
   "execution_count": null,
   "metadata": {
    "collapsed": false,
    "pycharm": {
     "name": "#%%\n"
    }
   },
   "outputs": [],
   "source": [
    "a = np.array([0,2,4,15,20,23,25,30,31,37,46,49,64,66,74,87,95,96,122,137,147,210,246,253,269])\n",
    "b= np.array([0,2,4,15,20,23,25,30,31,37,46,49,64,66,74,77,87,96,122,137,140,210,246,337,414])\n",
    "c= np.array([0,2,4,15,20,23,31,35,37,46,49,60,64,66,74,87,96,122,137,147,188,210,246,284,291])\n",
    "d= np.array([0,2,4,15,20,23,25,31,35,37,46,49,64,66,74,87,95,96,122,137,147,165,210,246])\n",
    "e= np.array([0,2,4,15,20,23,25,30,31,35,37,46,49,64,66,74,87,96,122,137,147,210,246,253,392])"
   ]
  },
  {
   "cell_type": "code",
   "execution_count": null,
   "metadata": {
    "collapsed": false,
    "pycharm": {
     "name": "#%%\n"
    }
   },
   "outputs": [],
   "source": [
    "sl = [a, b, c, d, e]\n",
    "for s in range(len(sl)):\n",
    "    t = np.zeros(450)\n",
    "    t[sl[s]] = 1\n",
    "    sl[s] = t\n",
    "# print(np.abs(sl[0] - sl[1]))\n",
    "# print(np.abs(sl[0] - sl[1]).sum())\n",
    "# print(sl)\n",
    "for pi in sl:\n",
    "    ham = 0\n",
    "    for pj in sl:\n",
    "        ham = np.abs(pi - pj).sum()\n",
    "        print(ham)\n"
   ]
  },
  {
   "cell_type": "code",
   "execution_count": null,
   "metadata": {
    "collapsed": false,
    "pycharm": {
     "name": "#%%\n"
    }
   },
   "outputs": [],
   "source": [
    "sl = np.array([[1, 0, 0, 1, 1, 0, 1], [1, 1, 1, 1, 1, 0, 1], [1, 0, 0, 1, 1, 0, 1]])\n",
    "a = np.array([ 0, 0, 0, 0, 1, 1, 1])\n",
    "print(a - sl)\n",
    "print(np.sum(a - sl, axis=1))\n",
    "print(np.sum(a - sl, axis=1).min())"
   ]
  },
  {
   "cell_type": "code",
   "execution_count": null,
   "metadata": {
    "collapsed": false,
    "pycharm": {
     "name": "#%%\n"
    }
   },
   "outputs": [],
   "source": []
  },
  {
   "cell_type": "code",
   "execution_count": 28,
   "metadata": {
    "collapsed": false,
    "pycharm": {
     "name": "#%%\n"
    }
   },
   "outputs": [
    {
     "name": "stdout",
     "output_type": "stream",
     "text": [
      "s            [0 0 0 ... 1 1 1]\n",
      "1600000\n",
      "--------------\n",
      "change1_to_0 [0 1 1 ... 1 0 0]\n",
      "change1_to_0 2240957\n",
      "s            [0 0 0 ... 0 1 1]\n",
      "s1 479323\n",
      "change0_to_1 [0 1 0 ... 0 0 0]\n",
      "change0_to_1 959216\n",
      "s            [0 1 0 ... 0 1 1]\n",
      "959188\n"
     ]
    }
   ],
   "source": [
    "import numpy as np\n",
    "\n",
    "nn = 320_0000\n",
    "p0 = 0.3\n",
    "p1 = 0.7\n",
    "s = np.zeros(nn, dtype='int')\n",
    "s[nn // 2 : ] = 1\n",
    "print('s           ', s)\n",
    "print(s.sum())\n",
    "print('--------------')\n",
    "s_ori = np.copy(s)\n",
    "change1_to_0 = np.random.binomial(1, p1, nn)\n",
    "print('change1_to_0', change1_to_0)  # change位上1bit为要变，\n",
    "print('change1_to_0', change1_to_0.sum())  # change位上1bit为要变，\n",
    "# 让它仅对原1处起作用\n",
    "change1_to_0 = np.multiply(s, change1_to_0)\n",
    "\n",
    "change1_to_0 = 1 - change1_to_0\n",
    "s = np.multiply(s, change1_to_0)\n",
    "\n",
    "print('s           ',  s)\n",
    "print('s1', s.sum())\n",
    "\n",
    "change0_to_1 = np.random.binomial(1, p0, nn)\n",
    "print('change0_to_1', change0_to_1)  # change位上1bit为要变，\n",
    "print('change0_to_1', change0_to_1.sum())  # change位上1bit为要变，\n",
    "# 让它仅对原0处起作用\n",
    "change0_to_1 = np.multiply(1-s_ori, change0_to_1)\n",
    "s += change0_to_1\n",
    "print('s           ', s)\n",
    "print(s.sum())"
   ]
  },
  {
   "cell_type": "code",
   "execution_count": null,
   "metadata": {
    "collapsed": false,
    "pycharm": {
     "name": "#%%\n"
    }
   },
   "outputs": [],
   "source": []
  },
  {
   "cell_type": "code",
   "execution_count": 121,
   "metadata": {
    "ExecuteTime": {
     "end_time": "2024-05-23T08:17:57.836323600Z",
     "start_time": "2024-05-23T08:17:57.830697800Z"
    },
    "collapsed": false,
    "pycharm": {
     "name": "#%%\n"
    }
   },
   "outputs": [
    {
     "name": "stdout",
     "output_type": "stream",
     "text": [
      "[[0 0]\n",
      " [0 0]\n",
      " [0 0]\n",
      " [0 0]\n",
      " [0 0]\n",
      " [0 0]]\n",
      "[0, 1, 2, 3, 4, 5]\n"
     ]
    }
   ],
   "source": [
    "i_f_c[:, :] = 0\n",
    "print(i_f_c)\n",
    "print(ind)"
   ]
  },
  {
   "cell_type": "code",
   "execution_count": null,
   "metadata": {
    "collapsed": false
   },
   "outputs": [],
   "source": []
  },
  {
   "cell_type": "code",
   "execution_count": 19,
   "metadata": {
    "ExecuteTime": {
     "end_time": "2024-05-23T05:53:47.042280700Z",
     "start_time": "2024-05-23T05:53:46.989819200Z"
    },
    "collapsed": false,
    "pycharm": {
     "name": "#%%\n"
    }
   },
   "outputs": [
    {
     "name": "stdout",
     "output_type": "stream",
     "text": [
      "[False False False False False False False False  True]\n",
      "True\n"
     ]
    }
   ],
   "source": [
    "fuck = np.all(fc == [4, 1], axis=1)\n",
    "print(fuck)\n",
    "print(np.any(\n",
    "    fuck\n",
    "))"
   ]
  },
  {
   "cell_type": "code",
   "execution_count": 20,
   "metadata": {
    "ExecuteTime": {
     "end_time": "2024-05-23T05:53:47.053492600Z",
     "start_time": "2024-05-23T05:53:46.992547100Z"
    },
    "collapsed": false,
    "pycharm": {
     "name": "#%%\n"
    }
   },
   "outputs": [
    {
     "data": {
      "text/plain": [
       "[0, 1, 2, 8]"
      ]
     },
     "execution_count": 20,
     "metadata": {},
     "output_type": "execute_result"
    }
   ],
   "source": [
    "t = np.where((fc[ :, 1] < 6))[0]\n",
    "list(t)"
   ]
  },
  {
   "cell_type": "code",
   "execution_count": 21,
   "metadata": {
    "ExecuteTime": {
     "end_time": "2024-05-23T05:53:47.116236100Z",
     "start_time": "2024-05-23T05:53:46.996387600Z"
    },
    "collapsed": false,
    "pycharm": {
     "name": "#%%\n"
    }
   },
   "outputs": [
    {
     "name": "stdout",
     "output_type": "stream",
     "text": [
      "[[  9   3]\n",
      " [101 102]\n",
      " [  3   2]\n",
      " [  5   7]\n",
      " [  5   7]\n",
      " [  5   7]\n",
      " [  5   7]\n",
      " [  5   7]\n",
      " [  4   1]]\n"
     ]
    }
   ],
   "source": [
    "ff = fc[1]\n",
    "ff += 99\n",
    "print(fc)"
   ]
  },
  {
   "cell_type": "code",
   "execution_count": 22,
   "metadata": {
    "ExecuteTime": {
     "end_time": "2024-05-23T05:53:47.117233Z",
     "start_time": "2024-05-23T05:53:46.997902900Z"
    },
    "collapsed": false,
    "pycharm": {
     "name": "#%%\n"
    }
   },
   "outputs": [
    {
     "name": "stdout",
     "output_type": "stream",
     "text": [
      "1\n"
     ]
    }
   ],
   "source": [
    "sl_ham = np.array([\n",
    "    [1],\n",
    "    [8],\n",
    "    [1],\n",
    "    [2]\n",
    "])\n",
    "print(np.argmax(sl_ham))"
   ]
  },
  {
   "cell_type": "code",
   "execution_count": 23,
   "metadata": {
    "ExecuteTime": {
     "end_time": "2024-05-23T05:53:47.118244Z",
     "start_time": "2024-05-23T05:53:47.001732200Z"
    },
    "collapsed": false,
    "pycharm": {
     "name": "#%%\n"
    }
   },
   "outputs": [],
   "source": [
    "a = np.ones((1000,10000))"
   ]
  },
  {
   "cell_type": "code",
   "execution_count": 24,
   "metadata": {
    "ExecuteTime": {
     "end_time": "2024-05-23T05:53:47.663089100Z",
     "start_time": "2024-05-23T05:53:47.020986600Z"
    },
    "collapsed": false,
    "pycharm": {
     "name": "#%%\n"
    }
   },
   "outputs": [
    {
     "name": "stdout",
     "output_type": "stream",
     "text": [
      "!\n",
      "(1000, 10000)\n"
     ]
    }
   ],
   "source": [
    "for i in range(10_00):\n",
    "    a[0, 0] = 999\n",
    "    a = np.zeros(a.shape)\n",
    "    # a = np.zeros_like(a)\n",
    "    # a[:, :] = 0\n",
    "print('!')\n",
    "print(a.shape)"
   ]
  },
  {
   "cell_type": "code",
   "execution_count": 25,
   "metadata": {
    "ExecuteTime": {
     "end_time": "2024-05-23T05:53:47.665108600Z",
     "start_time": "2024-05-23T05:53:47.658905800Z"
    },
    "collapsed": false,
    "pycharm": {
     "name": "#%%\n"
    }
   },
   "outputs": [
    {
     "name": "stdout",
     "output_type": "stream",
     "text": [
      "[(1, 2), (4, 2)]\n"
     ]
    }
   ],
   "source": [
    "k = [(1, 2), (9, 2), (4, 2)]\n",
    "k.remove((9, 2))\n",
    "print(k)"
   ]
  },
  {
   "cell_type": "code",
   "execution_count": 26,
   "metadata": {
    "ExecuteTime": {
     "end_time": "2024-05-23T05:53:47.672961900Z",
     "start_time": "2024-05-23T05:53:47.663089100Z"
    },
    "collapsed": false,
    "pycharm": {
     "name": "#%%\n"
    }
   },
   "outputs": [
    {
     "name": "stdout",
     "output_type": "stream",
     "text": [
      "1.469133086\n",
      "5\n"
     ]
    }
   ],
   "source": [
    "L = 7.34566543\n",
    "B = 8\n",
    "n_sl = 10\n",
    "wid = (2 * L)/10\n",
    "print(wid)\n",
    "cost_x = B\n",
    "print(\n",
    "    int(np.ceil((cost_x - (B - L)) / wid))\n",
    ")\n"
   ]
  },
  {
   "cell_type": "code",
   "execution_count": 27,
   "metadata": {
    "ExecuteTime": {
     "end_time": "2024-05-23T05:53:47.675021900Z",
     "start_time": "2024-05-23T05:53:47.671440500Z"
    },
    "collapsed": false,
    "pycharm": {
     "name": "#%%\n"
    }
   },
   "outputs": [
    {
     "name": "stdout",
     "output_type": "stream",
     "text": [
      "[-1]\n"
     ]
    }
   ],
   "source": [
    "def fuccc(li):\n",
    "    li.append(-1)\n",
    "lll = []\n",
    "fuccc(lll)\n",
    "print(lll)"
   ]
  },
  {
   "cell_type": "code",
   "execution_count": 128,
   "metadata": {
    "ExecuteTime": {
     "end_time": "2024-05-23T12:52:08.244257600Z",
     "start_time": "2024-05-23T12:52:08.241054200Z"
    },
    "collapsed": false
   },
   "outputs": [],
   "source": [
    "a = np.array([0,2,4,15,20,23,25,30,31,37,46,49,64,66,74,87,95,96,122,137,147,210,246,253,269])\n",
    "b= np.array([0,2,4,15,20,23,25,30,31,37,46,49,64,66,74,77,87,96,122,137,140,210,246,337,414])\n",
    "c= np.array([0,2,4,15,20,23,31,35,37,46,49,60,64,66,74,87,96,122,137,147,188,210,246,284,291])\n",
    "d= np.array([0,2,4,15,20,23,25,31,35,37,46,49,64,66,74,87,95,96,122,137,147,165,210,246])\n",
    "e= np.array([0,2,4,15,20,23,25,30,31,35,37,46,49,64,66,74,87,96,122,137,147,210,246,253,392])"
   ]
  },
  {
   "cell_type": "code",
   "execution_count": 140,
   "metadata": {
    "ExecuteTime": {
     "end_time": "2024-05-23T12:57:20.863891600Z",
     "start_time": "2024-05-23T12:57:20.856298700Z"
    },
    "collapsed": false
   },
   "outputs": [
    {
     "name": "stdout",
     "output_type": "stream",
     "text": [
      "0.0\n",
      "8.0\n",
      "10.0\n",
      "5.0\n",
      "4.0\n",
      "8.0\n",
      "0.0\n",
      "12.0\n",
      "9.0\n",
      "8.0\n",
      "10.0\n",
      "12.0\n",
      "0.0\n",
      "7.0\n",
      "8.0\n",
      "5.0\n",
      "9.0\n",
      "7.0\n",
      "0.0\n",
      "5.0\n",
      "4.0\n",
      "8.0\n",
      "8.0\n",
      "5.0\n",
      "0.0\n"
     ]
    }
   ],
   "source": [
    "sl = [a, b, c, d, e]\n",
    "for s in range(len(sl)):\n",
    "    t = np.zeros(450)\n",
    "    t[sl[s]] = 1\n",
    "    sl[s] = t\n",
    "# print(np.abs(sl[0] - sl[1]))\n",
    "# print(np.abs(sl[0] - sl[1]).sum())\n",
    "# print(sl)\n",
    "for pi in sl:\n",
    "    ham = 0\n",
    "    for pj in sl:\n",
    "        ham = np.abs(pi - pj).sum()\n",
    "        print(ham)\n"
   ]
  },
  {
   "cell_type": "code",
   "execution_count": 229,
   "metadata": {
    "ExecuteTime": {
     "end_time": "2024-05-23T20:04:53.460896700Z",
     "start_time": "2024-05-23T20:04:53.457132Z"
    },
    "collapsed": false
   },
   "outputs": [
    {
     "name": "stdout",
     "output_type": "stream",
     "text": [
      "[[-1  0  0 -1  0  1  0]\n",
      " [-1 -1 -1 -1  0  1  0]\n",
      " [-1  0  0 -1  0  1  0]]\n",
      "[-1 -3 -1]\n",
      "-3\n"
     ]
    }
   ],
   "source": [
    "sl = np.array([[1, 0, 0, 1, 1, 0, 1], [1, 1, 1, 1, 1, 0, 1], [1, 0, 0, 1, 1, 0, 1]])\n",
    "a = np.array([ 0, 0, 0, 0, 1, 1, 1])\n",
    "print(a - sl)\n",
    "print(np.sum(a - sl, axis=1))\n",
    "print(np.sum(a - sl, axis=1).min())"
   ]
  },
  {
   "cell_type": "code",
   "execution_count": null,
   "metadata": {
    "collapsed": false
   },
   "outputs": [],
   "source": []
  },
  {
   "cell_type": "code",
   "execution_count": 23,
   "metadata": {
    "ExecuteTime": {
     "end_time": "2024-05-24T06:59:56.892182300Z",
     "start_time": "2024-05-24T06:59:56.885552500Z"
    },
    "collapsed": false
   },
   "outputs": [
    {
     "name": "stdout",
     "output_type": "stream",
     "text": [
      "s            [0 0 0 ... 1 1 1]\n",
      "16000000\n",
      "--------------\n",
      "change1_to_0 [0 0 1 ... 0 0 0]\n",
      "change1_to_0 9597456\n",
      "s            [0 0 0 ... 1 1 1]\n",
      "s1 11201177\n",
      "change0_to_1 [1 0 0 ... 0 1 1]\n",
      "change0_to_1 9597279\n",
      "s            [1 0 0 ... 1 1 1]\n",
      "15996815\n"
     ]
    }
   ],
   "source": [
    "import numpy as np\n",
    "\n",
    "p0 = 0.3\n",
    "p1 = 0.3\n",
    "nn = 32_0000_00\n",
    "s = np.zeros(nn, dtype='int')\n",
    "s[nn // 2 : ] = 1\n",
    "print('s           ', s)\n",
    "print(s.sum())\n",
    "print('--------------')\n",
    "s_ori = np.copy(s)\n",
    "change1_to_0 = np.random.binomial(1, p1, nn)\n",
    "print('change1_to_0', change1_to_0)  # change位上1bit为要变，\n",
    "print('change1_to_0', change1_to_0.sum())  # change位上1bit为要变，\n",
    "# 让它仅对原1处起作用\n",
    "change1_to_0 = np.multiply(s, change1_to_0)\n",
    "\n",
    "change1_to_0 = 1 - change1_to_0\n",
    "s = np.multiply(s, change1_to_0)\n",
    "\n",
    "print('s           ',  s)\n",
    "print('s1', s.sum())\n",
    "\n",
    "change0_to_1 = np.random.binomial(1, p0, nn)\n",
    "print('change0_to_1', change0_to_1)  # change位上1bit为要变，\n",
    "print('change0_to_1', change0_to_1.sum())  # change位上1bit为要变，\n",
    "# 让它仅对原0处起作用\n",
    "change0_to_1 = np.multiply(1-s_ori, change0_to_1)\n",
    "\n",
    "s += change0_to_1\n",
    "\n",
    "print('s           ', s)\n",
    "print(s.sum())"
   ]
  },
  {
   "cell_type": "code",
   "execution_count": 41,
   "metadata": {
    "ExecuteTime": {
     "end_time": "2024-05-24T06:42:19.033193400Z",
     "start_time": "2024-05-24T06:42:19.008523900Z"
    },
    "collapsed": false
   },
   "outputs": [
    {
     "name": "stdout",
     "output_type": "stream",
     "text": [
      "299417\n"
     ]
    }
   ],
   "source": []
  }
 ],
 "metadata": {
  "kernelspec": {
   "display_name": "Python 3",
   "language": "python",
   "name": "python3"
  },
  "language_info": {
   "codemirror_mode": {
    "name": "ipython",
    "version": 3
   },
   "file_extension": ".py",
   "mimetype": "text/x-python",
   "name": "python",
   "nbconvert_exporter": "python",
   "pygments_lexer": "ipython3",
   "version": "3.9.12"
  }
 },
 "nbformat": 4,
 "nbformat_minor": 0
}
