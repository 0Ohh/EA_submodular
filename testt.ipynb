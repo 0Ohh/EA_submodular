{
 "cells": [
  {
   "cell_type": "code",
   "execution_count": null,
   "outputs": [],
   "source": [],
   "metadata": {
    "collapsed": false,
    "pycharm": {
     "name": "#%%\n"
    }
   }
  },
  {
   "cell_type": "code",
   "execution_count": 1,
   "metadata": {
    "collapsed": true,
    "pycharm": {
     "name": "#%%\n"
    }
   },
   "outputs": [
    {
     "name": "stdout",
     "output_type": "stream",
     "text": [
      "0.5996253333333333\n",
      "[[0 0 1 ... 1 1 0]]\n",
      "0.4194926666666667\n",
      "True\n",
      "0.5001073333333333\n",
      " [1 0 0 ... 1 1 1]\n",
      "0.7097653333333334\n",
      "[[1 0 1 ... 1 1 1]]\n"
     ]
    }
   ],
   "source": [
    "import time\n",
    "\n",
    "import numpy as np\n",
    "lenth = 1500000\n",
    "s = np.mat(np.random.binomial(1, 0.6, lenth))\n",
    "print(s.sum()/lenth)\n",
    "print(s)\n",
    "\n",
    "s_ori = np.copy(s)\n",
    "\n",
    "change1_to_0 = (1 - np.random.binomial(1, 0.3, lenth))\n",
    "s = np.multiply(s, change1_to_0)\n",
    "print(s.sum()/lenth)\n",
    "check = np.multiply((1 - s), (1 - s_ori))\n",
    "print(np.all((1 - s_ori) == check))\n",
    "\n",
    "def f_1_to_0(sin, change1_to_0):\n",
    "    change1_to_0 = 1- change1_to_0\n",
    "    return np.multiply(sin, change1_to_0)\n",
    "\n",
    "change0_to_1 = np.random.binomial(1, 0.5, lenth)\n",
    "print(change0_to_1.sum() / lenth)\n",
    "print('', change0_to_1)\n",
    "s = 1 - f_1_to_0(1-s, change0_to_1)\n",
    "print(s.sum()/lenth)\n",
    "print(s)"
   ]
  },
  {
   "cell_type": "code",
   "execution_count": 2,
   "outputs": [
    {
     "name": "stdout",
     "output_type": "stream",
     "text": [
      "[[0 1 1 1]]\n"
     ]
    }
   ],
   "source": [
    "s = np.mat([0,0,1,1])\n",
    "change0_to_1 = np.array([1, 0, 1, 0])\n",
    "s = 1 - s\n",
    "s = np.multiply(s, change0_to_1)\n",
    "s = 1 - s\n",
    "print(s)"
   ],
   "metadata": {
    "collapsed": false,
    "pycharm": {
     "name": "#%%\n"
    }
   }
  },
  {
   "cell_type": "code",
   "execution_count": 3,
   "outputs": [
    {
     "name": "stdout",
     "output_type": "stream",
     "text": [
      "[[0 0 0 1 1 1 0 1 1 0 1 0 0 0 1 0 1 1 1 1 1 0 1 0 0 0 0 0 0 0 1 1 1 0 1 1\n",
      "  1 1 0 0 0 0 0 0 0 1 0 0 1 0 0 0 0 0 0 0 0 0 0 0 1 1 0 0 1 0 1 1 0 0 0 0\n",
      "  1 0 0 1 0 0 0 1 0 0 1 1 1 0 0 1 0 1 1 1 0 1 0 1 1 0 1 0]]\n"
     ]
    }
   ],
   "source": [
    "popu = np.mat(np.random.binomial(1, 0.5, 100), 'int8')\n",
    "print(popu)"
   ],
   "metadata": {
    "collapsed": false,
    "pycharm": {
     "name": "#%%\n"
    }
   }
  },
  {
   "cell_type": "code",
   "execution_count": 4,
   "outputs": [
    {
     "name": "stdout",
     "output_type": "stream",
     "text": [
      "[[[ 0  0  0  0  0  0  0  0  0  0  0  0]\n",
      "  [ 1  0  0  0  0  0  0  0  0  0  0  0]\n",
      "  [ 2  0  0  0  0  0  0  0  0  0  0  0]\n",
      "  [ 3  0  0  0  0  0  0  0  0  0  0  0]\n",
      "  [ 4  0  0  0  0  0  0  0  0  0  0  0]]\n",
      "\n",
      " [[ 5  0  0  0  0  0  0  0  0  0  0  0]\n",
      "  [ 6  0  0  0  0  0  0  0  0  0  0  0]\n",
      "  [ 7  0  0  0  0  0  0  0  0  0  0  0]\n",
      "  [ 8  0  0  0  0  0  0  0  0  0  0  0]\n",
      "  [ 9  0  0  0  0  0  0  0  0  0  0  0]]\n",
      "\n",
      " [[10  0  0  0  0  0  0  0  0  0  0  0]\n",
      "  [11  0  0  0  0  0  0  0  0  0  0  0]\n",
      "  [12  0  0  0  0  0  0  0  0  0  0  0]\n",
      "  [13  0  0  0  0  0  0  0  0  0  0  0]\n",
      "  [14  0  0  0  0  0  0  0  0  0  0  0]]\n",
      "\n",
      " [[15  0  0  0  0  0  0  0  0  0  0  0]\n",
      "  [16  0  0  0  0  0  0  0  0  0  0  0]\n",
      "  [17  0  0  0  0  0  0  0  0  0  0  0]\n",
      "  [18  0  0  0  0  0  0  0  0  0  0  0]\n",
      "  [19  0  0  0  0  0  0  0  0  0  0  0]]\n",
      "\n",
      " [[20  0  0  0  0  0  0  0  0  0  0  0]\n",
      "  [21  0  0  0  0  0  0  0  0  0  0  0]\n",
      "  [22  0  0  0  0  0  0  0  0  0  0  0]\n",
      "  [23  0  0  0  0  0  0  0  0  0  0  0]\n",
      "  [24  0  0  0  0  0  0  0  0  0  0  0]]\n",
      "\n",
      " [[25  0  0  0  0  0  0  0  0  0  0  0]\n",
      "  [26  0  0  0  0  0  0  0  0  0  0  0]\n",
      "  [27  0  0  0  0  0  0  0  0  0  0  0]\n",
      "  [28  0  0  0  0  0  0  0  0  0  0  0]\n",
      "  [29  0  0  0  0  0  0  0  0  0  0  0]]\n",
      "\n",
      " [[30  0  0  0  0  0  0  0  0  0  0  0]\n",
      "  [31  0  0  0  0  0  0  0  0  0  0  0]\n",
      "  [32  0  0  0  0  0  0  0  0  0  0  0]\n",
      "  [33  0  0  0  0  0  0  0  0  0  0  0]\n",
      "  [34  0  0  0  0  0  0  0  0  0  0  0]]\n",
      "\n",
      " [[35  0  0  0  0  0  0  0  0  0  0  0]\n",
      "  [36  0  0  0  0  0  0  0  0  0  0  0]\n",
      "  [37  0  0  0  0  0  0  0  0  0  0  0]\n",
      "  [38  0  0  0  0  0  0  0  0  0  0  0]\n",
      "  [39  0  0  0  0  0  0  0  0  0  0  0]]\n",
      "\n",
      " [[40  0  0  0  0  0  0  0  0  0  0  0]\n",
      "  [41  0  0  0  0  0  0  0  0  0  0  0]\n",
      "  [42  0  0  0  0  0  0  0  0  0  0  0]\n",
      "  [43  0  0  0  0  0  0  0  0  0  0  0]\n",
      "  [44  0  0  0  0  0  0  0  0  0  0  0]]\n",
      "\n",
      " [[45  0  0  0  0  0  0  0  0  0  0  0]\n",
      "  [46  0  0  0  0  0  0  0  0  0  0  0]\n",
      "  [47  0  0  0  0  0  0  0  0  0  0  0]\n",
      "  [48  0  0  0  0  0  0  0  0  0  0  0]\n",
      "  [49  0  0  0  0  0  0  0  0  0  0  0]]]\n"
     ]
    }
   ],
   "source": [
    "sl_n = 10\n",
    "ind_n = 5\n",
    "popu_slots = np.array(np.zeros([sl_n, ind_n, 12], 'int8'))\n",
    "for i in range(0, sl_n):\n",
    "    for j in range(0, ind_n):\n",
    "        popu_slots[i, j, 0] = i*ind_n + j\n",
    "print(popu_slots)"
   ],
   "metadata": {
    "collapsed": false,
    "pycharm": {
     "name": "#%%\n"
    }
   }
  },
  {
   "cell_type": "code",
   "execution_count": 5,
   "outputs": [
    {
     "name": "stdout",
     "output_type": "stream",
     "text": [
      "[22  0  0  0  0  0  0  0  0  0  0  0]\n",
      "[ -78 -100 -100 -100 -100 -100 -100 -100 -100 -100 -100 -100]\n"
     ]
    }
   ],
   "source": [
    "ran_indic = 22\n",
    "si = ran_indic // ind_n\n",
    "ii = ran_indic % ind_n\n",
    "indie = (si, ii)\n",
    "x = popu_slots[indie]\n",
    "x = x -100\n",
    "print(popu_slots[indie])\n",
    "print(x)"
   ],
   "metadata": {
    "collapsed": false,
    "pycharm": {
     "name": "#%%\n"
    }
   }
  },
  {
   "cell_type": "code",
   "execution_count": 6,
   "outputs": [
    {
     "name": "stdout",
     "output_type": "stream",
     "text": [
      "0.0\n"
     ]
    }
   ],
   "source": [
    "t0 = time.time()\n",
    "for i in range(0, 100):\n",
    "    sl_ind = i % sl_n\n",
    "    indi_ind = i % ind_n\n",
    "    choose = popu_slots[sl_ind, indi_ind, :]\n",
    "    choose = choose + 1\n",
    "    # popu_slots[sl_ind, indi_ind, :] = choose\n",
    "print(time.time() - t0)\n"
   ],
   "metadata": {
    "collapsed": false,
    "pycharm": {
     "name": "#%%\n"
    }
   }
  },
  {
   "cell_type": "code",
   "execution_count": 7,
   "outputs": [
    {
     "name": "stdout",
     "output_type": "stream",
     "text": [
      "[[45  0  0  0  0  0  0  0  0  0  0  0]\n",
      " [46  0  0  0  0  0  0  0  0  0  0  0]\n",
      " [47  0  0  0  0  0  0  0  0  0  0  0]\n",
      " [48  0  0  0  0  0  0  0  0  0  0  0]\n",
      " [49  0  0  0  0  0  0  0  0  0  0  0]]\n"
     ]
    }
   ],
   "source": [
    "si = 3\n",
    "ii = 2\n",
    "# popu_slots[si].shape[0]\n",
    "popu_slots[si, ii, 0]\n",
    "print(popu_slots[-1])"
   ],
   "metadata": {
    "collapsed": false,
    "pycharm": {
     "name": "#%%\n"
    }
   }
  },
  {
   "cell_type": "code",
   "execution_count": 8,
   "outputs": [
    {
     "name": "stdout",
     "output_type": "stream",
     "text": [
      "[6 1 1 1 1 1 1 1 1 1 1 1]\n",
      "50\n",
      "51\n",
      "52\n",
      "53\n",
      "54\n",
      "260\n"
     ]
    },
    {
     "data": {
      "text/plain": "260"
     },
     "execution_count": 8,
     "metadata": {},
     "output_type": "execute_result"
    }
   ],
   "source": [
    "x = np.array(popu_slots[1][0]) + 1\n",
    "print(x)\n",
    "for s in popu_slots[-1]:\n",
    "    print(np.abs(x - s).sum())\n",
    "print(\n",
    "    np.abs(x - popu_slots[-1]).sum()\n",
    ")\n",
    "50+51+52+53+54"
   ],
   "metadata": {
    "collapsed": false,
    "pycharm": {
     "name": "#%%\n"
    }
   }
  },
  {
   "cell_type": "code",
   "execution_count": 9,
   "outputs": [
    {
     "data": {
      "text/plain": "<Figure size 432x288 with 1 Axes>",
      "image/png": "[encoded data removed]"
     },
     "metadata": {
      "needs_background": "light"
     },
     "output_type": "display_data"
    }
   ],
   "source": [
    "import matplotlib.pyplot as plt\n",
    "reco = [444, 445, 445, 447, 449, 449, 449]\n",
    "t    = [1000, 2000, 3000, 4000, 5000, 6000, 7000]\n",
    "plt.plot(t, reco)\n",
    "plt.show()"
   ],
   "metadata": {
    "collapsed": false,
    "pycharm": {
     "name": "#%%\n"
    }
   }
  },
  {
   "cell_type": "code",
   "execution_count": 10,
   "outputs": [
    {
     "name": "stdout",
     "output_type": "stream",
     "text": [
      "[1 2]\n"
     ]
    }
   ],
   "source": [
    "sss = np.array([0, 1, 2, 3])\n",
    "print(sss[1:3])"
   ],
   "metadata": {
    "collapsed": false,
    "pycharm": {
     "name": "#%%\n"
    }
   }
  },
  {
   "cell_type": "code",
   "execution_count": 11,
   "outputs": [
    {
     "data": {
      "text/plain": "array([666,   1,   2,   3])"
     },
     "execution_count": 11,
     "metadata": {},
     "output_type": "execute_result"
    }
   ],
   "source": [
    "np.where(sss == 0, 666, sss)\n",
    "\n"
   ],
   "metadata": {
    "collapsed": false,
    "pycharm": {
     "name": "#%%\n"
    }
   }
  },
  {
   "cell_type": "code",
   "execution_count": 12,
   "outputs": [
    {
     "name": "stdout",
     "output_type": "stream",
     "text": [
      "[[0 1 1 0 0 1]\n",
      " [0 1 1 0 0 0]\n",
      " [0 0 0 0 0 0]\n",
      " [0 0 1 0 0 1]]\n",
      "[3 2 0 2]\n",
      "0\n",
      "[3 2 0 2]\n",
      "3\n",
      "[3 2 3 2]\n",
      "2\n"
     ]
    }
   ],
   "source": [
    "slot = np.array([\n",
    "    [0, 1, 0, 0, 0, 0],\n",
    "    [0, 1, 0, 0, 0, 1],\n",
    "    [0, 0, 1, 0, 0, 1],\n",
    "    [0, 0, 0, 0, 0, 0]\n",
    "])\n",
    "x= np.array(\n",
    "    [0, 0, 1, 0, 0, 1])\n",
    "\n",
    "# slot = slot.reshape(1, -1)\n",
    "print(np.abs(x - slot))\n",
    "print(\n",
    "    np.sum(np.abs(x - slot), axis=1)\n",
    "    )\n",
    "print(\n",
    "    np.min(np.sum(np.abs(x - slot), axis=1))\n",
    "    )\n",
    "diff = np.sum(np.abs(x - slot), axis=1)\n",
    "# diff[2] = np.inf\n",
    "print(diff)\n",
    "print(np.max(diff))\n",
    "diff[2] = np.max(diff)\n",
    "print(diff)\n",
    "print(np.min(diff))"
   ],
   "metadata": {
    "collapsed": false,
    "pycharm": {
     "name": "#%%\n"
    }
   }
  },
  {
   "cell_type": "code",
   "execution_count": 13,
   "outputs": [
    {
     "name": "stdout",
     "output_type": "stream",
     "text": [
      "[[0 1 0 0 0 0]\n",
      " [0 1 0 0 0 1]\n",
      " [0 0 1 0 0 1]\n",
      " [0 0 0 0 0 0]]\n",
      "0\n",
      "2\n",
      "[2]\n"
     ]
    }
   ],
   "source": [
    "print(slot)\n",
    "print(len(np.where(slot[:,1] == 3)[0]))\n",
    "print(len(np.where(slot[:,1] == 0)[0]))\n",
    "print(np.where(slot[:,2] == 1)[0])"
   ],
   "metadata": {
    "collapsed": false,
    "pycharm": {
     "name": "#%%\n"
    }
   }
  },
  {
   "cell_type": "code",
   "execution_count": null,
   "outputs": [],
   "source": [
    "popu_slots[-1, 2, 1] = 4\n",
    "popu_slots[-1, 3, 1] = 7\n",
    "popu_slots[-1, 4, 1] = 5\n",
    "print(popu_slots[-1])\n",
    "print((np.where((popu_slots[-1, :, 0] > 47))[0]))\n",
    "print((np.where((popu_slots[-1, :, 1] < 6))[0]))\n",
    "print((np.where((popu_slots[-1, :, 0] > 47) & (popu_slots[-1, :, 1] < 6))[0]))"
   ],
   "metadata": {
    "collapsed": false,
    "pycharm": {
     "name": "#%%\n"
    }
   }
  },
  {
   "cell_type": "code",
   "execution_count": 225,
   "outputs": [
    {
     "name": "stdout",
     "output_type": "stream",
     "text": [
      "[0 1 2 8]\n"
     ]
    }
   ],
   "source": [
    "\n",
    "fc = np.array([\n",
    "    [9, 3],\n",
    "    [2, 3],\n",
    "    [3, 2],\n",
    "    [5, 7],\n",
    "    [5, 7],\n",
    "    [5, 7],\n",
    "    [5, 7],\n",
    "    [5, 7],\n",
    "    [4, 1]\n",
    "])\n",
    "# print(np.argmax(fc[0], axis=0))\n",
    "# print(np.max(fc[:, 0], axis=0))\n",
    "print((np.where((fc[ :, 1] < 6))[0]))"
   ],
   "metadata": {
    "collapsed": false,
    "pycharm": {
     "name": "#%%\n"
    }
   }
  },
  {
   "cell_type": "markdown",
   "source": [],
   "metadata": {
    "collapsed": false,
    "pycharm": {
     "name": "#%% md\n"
    }
   }
  },
  {
   "cell_type": "code",
   "execution_count": 226,
   "outputs": [
    {
     "name": "stdout",
     "output_type": "stream",
     "text": [
      "[[9 3]\n",
      " [3 2]\n",
      " [5 7]\n",
      " [5 7]\n",
      " [5 7]]\n",
      "[[0]\n",
      " [2]\n",
      " [3]\n",
      " [5]\n",
      " [6]]\n",
      "[[0 9 3]\n",
      " [2 3 2]\n",
      " [3 5 7]\n",
      " [5 5 7]\n",
      " [6 5 7]]\n"
     ]
    }
   ],
   "source": [
    "ind = [0, 2, 3, 5, 6]\n",
    "sli = fc[ind]\n",
    "print(sli)\n",
    "print(np.array(ind).reshape(-1, 1))\n",
    "i_f_c = np.hstack((np.array(ind).reshape(-1, 1), fc[ind]))\n",
    "print(i_f_c)"
   ],
   "metadata": {
    "collapsed": false,
    "pycharm": {
     "name": "#%%\n"
    }
   }
  },
  {
   "cell_type": "code",
   "execution_count": 239,
   "outputs": [
    {
     "name": "stdout",
     "output_type": "stream",
     "text": [
      "[[2 3 2]\n",
      " [0 9 3]\n",
      " [3 5 7]\n",
      " [5 5 7]\n",
      " [6 5 7]]\n",
      "[[0. 9. 3. 0.]\n",
      " [2. 3. 2. 0.]\n",
      " [3. 5. 7. 0.]\n",
      " [5. 5. 7. 0.]\n",
      " [6. 5. 7. 0.]]\n",
      "[[0. 9. 3. 9.]\n",
      " [2. 3. 2. 9.]\n",
      " [3. 5. 7. 9.]\n",
      " [5. 5. 7. 9.]\n",
      " [6. 5. 7. 9.]]\n"
     ]
    }
   ],
   "source": [
    "print(\n",
    "    i_f_c[np.argsort(i_f_c[:, 2])]\n",
    ")\n",
    "kk = np.hstack((i_f_c, np.zeros(5, 'float').reshape(-1, 1)))\n",
    "print(kk)\n",
    "li = [0, 1, 2, 3, 4, 5, 6]\n",
    "li[int(kk[0, 3])]\n",
    "kk[:, -1] += 9\n",
    "print(kk)"
   ],
   "metadata": {
    "collapsed": false,
    "pycharm": {
     "name": "#%%\n"
    }
   }
  },
  {
   "cell_type": "code",
   "execution_count": 178,
   "outputs": [],
   "source": [
    "for i in range(1, 1):\n",
    "    print('11')"
   ],
   "metadata": {
    "collapsed": false,
    "pycharm": {
     "name": "#%%\n"
    }
   }
  },
  {
   "cell_type": "code",
   "execution_count": 176,
   "outputs": [
    {
     "name": "stdout",
     "output_type": "stream",
     "text": [
      "[False False False False  True]\n",
      "True\n"
     ]
    }
   ],
   "source": [
    "fuck = np.all(fc == [4, 1], axis=1)\n",
    "print(fuck)\n",
    "print(np.any(\n",
    "    fuck\n",
    "))"
   ],
   "metadata": {
    "collapsed": false,
    "pycharm": {
     "name": "#%%\n"
    }
   }
  },
  {
   "cell_type": "code",
   "execution_count": 50,
   "outputs": [
    {
     "data": {
      "text/plain": "[0, 1, 2, 4]"
     },
     "execution_count": 50,
     "metadata": {},
     "output_type": "execute_result"
    }
   ],
   "source": [
    "t = np.where((fc[ :, 1] < 6))[0]\n",
    "list(t)"
   ],
   "metadata": {
    "collapsed": false,
    "pycharm": {
     "name": "#%%\n"
    }
   }
  },
  {
   "cell_type": "code",
   "execution_count": 40,
   "outputs": [
    {
     "name": "stdout",
     "output_type": "stream",
     "text": [
      "[[  1   3]\n",
      " [101 102]\n",
      " [  3   2]\n",
      " [  5   7]\n",
      " [  4   1]]\n"
     ]
    }
   ],
   "source": [
    "ff = fc[1]\n",
    "ff += 99\n",
    "print(fc)"
   ],
   "metadata": {
    "collapsed": false,
    "pycharm": {
     "name": "#%%\n"
    }
   }
  },
  {
   "cell_type": "code",
   "execution_count": 47,
   "outputs": [
    {
     "name": "stdout",
     "output_type": "stream",
     "text": [
      "1\n"
     ]
    }
   ],
   "source": [
    "sl_ham = np.array([\n",
    "    [1],\n",
    "    [8],\n",
    "    [1],\n",
    "    [2]\n",
    "])\n",
    "print(np.argmax(sl_ham))"
   ],
   "metadata": {
    "collapsed": false,
    "pycharm": {
     "name": "#%%\n"
    }
   }
  },
  {
   "cell_type": "code",
   "execution_count": 91,
   "outputs": [],
   "source": [
    "a = np.ones((1000,10000))"
   ],
   "metadata": {
    "collapsed": false,
    "pycharm": {
     "name": "#%%\n"
    }
   }
  },
  {
   "cell_type": "code",
   "execution_count": 94,
   "outputs": [
    {
     "name": "stdout",
     "output_type": "stream",
     "text": [
      "!\n",
      "(1000, 10000)\n"
     ]
    }
   ],
   "source": [
    "for i in range(1000_00):\n",
    "    a[0, 0] = 999\n",
    "    a = np.zeros(a.shape)\n",
    "    # a = np.zeros_like(a)\n",
    "    # a[:, :] = 0\n",
    "print('!')\n",
    "print(a.shape)"
   ],
   "metadata": {
    "collapsed": false,
    "pycharm": {
     "name": "#%%\n"
    }
   }
  },
  {
   "cell_type": "code",
   "execution_count": 95,
   "outputs": [
    {
     "name": "stdout",
     "output_type": "stream",
     "text": [
      "[(1, 2), (4, 2)]\n"
     ]
    }
   ],
   "source": [
    "k = [(1, 2), (9, 2), (4, 2)]\n",
    "k.remove((9, 2))\n",
    "print(k)"
   ],
   "metadata": {
    "collapsed": false,
    "pycharm": {
     "name": "#%%\n"
    }
   }
  },
  {
   "cell_type": "code",
   "execution_count": 118,
   "outputs": [
    {
     "name": "stdout",
     "output_type": "stream",
     "text": [
      "1.469133086\n",
      "6\n"
     ]
    }
   ],
   "source": [
    "L = 7.34566543\n",
    "B = 8\n",
    "n_sl = 10\n",
    "wid = (2 * L)/10\n",
    "print(wid)\n",
    "cost_x = B\n",
    "print(\n",
    "    int(np.ceil((cost_x - (B - L)) / wid))\n",
    ")\n"
   ],
   "metadata": {
    "collapsed": false,
    "pycharm": {
     "name": "#%%\n"
    }
   }
  },
  {
   "cell_type": "code",
   "execution_count": 179,
   "outputs": [
    {
     "name": "stdout",
     "output_type": "stream",
     "text": [
      "[-1]\n"
     ]
    }
   ],
   "source": [
    "def fuccc(li):\n",
    "    li.append(-1)\n",
    "lll = []\n",
    "fuccc(lll)\n",
    "print(lll)"
   ],
   "metadata": {
    "collapsed": false,
    "pycharm": {
     "name": "#%%\n"
    }
   }
  }
 ],
 "metadata": {
  "kernelspec": {
   "display_name": "Python 3",
   "language": "python",
   "name": "python3"
  },
  "language_info": {
   "codemirror_mode": {
    "name": "ipython",
    "version": 2
   },
   "file_extension": ".py",
   "mimetype": "text/x-python",
   "name": "python",
   "nbconvert_exporter": "python",
   "pygments_lexer": "ipython2",
   "version": "2.7.6"
  }
 },
 "nbformat": 4,
 "nbformat_minor": 0
}