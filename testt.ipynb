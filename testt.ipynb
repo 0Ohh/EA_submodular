{
 "cells": [
  {
   "cell_type": "code",
   "execution_count": null,
   "outputs": [],
   "source": [],
   "metadata": {
    "collapsed": false,
    "pycharm": {
     "name": "#%%\n"
    }
   }
  },
  {
   "cell_type": "code",
   "execution_count": 516,
   "metadata": {
    "collapsed": true,
    "pycharm": {
     "name": "#%%\n"
    }
   },
   "outputs": [
    {
     "name": "stdout",
     "output_type": "stream",
     "text": [
      "0.5996553333333333\n",
      "[[0 1 0 ... 0 1 1]]\n",
      "0.419672\n",
      "True\n"
     ]
    }
   ],
   "source": [
    "import time\n",
    "\n",
    "import numpy as np\n",
    "lenth = 1500000\n",
    "s = np.mat(np.random.binomial(1, 0.6, lenth))\n",
    "print(s.sum()/lenth)\n",
    "print(s)\n",
    "\n",
    "s_ori = np.copy(s)\n",
    "\n",
    "change1_to_0 = (1 - np.random.binomial(1, 0.3, lenth))\n",
    "s = np.multiply(s, change1_to_0)\n",
    "print(s.sum()/lenth)\n",
    "check = np.multiply((1 - s), (1 - s_ori))\n",
    "print(np.all((1 - s_ori) == check))\n",
    "\n",
    "def f_1_to_0(sin, change1_to_0):\n",
    "    change1_to_0 = 1- change1_to_0\n",
    "    return np.multiply(sin, change1_to_0)\n",
    "\n",
    "change0_to_1 = np.random.binomial(1, 0.5, lenth)\n",
    "print(change0_to_1.sum() / lenth)\n",
    "print('', change0_to_1)\n",
    "s = 1 - f_1_to_0(1-s, change0_to_1)\n",
    "print(s.sum()/lenth)\n",
    "print(s)"
   ]
  },
  {
   "cell_type": "code",
   "execution_count": 309,
   "outputs": [
    {
     "name": "stdout",
     "output_type": "stream",
     "text": [
      "[[0 1 1 1]]\n"
     ]
    }
   ],
   "source": [
    "s = np.mat([0,0,1,1])\n",
    "change0_to_1 = np.array([1, 0, 1, 0])\n",
    "s = 1 - s\n",
    "s = np.multiply(s, change0_to_1)\n",
    "s = 1 - s\n",
    "print(s)"
   ],
   "metadata": {
    "collapsed": false,
    "pycharm": {
     "name": "#%%\n"
    }
   }
  },
  {
   "cell_type": "code",
   "execution_count": 558,
   "outputs": [
    {
     "name": "stdout",
     "output_type": "stream",
     "text": [
      "[[0 0 0 1 1 1 1 0 0 1 1 0 1 0 1 0 0 0 1 1 1 0 1 0 1 1 0 1 0 0 1 0 1 1 0 0\n",
      "  0 0 1 0 0 1 0 0 1 0 0 1 0 0 0 0 0 1 0 1 1 1 1 1 0 0 1 0 0 1 1 0 1 1 0 1\n",
      "  0 1 1 1 1 0 0 0 1 0 1 1 0 1 0 1 1 0 0 0 0 1 1 0 0 0 1 0]]\n"
     ]
    }
   ],
   "source": [
    "popu = np.mat(np.random.binomial(1, 0.5, 100), 'int8')\n",
    "print(popu)"
   ],
   "metadata": {
    "collapsed": false,
    "pycharm": {
     "name": "#%%\n"
    }
   }
  },
  {
   "cell_type": "code",
   "execution_count": 597,
   "outputs": [
    {
     "name": "stdout",
     "output_type": "stream",
     "text": [
      "[[[ 0  0  0  0  0  0  0  0  0  0  0  0]\n",
      "  [ 1  0  0  0  0  0  0  0  0  0  0  0]\n",
      "  [ 2  0  0  0  0  0  0  0  0  0  0  0]\n",
      "  [ 3  0  0  0  0  0  0  0  0  0  0  0]\n",
      "  [ 4  0  0  0  0  0  0  0  0  0  0  0]]\n",
      "\n",
      " [[ 5  0  0  0  0  0  0  0  0  0  0  0]\n",
      "  [ 6  0  0  0  0  0  0  0  0  0  0  0]\n",
      "  [ 7  0  0  0  0  0  0  0  0  0  0  0]\n",
      "  [ 8  0  0  0  0  0  0  0  0  0  0  0]\n",
      "  [ 9  0  0  0  0  0  0  0  0  0  0  0]]\n",
      "\n",
      " [[10  0  0  0  0  0  0  0  0  0  0  0]\n",
      "  [11  0  0  0  0  0  0  0  0  0  0  0]\n",
      "  [12  0  0  0  0  0  0  0  0  0  0  0]\n",
      "  [13  0  0  0  0  0  0  0  0  0  0  0]\n",
      "  [14  0  0  0  0  0  0  0  0  0  0  0]]\n",
      "\n",
      " [[15  0  0  0  0  0  0  0  0  0  0  0]\n",
      "  [16  0  0  0  0  0  0  0  0  0  0  0]\n",
      "  [17  0  0  0  0  0  0  0  0  0  0  0]\n",
      "  [18  0  0  0  0  0  0  0  0  0  0  0]\n",
      "  [19  0  0  0  0  0  0  0  0  0  0  0]]\n",
      "\n",
      " [[20  0  0  0  0  0  0  0  0  0  0  0]\n",
      "  [21  0  0  0  0  0  0  0  0  0  0  0]\n",
      "  [22  0  0  0  0  0  0  0  0  0  0  0]\n",
      "  [23  0  0  0  0  0  0  0  0  0  0  0]\n",
      "  [24  0  0  0  0  0  0  0  0  0  0  0]]\n",
      "\n",
      " [[25  0  0  0  0  0  0  0  0  0  0  0]\n",
      "  [26  0  0  0  0  0  0  0  0  0  0  0]\n",
      "  [27  0  0  0  0  0  0  0  0  0  0  0]\n",
      "  [28  0  0  0  0  0  0  0  0  0  0  0]\n",
      "  [29  0  0  0  0  0  0  0  0  0  0  0]]\n",
      "\n",
      " [[30  0  0  0  0  0  0  0  0  0  0  0]\n",
      "  [31  0  0  0  0  0  0  0  0  0  0  0]\n",
      "  [32  0  0  0  0  0  0  0  0  0  0  0]\n",
      "  [33  0  0  0  0  0  0  0  0  0  0  0]\n",
      "  [34  0  0  0  0  0  0  0  0  0  0  0]]\n",
      "\n",
      " [[35  0  0  0  0  0  0  0  0  0  0  0]\n",
      "  [36  0  0  0  0  0  0  0  0  0  0  0]\n",
      "  [37  0  0  0  0  0  0  0  0  0  0  0]\n",
      "  [38  0  0  0  0  0  0  0  0  0  0  0]\n",
      "  [39  0  0  0  0  0  0  0  0  0  0  0]]\n",
      "\n",
      " [[40  0  0  0  0  0  0  0  0  0  0  0]\n",
      "  [41  0  0  0  0  0  0  0  0  0  0  0]\n",
      "  [42  0  0  0  0  0  0  0  0  0  0  0]\n",
      "  [43  0  0  0  0  0  0  0  0  0  0  0]\n",
      "  [44  0  0  0  0  0  0  0  0  0  0  0]]\n",
      "\n",
      " [[45  0  0  0  0  0  0  0  0  0  0  0]\n",
      "  [46  0  0  0  0  0  0  0  0  0  0  0]\n",
      "  [47  0  0  0  0  0  0  0  0  0  0  0]\n",
      "  [48  0  0  0  0  0  0  0  0  0  0  0]\n",
      "  [49  0  0  0  0  0  0  0  0  0  0  0]]]\n"
     ]
    }
   ],
   "source": [
    "sl_n = 10\n",
    "ind_n = 5\n",
    "popu_slots = np.array(np.zeros([sl_n, ind_n, 12], 'int8'))\n",
    "for i in range(0, sl_n):\n",
    "    for j in range(0, ind_n):\n",
    "        popu_slots[i, j, 0] = i*ind_n + j\n",
    "print(popu_slots)"
   ],
   "metadata": {
    "collapsed": false,
    "pycharm": {
     "name": "#%%\n"
    }
   }
  },
  {
   "cell_type": "code",
   "execution_count": 631,
   "outputs": [
    {
     "name": "stdout",
     "output_type": "stream",
     "text": [
      "[22  0  0  0  0  0  0  0  0  0  0  0]\n",
      "[ -78 -100 -100 -100 -100 -100 -100 -100 -100 -100 -100 -100]\n"
     ]
    }
   ],
   "source": [
    "ran_indic = 22\n",
    "si = ran_indic // ind_n\n",
    "ii = ran_indic % ind_n\n",
    "indie = (si, ii)\n",
    "x = popu_slots[indie]\n",
    "x = x -100\n",
    "print(popu_slots[indie])\n",
    "print(x)"
   ],
   "metadata": {
    "collapsed": false,
    "pycharm": {
     "name": "#%%\n"
    }
   }
  },
  {
   "cell_type": "code",
   "execution_count": 589,
   "outputs": [
    {
     "name": "stdout",
     "output_type": "stream",
     "text": [
      "1.7598116397857666\n"
     ]
    }
   ],
   "source": [
    "t0 = time.time()\n",
    "for i in range(0, 100_0000):\n",
    "    sl_ind = i % sl_n\n",
    "    indi_ind = i % ind_n\n",
    "    choose = popu_slots[sl_ind, indi_ind, :]\n",
    "    choose = choose + 1\n",
    "    # popu_slots[sl_ind, indi_ind, :] = choose\n",
    "print(time.time() - t0)\n"
   ],
   "metadata": {
    "collapsed": false,
    "pycharm": {
     "name": "#%%\n"
    }
   }
  }
 ],
 "metadata": {
  "kernelspec": {
   "display_name": "Python 3",
   "language": "python",
   "name": "python3"
  },
  "language_info": {
   "codemirror_mode": {
    "name": "ipython",
    "version": 2
   },
   "file_extension": ".py",
   "mimetype": "text/x-python",
   "name": "python",
   "nbconvert_exporter": "python",
   "pygments_lexer": "ipython2",
   "version": "2.7.6"
  }
 },
 "nbformat": 4,
 "nbformat_minor": 0
}