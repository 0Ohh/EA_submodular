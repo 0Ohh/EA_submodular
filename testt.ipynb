{
 "cells": [
  {
   "cell_type": "code",
   "execution_count": 516,
   "metadata": {
    "collapsed": true,
    "pycharm": {
     "name": "#%%\n"
    }
   },
   "outputs": [
    {
     "name": "stdout",
     "output_type": "stream",
     "text": [
      "0.5996553333333333\n",
      "[[0 1 0 ... 0 1 1]]\n",
      "0.419672\n",
      "True\n"
     ]
    }
   ],
   "source": [
    "import numpy as np\n",
    "lenth = 1500000\n",
    "s = np.mat(np.random.binomial(1, 0.6, lenth))\n",
    "print(s.sum()/lenth)\n",
    "print(s)\n",
    "\n",
    "s_ori = np.copy(s)\n",
    "\n",
    "change1_to_0 = (1 - np.random.binomial(1, 0.3, lenth))\n",
    "s = np.multiply(s, change1_to_0)\n",
    "print(s.sum()/lenth)\n",
    "check = np.multiply((1 - s), (1 - s_ori))\n",
    "print(np.all((1 - s_ori) == check))\n",
    "\n",
    "def f_1_to_0(sin, change1_to_0):\n",
    "    change1_to_0 = 1- change1_to_0\n",
    "    return np.multiply(sin, change1_to_0)\n",
    "\n",
    "change0_to_1 = np.random.binomial(1, 0.5, lenth)\n",
    "print(change0_to_1.sum() / lenth)\n",
    "print('', change0_to_1)\n",
    "s = 1 - f_1_to_0(1-s, change0_to_1)\n",
    "print(s.sum()/lenth)\n",
    "print(s)"
   ]
  },
  {
   "cell_type": "code",
   "execution_count": 309,
   "outputs": [
    {
     "name": "stdout",
     "output_type": "stream",
     "text": [
      "[[0 1 1 1]]\n"
     ]
    }
   ],
   "source": [
    "s = np.mat([0,0,1,1])\n",
    "change0_to_1 = np.array([1, 0, 1, 0])\n",
    "s = 1 - s\n",
    "s = np.multiply(s, change0_to_1)\n",
    "s = 1 - s\n",
    "print(s)"
   ],
   "metadata": {
    "collapsed": false,
    "pycharm": {
     "name": "#%%\n"
    }
   }
  }
 ],
 "metadata": {
  "kernelspec": {
   "display_name": "Python 3",
   "language": "python",
   "name": "python3"
  },
  "language_info": {
   "codemirror_mode": {
    "name": "ipython",
    "version": 2
   },
   "file_extension": ".py",
   "mimetype": "text/x-python",
   "name": "python",
   "nbconvert_exporter": "python",
   "pygments_lexer": "ipython2",
   "version": "2.7.6"
  }
 },
 "nbformat": 4,
 "nbformat_minor": 0
}
