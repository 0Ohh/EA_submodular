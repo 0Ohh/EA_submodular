{
 "cells": [
  {
   "cell_type": "code",
   "execution_count": null,
   "outputs": [],
   "source": [],
   "metadata": {
    "collapsed": false,
    "pycharm": {
     "name": "#%%\n"
    },
    "ExecuteTime": {
     "end_time": "2024-05-23T05:53:46.339598800Z",
     "start_time": "2024-05-23T05:53:46.329993Z"
    }
   }
  },
  {
   "cell_type": "code",
   "execution_count": 1,
   "metadata": {
    "collapsed": true,
    "pycharm": {
     "name": "#%%\n"
    },
    "ExecuteTime": {
     "end_time": "2024-05-23T05:53:46.537162500Z",
     "start_time": "2024-05-23T05:53:46.336564400Z"
    }
   },
   "outputs": [
    {
     "name": "stdout",
     "output_type": "stream",
     "text": [
      "0.599782\n",
      "[[1 1 1 ... 0 0 1]]\n",
      "0.420078\n",
      "True\n",
      "0.499594\n",
      " [0 1 1 ... 0 0 0]\n",
      "0.7097046666666667\n",
      "[[0 1 1 ... 0 0 1]]\n"
     ]
    }
   ],
   "source": [
    "import time\n",
    "\n",
    "import numpy as np\n",
    "lenth = 1500000\n",
    "s = np.mat(np.random.binomial(1, 0.6, lenth))\n",
    "print(s.sum()/lenth)\n",
    "print(s)\n",
    "\n",
    "s_ori = np.copy(s)\n",
    "\n",
    "change1_to_0 = (1 - np.random.binomial(1, 0.3, lenth))\n",
    "s = np.multiply(s, change1_to_0)\n",
    "print(s.sum()/lenth)\n",
    "check = np.multiply((1 - s), (1 - s_ori))\n",
    "print(np.all((1 - s_ori) == check))\n",
    "\n",
    "def f_1_to_0(sin, change1_to_0):\n",
    "    change1_to_0 = 1- change1_to_0\n",
    "    return np.multiply(sin, change1_to_0)\n",
    "\n",
    "change0_to_1 = np.random.binomial(1, 0.5, lenth)\n",
    "print(change0_to_1.sum() / lenth)\n",
    "print('', change0_to_1)\n",
    "s = 1 - f_1_to_0(1-s, change0_to_1)\n",
    "print(s.sum()/lenth)\n",
    "print(s)"
   ]
  },
  {
   "cell_type": "code",
   "execution_count": 2,
   "outputs": [
    {
     "name": "stdout",
     "output_type": "stream",
     "text": [
      "[[0 1 1 1]]\n"
     ]
    }
   ],
   "source": [
    "s = np.mat([0,0,1,1])\n",
    "change0_to_1 = np.array([1, 0, 1, 0])\n",
    "s = 1 - s\n",
    "s = np.multiply(s, change0_to_1)\n",
    "s = 1 - s\n",
    "print(s)"
   ],
   "metadata": {
    "collapsed": false,
    "pycharm": {
     "name": "#%%\n"
    },
    "ExecuteTime": {
     "end_time": "2024-05-23T05:53:46.544970300Z",
     "start_time": "2024-05-23T05:53:46.538214400Z"
    }
   }
  },
  {
   "cell_type": "code",
   "execution_count": 218,
   "outputs": [
    {
     "data": {
      "text/plain": "True"
     },
     "execution_count": 218,
     "metadata": {},
     "output_type": "execute_result"
    }
   ],
   "source": [
    "np.inf == np.inf"
   ],
   "metadata": {
    "collapsed": false,
    "ExecuteTime": {
     "end_time": "2024-05-23T18:15:26.574571700Z",
     "start_time": "2024-05-23T18:15:26.570079700Z"
    }
   }
  },
  {
   "cell_type": "code",
   "execution_count": 3,
   "outputs": [
    {
     "name": "stdout",
     "output_type": "stream",
     "text": [
      "[[0 0 0 0 1 0 0 1 1 0 0 0 1 1 0 1 0 0 1 0 0 0 1 1 1 1 0 1 1 1 1 1 0 1 1 0\n",
      "  1 1 0 1 1 0 0 1 1 1 1 1 1 1 0 1 1 1 1 0 0 0 0 1 1 0 0 0 0 0 1 1 0 1 0 0\n",
      "  1 0 0 0 1 0 0 0 1 1 1 1 1 0 0 0 0 0 0 1 0 1 1 0 1 1 1 1]]\n"
     ]
    }
   ],
   "source": [
    "popu = np.mat(np.random.binomial(1, 0.5, 100), 'int8')\n",
    "print(popu)"
   ],
   "metadata": {
    "collapsed": false,
    "pycharm": {
     "name": "#%%\n"
    },
    "ExecuteTime": {
     "end_time": "2024-05-23T05:53:46.545986100Z",
     "start_time": "2024-05-23T05:53:46.542452800Z"
    }
   }
  },
  {
   "cell_type": "code",
   "execution_count": 4,
   "outputs": [
    {
     "name": "stdout",
     "output_type": "stream",
     "text": [
      "[[[ 0  0  0  0  0  0  0  0  0  0  0  0]\n",
      "  [ 1  0  0  0  0  0  0  0  0  0  0  0]\n",
      "  [ 2  0  0  0  0  0  0  0  0  0  0  0]\n",
      "  [ 3  0  0  0  0  0  0  0  0  0  0  0]\n",
      "  [ 4  0  0  0  0  0  0  0  0  0  0  0]]\n",
      "\n",
      " [[ 5  0  0  0  0  0  0  0  0  0  0  0]\n",
      "  [ 6  0  0  0  0  0  0  0  0  0  0  0]\n",
      "  [ 7  0  0  0  0  0  0  0  0  0  0  0]\n",
      "  [ 8  0  0  0  0  0  0  0  0  0  0  0]\n",
      "  [ 9  0  0  0  0  0  0  0  0  0  0  0]]\n",
      "\n",
      " [[10  0  0  0  0  0  0  0  0  0  0  0]\n",
      "  [11  0  0  0  0  0  0  0  0  0  0  0]\n",
      "  [12  0  0  0  0  0  0  0  0  0  0  0]\n",
      "  [13  0  0  0  0  0  0  0  0  0  0  0]\n",
      "  [14  0  0  0  0  0  0  0  0  0  0  0]]\n",
      "\n",
      " [[15  0  0  0  0  0  0  0  0  0  0  0]\n",
      "  [16  0  0  0  0  0  0  0  0  0  0  0]\n",
      "  [17  0  0  0  0  0  0  0  0  0  0  0]\n",
      "  [18  0  0  0  0  0  0  0  0  0  0  0]\n",
      "  [19  0  0  0  0  0  0  0  0  0  0  0]]\n",
      "\n",
      " [[20  0  0  0  0  0  0  0  0  0  0  0]\n",
      "  [21  0  0  0  0  0  0  0  0  0  0  0]\n",
      "  [22  0  0  0  0  0  0  0  0  0  0  0]\n",
      "  [23  0  0  0  0  0  0  0  0  0  0  0]\n",
      "  [24  0  0  0  0  0  0  0  0  0  0  0]]\n",
      "\n",
      " [[25  0  0  0  0  0  0  0  0  0  0  0]\n",
      "  [26  0  0  0  0  0  0  0  0  0  0  0]\n",
      "  [27  0  0  0  0  0  0  0  0  0  0  0]\n",
      "  [28  0  0  0  0  0  0  0  0  0  0  0]\n",
      "  [29  0  0  0  0  0  0  0  0  0  0  0]]\n",
      "\n",
      " [[30  0  0  0  0  0  0  0  0  0  0  0]\n",
      "  [31  0  0  0  0  0  0  0  0  0  0  0]\n",
      "  [32  0  0  0  0  0  0  0  0  0  0  0]\n",
      "  [33  0  0  0  0  0  0  0  0  0  0  0]\n",
      "  [34  0  0  0  0  0  0  0  0  0  0  0]]\n",
      "\n",
      " [[35  0  0  0  0  0  0  0  0  0  0  0]\n",
      "  [36  0  0  0  0  0  0  0  0  0  0  0]\n",
      "  [37  0  0  0  0  0  0  0  0  0  0  0]\n",
      "  [38  0  0  0  0  0  0  0  0  0  0  0]\n",
      "  [39  0  0  0  0  0  0  0  0  0  0  0]]\n",
      "\n",
      " [[40  0  0  0  0  0  0  0  0  0  0  0]\n",
      "  [41  0  0  0  0  0  0  0  0  0  0  0]\n",
      "  [42  0  0  0  0  0  0  0  0  0  0  0]\n",
      "  [43  0  0  0  0  0  0  0  0  0  0  0]\n",
      "  [44  0  0  0  0  0  0  0  0  0  0  0]]\n",
      "\n",
      " [[45  0  0  0  0  0  0  0  0  0  0  0]\n",
      "  [46  0  0  0  0  0  0  0  0  0  0  0]\n",
      "  [47  0  0  0  0  0  0  0  0  0  0  0]\n",
      "  [48  0  0  0  0  0  0  0  0  0  0  0]\n",
      "  [49  0  0  0  0  0  0  0  0  0  0  0]]]\n"
     ]
    }
   ],
   "source": [
    "sl_n = 10\n",
    "ind_n = 5\n",
    "popu_slots = np.array(np.zeros([sl_n, ind_n, 12], 'int8'))\n",
    "for i in range(0, sl_n):\n",
    "    for j in range(0, ind_n):\n",
    "        popu_slots[i, j, 0] = i*ind_n + j\n",
    "print(popu_slots)"
   ],
   "metadata": {
    "collapsed": false,
    "pycharm": {
     "name": "#%%\n"
    },
    "ExecuteTime": {
     "end_time": "2024-05-23T05:53:46.548155100Z",
     "start_time": "2024-05-23T05:53:46.544970300Z"
    }
   }
  },
  {
   "cell_type": "code",
   "execution_count": 206,
   "outputs": [
    {
     "data": {
      "text/plain": "0.696730689741764"
     },
     "execution_count": 206,
     "metadata": {},
     "output_type": "execute_result"
    }
   ],
   "source": [],
   "metadata": {
    "collapsed": false,
    "ExecuteTime": {
     "end_time": "2024-05-23T17:07:49.480465300Z",
     "start_time": "2024-05-23T17:07:49.474441300Z"
    }
   }
  },
  {
   "cell_type": "code",
   "execution_count": 5,
   "outputs": [
    {
     "name": "stdout",
     "output_type": "stream",
     "text": [
      "[22  0  0  0  0  0  0  0  0  0  0  0]\n",
      "[ -78 -100 -100 -100 -100 -100 -100 -100 -100 -100 -100 -100]\n"
     ]
    }
   ],
   "source": [
    "ran_indic = 22\n",
    "si = ran_indic // ind_n\n",
    "ii = ran_indic % ind_n\n",
    "indie = (si, ii)\n",
    "x = popu_slots[indie]\n",
    "x = x -100\n",
    "print(popu_slots[indie])\n",
    "print(x)"
   ],
   "metadata": {
    "collapsed": false,
    "pycharm": {
     "name": "#%%\n"
    },
    "ExecuteTime": {
     "end_time": "2024-05-23T05:53:46.555715100Z",
     "start_time": "2024-05-23T05:53:46.549472Z"
    }
   }
  },
  {
   "cell_type": "code",
   "execution_count": 6,
   "outputs": [
    {
     "name": "stdout",
     "output_type": "stream",
     "text": [
      "0.0\n"
     ]
    }
   ],
   "source": [
    "t0 = time.time()\n",
    "for i in range(0, 100):\n",
    "    sl_ind = i % sl_n\n",
    "    indi_ind = i % ind_n\n",
    "    choose = popu_slots[sl_ind, indi_ind, :]\n",
    "    choose = choose + 1\n",
    "    # popu_slots[sl_ind, indi_ind, :] = choose\n",
    "print(time.time() - t0)\n"
   ],
   "metadata": {
    "collapsed": false,
    "pycharm": {
     "name": "#%%\n"
    },
    "ExecuteTime": {
     "end_time": "2024-05-23T05:53:46.557123400Z",
     "start_time": "2024-05-23T05:53:46.551990500Z"
    }
   }
  },
  {
   "cell_type": "code",
   "execution_count": 7,
   "outputs": [
    {
     "name": "stdout",
     "output_type": "stream",
     "text": [
      "[[45  0  0  0  0  0  0  0  0  0  0  0]\n",
      " [46  0  0  0  0  0  0  0  0  0  0  0]\n",
      " [47  0  0  0  0  0  0  0  0  0  0  0]\n",
      " [48  0  0  0  0  0  0  0  0  0  0  0]\n",
      " [49  0  0  0  0  0  0  0  0  0  0  0]]\n"
     ]
    }
   ],
   "source": [
    "si = 3\n",
    "ii = 2\n",
    "# popu_slots[si].shape[0]\n",
    "popu_slots[si, ii, 0]\n",
    "print(popu_slots[-1])"
   ],
   "metadata": {
    "collapsed": false,
    "pycharm": {
     "name": "#%%\n"
    },
    "ExecuteTime": {
     "end_time": "2024-05-23T05:53:46.573482300Z",
     "start_time": "2024-05-23T05:53:46.555715100Z"
    }
   }
  },
  {
   "cell_type": "code",
   "execution_count": 8,
   "outputs": [
    {
     "name": "stdout",
     "output_type": "stream",
     "text": [
      "[6 1 1 1 1 1 1 1 1 1 1 1]\n",
      "50\n",
      "51\n",
      "52\n",
      "53\n",
      "54\n",
      "260\n"
     ]
    },
    {
     "data": {
      "text/plain": "260"
     },
     "execution_count": 8,
     "metadata": {},
     "output_type": "execute_result"
    }
   ],
   "source": [
    "x = np.array(popu_slots[1][0]) + 1\n",
    "print(x)\n",
    "for s in popu_slots[-1]:\n",
    "    print(np.abs(x - s).sum())\n",
    "print(\n",
    "    np.abs(x - popu_slots[-1]).sum()\n",
    ")\n",
    "50+51+52+53+54"
   ],
   "metadata": {
    "collapsed": false,
    "pycharm": {
     "name": "#%%\n"
    },
    "ExecuteTime": {
     "end_time": "2024-05-23T05:53:46.656384600Z",
     "start_time": "2024-05-23T05:53:46.573482300Z"
    }
   }
  },
  {
   "cell_type": "code",
   "execution_count": 9,
   "outputs": [
    {
     "data": {
      "text/plain": "<Figure size 640x480 with 1 Axes>",
      "image/png": "[encoded data removed]"
     },
     "metadata": {},
     "output_type": "display_data"
    }
   ],
   "source": [
    "import matplotlib.pyplot as plt\n",
    "reco = [444, 445, 445, 447, 449, 449, 449]\n",
    "t    = [1000, 2000, 3000, 4000, 5000, 6000, 7000]\n",
    "plt.plot(t, reco)\n",
    "plt.show()"
   ],
   "metadata": {
    "collapsed": false,
    "pycharm": {
     "name": "#%%\n"
    },
    "ExecuteTime": {
     "end_time": "2024-05-23T05:53:46.946762400Z",
     "start_time": "2024-05-23T05:53:46.578421Z"
    }
   }
  },
  {
   "cell_type": "code",
   "execution_count": 10,
   "outputs": [
    {
     "name": "stdout",
     "output_type": "stream",
     "text": [
      "[1 2]\n"
     ]
    }
   ],
   "source": [
    "sss = np.array([0, 1, 2, 3])\n",
    "print(sss[1:3])"
   ],
   "metadata": {
    "collapsed": false,
    "pycharm": {
     "name": "#%%\n"
    },
    "ExecuteTime": {
     "end_time": "2024-05-23T05:53:46.954756600Z",
     "start_time": "2024-05-23T05:53:46.949817800Z"
    }
   }
  },
  {
   "cell_type": "code",
   "execution_count": 11,
   "outputs": [
    {
     "data": {
      "text/plain": "array([666,   1,   2,   3])"
     },
     "execution_count": 11,
     "metadata": {},
     "output_type": "execute_result"
    }
   ],
   "source": [
    "np.where(sss == 0, 666, sss)\n",
    "\n"
   ],
   "metadata": {
    "collapsed": false,
    "pycharm": {
     "name": "#%%\n"
    },
    "ExecuteTime": {
     "end_time": "2024-05-23T05:53:46.962673700Z",
     "start_time": "2024-05-23T05:53:46.955441600Z"
    }
   }
  },
  {
   "cell_type": "code",
   "execution_count": 12,
   "outputs": [
    {
     "name": "stdout",
     "output_type": "stream",
     "text": [
      "[[0 1 1 0 0 1]\n",
      " [0 1 1 0 0 0]\n",
      " [0 0 0 0 0 0]\n",
      " [0 0 1 0 0 1]]\n",
      "[3 2 0 2]\n",
      "0\n",
      "[3 2 0 2]\n",
      "3\n",
      "[3 2 3 2]\n",
      "2\n"
     ]
    }
   ],
   "source": [
    "slot = np.array([\n",
    "    [0, 1, 0, 0, 0, 0],\n",
    "    [0, 1, 0, 0, 0, 1],\n",
    "    [0, 0, 1, 0, 0, 1],\n",
    "    [0, 0, 0, 0, 0, 0]\n",
    "])\n",
    "x= np.array(\n",
    "    [0, 0, 1, 0, 0, 1])\n",
    "\n",
    "# slot = slot.reshape(1, -1)\n",
    "print(np.abs(x - slot))\n",
    "print(\n",
    "    np.sum(np.abs(x - slot), axis=1)\n",
    "    )\n",
    "print(\n",
    "    np.min(np.sum(np.abs(x - slot), axis=1))\n",
    "    )\n",
    "diff = np.sum(np.abs(x - slot), axis=1)\n",
    "# diff[2] = np.inf\n",
    "print(diff)\n",
    "print(np.max(diff))\n",
    "diff[2] = np.max(diff)\n",
    "print(diff)\n",
    "print(np.min(diff))"
   ],
   "metadata": {
    "collapsed": false,
    "pycharm": {
     "name": "#%%\n"
    },
    "ExecuteTime": {
     "end_time": "2024-05-23T05:53:46.970310Z",
     "start_time": "2024-05-23T05:53:46.959561500Z"
    }
   }
  },
  {
   "cell_type": "code",
   "execution_count": 13,
   "outputs": [
    {
     "name": "stdout",
     "output_type": "stream",
     "text": [
      "[[0 1 0 0 0 0]\n",
      " [0 1 0 0 0 1]\n",
      " [0 0 1 0 0 1]\n",
      " [0 0 0 0 0 0]]\n",
      "0\n",
      "2\n",
      "[2]\n"
     ]
    }
   ],
   "source": [
    "print(slot)\n",
    "print(len(np.where(slot[:,1] == 3)[0]))\n",
    "print(len(np.where(slot[:,1] == 0)[0]))\n",
    "print(np.where(slot[:,2] == 1)[0])"
   ],
   "metadata": {
    "collapsed": false,
    "pycharm": {
     "name": "#%%\n"
    },
    "ExecuteTime": {
     "end_time": "2024-05-23T05:53:47.038197700Z",
     "start_time": "2024-05-23T05:53:46.968025200Z"
    }
   }
  },
  {
   "cell_type": "code",
   "execution_count": 14,
   "outputs": [
    {
     "name": "stdout",
     "output_type": "stream",
     "text": [
      "[[45  0  0  0  0  0  0  0  0  0  0  0]\n",
      " [46  0  0  0  0  0  0  0  0  0  0  0]\n",
      " [47  4  0  0  0  0  0  0  0  0  0  0]\n",
      " [48  7  0  0  0  0  0  0  0  0  0  0]\n",
      " [49  5  0  0  0  0  0  0  0  0  0  0]]\n",
      "[3 4]\n",
      "[0 1 2 4]\n",
      "[4]\n"
     ]
    }
   ],
   "source": [
    "popu_slots[-1, 2, 1] = 4\n",
    "popu_slots[-1, 3, 1] = 7\n",
    "popu_slots[-1, 4, 1] = 5\n",
    "print(popu_slots[-1])\n",
    "print((np.where((popu_slots[-1, :, 0] > 47))[0]))\n",
    "print((np.where((popu_slots[-1, :, 1] < 6))[0]))\n",
    "print((np.where((popu_slots[-1, :, 0] > 47) & (popu_slots[-1, :, 1] < 6))[0]))"
   ],
   "metadata": {
    "collapsed": false,
    "pycharm": {
     "name": "#%%\n"
    },
    "ExecuteTime": {
     "end_time": "2024-05-23T05:53:47.039194400Z",
     "start_time": "2024-05-23T05:53:46.972911200Z"
    }
   }
  },
  {
   "cell_type": "code",
   "execution_count": 30,
   "outputs": [
    {
     "name": "stdout",
     "output_type": "stream",
     "text": [
      "[0 1 2 8]\n"
     ]
    }
   ],
   "source": [
    "\n",
    "fc = np.array([\n",
    "    [9, 3],\n",
    "    [2, 3],\n",
    "    [3, 2],\n",
    "    [5, 7],\n",
    "    [5, 7],\n",
    "    [5, 7],\n",
    "    [5, 7],\n",
    "    [5, 7],\n",
    "    [4, 1]\n",
    "])\n",
    "# print(np.argmax(fc[0], axis=0))\n",
    "# print(np.max(fc[:, 0], axis=0))\n",
    "print((np.where((fc[ :, 1] < 6))[0]))"
   ],
   "metadata": {
    "collapsed": false,
    "pycharm": {
     "name": "#%%\n"
    },
    "ExecuteTime": {
     "end_time": "2024-05-23T05:59:10.026346200Z",
     "start_time": "2024-05-23T05:59:10.019612Z"
    }
   }
  },
  {
   "cell_type": "code",
   "execution_count": 188,
   "outputs": [
    {
     "data": {
      "text/plain": "array([[1008,    3],\n       [1001,    3],\n       [1002,    2],\n       [1004,    7],\n       [1004,    7],\n       [1004,    7],\n       [1004,    7],\n       [1004,    7],\n       [1003,    1]])"
     },
     "execution_count": 188,
     "metadata": {},
     "output_type": "execute_result"
    }
   ],
   "source": [
    "sl = fc[:, 0]\n",
    "sl += 999\n",
    "fc"
   ],
   "metadata": {
    "collapsed": false,
    "ExecuteTime": {
     "end_time": "2024-05-23T16:43:03.477023300Z",
     "start_time": "2024-05-23T16:43:03.471298500Z"
    }
   }
  },
  {
   "cell_type": "code",
   "execution_count": 42,
   "outputs": [
    {
     "data": {
      "text/plain": "5"
     },
     "execution_count": 42,
     "metadata": {},
     "output_type": "execute_result"
    }
   ],
   "source": [
    "f = fc[:, 0]\n",
    "len(np.where(f == 5)[0])"
   ],
   "metadata": {
    "collapsed": false,
    "ExecuteTime": {
     "end_time": "2024-05-23T06:01:18.728821900Z",
     "start_time": "2024-05-23T06:01:18.726333800Z"
    }
   }
  },
  {
   "cell_type": "code",
   "execution_count": 76,
   "outputs": [
    {
     "data": {
      "text/plain": "array([0, 0, 1, 5, 3])"
     },
     "execution_count": 76,
     "metadata": {},
     "output_type": "execute_result"
    }
   ],
   "source": [
    "popu = np.zeros(5, 'int')\n",
    "popu[2] = 1.0\n",
    "popu[3] = 5.0\n",
    "popu[4] = 3.0\n",
    "popu"
   ],
   "metadata": {
    "collapsed": false,
    "ExecuteTime": {
     "end_time": "2024-05-23T07:29:38.053627300Z",
     "start_time": "2024-05-23T07:29:38.046582400Z"
    }
   }
  },
  {
   "cell_type": "code",
   "execution_count": 81,
   "outputs": [
    {
     "name": "stdout",
     "output_type": "stream",
     "text": [
      "[1.8 2.7 3.  9. ]\n"
     ]
    }
   ],
   "source": [
    "f = np.array([1, 2, 3])\n",
    "f_all = np.hstack((f, [[5]]))\n",
    "print(f_all)"
   ],
   "metadata": {
    "collapsed": false,
    "ExecuteTime": {
     "end_time": "2024-05-23T07:37:13.850469400Z",
     "start_time": "2024-05-23T07:37:13.846331500Z"
    }
   }
  },
  {
   "cell_type": "markdown",
   "source": [],
   "metadata": {
    "collapsed": false,
    "pycharm": {
     "name": "#%% md\n"
    }
   }
  },
  {
   "cell_type": "code",
   "execution_count": 84,
   "outputs": [
    {
     "data": {
      "text/plain": "array([0, 1, 2, 3, 4])"
     },
     "execution_count": 84,
     "metadata": {},
     "output_type": "execute_result"
    }
   ],
   "source": [
    "np.arange(5)"
   ],
   "metadata": {
    "collapsed": false,
    "ExecuteTime": {
     "end_time": "2024-05-23T07:51:28.298405700Z",
     "start_time": "2024-05-23T07:51:28.289630600Z"
    }
   }
  },
  {
   "cell_type": "code",
   "execution_count": 123,
   "outputs": [
    {
     "name": "stdout",
     "output_type": "stream",
     "text": [
      "[[0 9]\n",
      " [1 6]\n",
      " [2 6]\n",
      " [3 6]\n",
      " [4 4]\n",
      " [5 3]]\n"
     ]
    }
   ],
   "source": [
    "ind = [0, 1, 2, 3, 4, 5]\n",
    "sli = fc[ind]\n",
    "# print(sli)\n",
    "# print(np.array(ind).reshape(-1, 1))\n",
    "i_f_c = np.vstack((np.array(ind), [9, 6, 6, 6, 4, 3])).T\n",
    "print(i_f_c)"
   ],
   "metadata": {
    "collapsed": false,
    "pycharm": {
     "name": "#%%\n"
    },
    "ExecuteTime": {
     "end_time": "2024-05-23T09:50:26.425864700Z",
     "start_time": "2024-05-23T09:50:26.421875600Z"
    }
   }
  },
  {
   "cell_type": "code",
   "execution_count": 144,
   "outputs": [
    {
     "name": "stdout",
     "output_type": "stream",
     "text": [
      "[5 4 1 2 3 0]\n",
      "[9 6 6 6 4 3]\n"
     ]
    }
   ],
   "source": [
    "print(np.argsort(i_f_c[:, -1]))\n",
    "print((i_f_c[:, -1]))"
   ],
   "metadata": {
    "collapsed": false,
    "ExecuteTime": {
     "end_time": "2024-05-23T13:32:19.495862500Z",
     "start_time": "2024-05-23T13:32:19.492210300Z"
    }
   }
  },
  {
   "cell_type": "code",
   "execution_count": 127,
   "outputs": [
    {
     "ename": "ValueError",
     "evalue": "zero-size array to reduction operation maximum which has no identity",
     "output_type": "error",
     "traceback": [
      "\u001B[1;31m---------------------------------------------------------------------------\u001B[0m",
      "\u001B[1;31mValueError\u001B[0m                                Traceback (most recent call last)",
      "Cell \u001B[1;32mIn[127], line 1\u001B[0m\n\u001B[1;32m----> 1\u001B[0m \u001B[43mnp\u001B[49m\u001B[38;5;241;43m.\u001B[39;49m\u001B[43mmax\u001B[49m\u001B[43m(\u001B[49m\u001B[43mi_f_c\u001B[49m\u001B[43m[\u001B[49m\u001B[43m[\u001B[49m\u001B[43m]\u001B[49m\u001B[43m]\u001B[49m\u001B[43m)\u001B[49m\n",
      "File \u001B[1;32m~\\AppData\\Local\\Programs\\Python\\Python312\\Lib\\site-packages\\numpy\\core\\fromnumeric.py:2810\u001B[0m, in \u001B[0;36mmax\u001B[1;34m(a, axis, out, keepdims, initial, where)\u001B[0m\n\u001B[0;32m   2692\u001B[0m \u001B[38;5;129m@array_function_dispatch\u001B[39m(_max_dispatcher)\n\u001B[0;32m   2693\u001B[0m \u001B[38;5;129m@set_module\u001B[39m(\u001B[38;5;124m'\u001B[39m\u001B[38;5;124mnumpy\u001B[39m\u001B[38;5;124m'\u001B[39m)\n\u001B[0;32m   2694\u001B[0m \u001B[38;5;28;01mdef\u001B[39;00m \u001B[38;5;21mmax\u001B[39m(a, axis\u001B[38;5;241m=\u001B[39m\u001B[38;5;28;01mNone\u001B[39;00m, out\u001B[38;5;241m=\u001B[39m\u001B[38;5;28;01mNone\u001B[39;00m, keepdims\u001B[38;5;241m=\u001B[39mnp\u001B[38;5;241m.\u001B[39m_NoValue, initial\u001B[38;5;241m=\u001B[39mnp\u001B[38;5;241m.\u001B[39m_NoValue,\n\u001B[0;32m   2695\u001B[0m          where\u001B[38;5;241m=\u001B[39mnp\u001B[38;5;241m.\u001B[39m_NoValue):\n\u001B[0;32m   2696\u001B[0m \u001B[38;5;250m    \u001B[39m\u001B[38;5;124;03m\"\"\"\u001B[39;00m\n\u001B[0;32m   2697\u001B[0m \u001B[38;5;124;03m    Return the maximum of an array or maximum along an axis.\u001B[39;00m\n\u001B[0;32m   2698\u001B[0m \n\u001B[1;32m   (...)\u001B[0m\n\u001B[0;32m   2808\u001B[0m \u001B[38;5;124;03m    5\u001B[39;00m\n\u001B[0;32m   2809\u001B[0m \u001B[38;5;124;03m    \"\"\"\u001B[39;00m\n\u001B[1;32m-> 2810\u001B[0m     \u001B[38;5;28;01mreturn\u001B[39;00m \u001B[43m_wrapreduction\u001B[49m\u001B[43m(\u001B[49m\u001B[43ma\u001B[49m\u001B[43m,\u001B[49m\u001B[43m \u001B[49m\u001B[43mnp\u001B[49m\u001B[38;5;241;43m.\u001B[39;49m\u001B[43mmaximum\u001B[49m\u001B[43m,\u001B[49m\u001B[43m \u001B[49m\u001B[38;5;124;43m'\u001B[39;49m\u001B[38;5;124;43mmax\u001B[39;49m\u001B[38;5;124;43m'\u001B[39;49m\u001B[43m,\u001B[49m\u001B[43m \u001B[49m\u001B[43maxis\u001B[49m\u001B[43m,\u001B[49m\u001B[43m \u001B[49m\u001B[38;5;28;43;01mNone\u001B[39;49;00m\u001B[43m,\u001B[49m\u001B[43m \u001B[49m\u001B[43mout\u001B[49m\u001B[43m,\u001B[49m\n\u001B[0;32m   2811\u001B[0m \u001B[43m                          \u001B[49m\u001B[43mkeepdims\u001B[49m\u001B[38;5;241;43m=\u001B[39;49m\u001B[43mkeepdims\u001B[49m\u001B[43m,\u001B[49m\u001B[43m \u001B[49m\u001B[43minitial\u001B[49m\u001B[38;5;241;43m=\u001B[39;49m\u001B[43minitial\u001B[49m\u001B[43m,\u001B[49m\u001B[43m \u001B[49m\u001B[43mwhere\u001B[49m\u001B[38;5;241;43m=\u001B[39;49m\u001B[43mwhere\u001B[49m\u001B[43m)\u001B[49m\n",
      "File \u001B[1;32m~\\AppData\\Local\\Programs\\Python\\Python312\\Lib\\site-packages\\numpy\\core\\fromnumeric.py:88\u001B[0m, in \u001B[0;36m_wrapreduction\u001B[1;34m(obj, ufunc, method, axis, dtype, out, **kwargs)\u001B[0m\n\u001B[0;32m     85\u001B[0m         \u001B[38;5;28;01melse\u001B[39;00m:\n\u001B[0;32m     86\u001B[0m             \u001B[38;5;28;01mreturn\u001B[39;00m reduction(axis\u001B[38;5;241m=\u001B[39maxis, out\u001B[38;5;241m=\u001B[39mout, \u001B[38;5;241m*\u001B[39m\u001B[38;5;241m*\u001B[39mpasskwargs)\n\u001B[1;32m---> 88\u001B[0m \u001B[38;5;28;01mreturn\u001B[39;00m \u001B[43mufunc\u001B[49m\u001B[38;5;241;43m.\u001B[39;49m\u001B[43mreduce\u001B[49m\u001B[43m(\u001B[49m\u001B[43mobj\u001B[49m\u001B[43m,\u001B[49m\u001B[43m \u001B[49m\u001B[43maxis\u001B[49m\u001B[43m,\u001B[49m\u001B[43m \u001B[49m\u001B[43mdtype\u001B[49m\u001B[43m,\u001B[49m\u001B[43m \u001B[49m\u001B[43mout\u001B[49m\u001B[43m,\u001B[49m\u001B[43m \u001B[49m\u001B[38;5;241;43m*\u001B[39;49m\u001B[38;5;241;43m*\u001B[39;49m\u001B[43mpasskwargs\u001B[49m\u001B[43m)\u001B[49m\n",
      "\u001B[1;31mValueError\u001B[0m: zero-size array to reduction operation maximum which has no identity"
     ]
    }
   ],
   "source": [
    "i_f_c[[]]"
   ],
   "metadata": {
    "collapsed": false,
    "ExecuteTime": {
     "end_time": "2024-05-23T09:51:31.849683100Z",
     "start_time": "2024-05-23T09:51:31.818914800Z"
    }
   }
  },
  {
   "cell_type": "code",
   "execution_count": 184,
   "outputs": [
    {
     "data": {
      "text/plain": "0.9953084143532979"
     },
     "execution_count": 184,
     "metadata": {},
     "output_type": "execute_result"
    }
   ],
   "source": [
    "np.random.rand()"
   ],
   "metadata": {
    "collapsed": false,
    "ExecuteTime": {
     "end_time": "2024-05-23T15:45:59.282497Z",
     "start_time": "2024-05-23T15:45:59.278867600Z"
    }
   }
  },
  {
   "cell_type": "code",
   "execution_count": 122,
   "outputs": [
    {
     "name": "stdout",
     "output_type": "stream",
     "text": [
      "[[0 0]\n",
      " [0 0]\n",
      " [0 0]\n",
      " [0 0]\n",
      " [0 0]\n",
      " [0 0]]\n",
      "[]\n",
      "[]\n",
      "[]\n"
     ]
    }
   ],
   "source": [
    "ifc_sort = i_f_c[np.argsort(i_f_c[:, 1])]\n",
    "print(ifc_sort)\n",
    "wor = ifc_sort[-1, 1]\n",
    "where = np.where(ifc_sort[:, 1] == 6)[0]\n",
    "print(where)\n",
    "w_pi = ifc_sort[where, 0]\n",
    "print(w_pi)\n",
    "w_ifc = i_f_c[w_pi]\n",
    "print(w_ifc)"
   ],
   "metadata": {
    "collapsed": false,
    "pycharm": {
     "name": "#%%\n"
    },
    "ExecuteTime": {
     "end_time": "2024-05-23T09:50:22.237793100Z",
     "start_time": "2024-05-23T09:50:22.235539600Z"
    }
   }
  },
  {
   "cell_type": "code",
   "execution_count": 121,
   "outputs": [
    {
     "name": "stdout",
     "output_type": "stream",
     "text": [
      "[[0 0]\n",
      " [0 0]\n",
      " [0 0]\n",
      " [0 0]\n",
      " [0 0]\n",
      " [0 0]]\n",
      "[0, 1, 2, 3, 4, 5]\n"
     ]
    }
   ],
   "source": [
    "i_f_c[:, :] = 0\n",
    "print(i_f_c)\n",
    "print(ind)"
   ],
   "metadata": {
    "collapsed": false,
    "pycharm": {
     "name": "#%%\n"
    },
    "ExecuteTime": {
     "end_time": "2024-05-23T08:17:57.836323600Z",
     "start_time": "2024-05-23T08:17:57.830697800Z"
    }
   }
  },
  {
   "cell_type": "code",
   "execution_count": null,
   "outputs": [],
   "source": [],
   "metadata": {
    "collapsed": false
   }
  },
  {
   "cell_type": "code",
   "execution_count": 19,
   "outputs": [
    {
     "name": "stdout",
     "output_type": "stream",
     "text": [
      "[False False False False False False False False  True]\n",
      "True\n"
     ]
    }
   ],
   "source": [
    "fuck = np.all(fc == [4, 1], axis=1)\n",
    "print(fuck)\n",
    "print(np.any(\n",
    "    fuck\n",
    "))"
   ],
   "metadata": {
    "collapsed": false,
    "pycharm": {
     "name": "#%%\n"
    },
    "ExecuteTime": {
     "end_time": "2024-05-23T05:53:47.042280700Z",
     "start_time": "2024-05-23T05:53:46.989819200Z"
    }
   }
  },
  {
   "cell_type": "code",
   "execution_count": 20,
   "outputs": [
    {
     "data": {
      "text/plain": "[0, 1, 2, 8]"
     },
     "execution_count": 20,
     "metadata": {},
     "output_type": "execute_result"
    }
   ],
   "source": [
    "t = np.where((fc[ :, 1] < 6))[0]\n",
    "list(t)"
   ],
   "metadata": {
    "collapsed": false,
    "pycharm": {
     "name": "#%%\n"
    },
    "ExecuteTime": {
     "end_time": "2024-05-23T05:53:47.053492600Z",
     "start_time": "2024-05-23T05:53:46.992547100Z"
    }
   }
  },
  {
   "cell_type": "code",
   "execution_count": 21,
   "outputs": [
    {
     "name": "stdout",
     "output_type": "stream",
     "text": [
      "[[  9   3]\n",
      " [101 102]\n",
      " [  3   2]\n",
      " [  5   7]\n",
      " [  5   7]\n",
      " [  5   7]\n",
      " [  5   7]\n",
      " [  5   7]\n",
      " [  4   1]]\n"
     ]
    }
   ],
   "source": [
    "ff = fc[1]\n",
    "ff += 99\n",
    "print(fc)"
   ],
   "metadata": {
    "collapsed": false,
    "pycharm": {
     "name": "#%%\n"
    },
    "ExecuteTime": {
     "end_time": "2024-05-23T05:53:47.116236100Z",
     "start_time": "2024-05-23T05:53:46.996387600Z"
    }
   }
  },
  {
   "cell_type": "code",
   "execution_count": 22,
   "outputs": [
    {
     "name": "stdout",
     "output_type": "stream",
     "text": [
      "1\n"
     ]
    }
   ],
   "source": [
    "sl_ham = np.array([\n",
    "    [1],\n",
    "    [8],\n",
    "    [1],\n",
    "    [2]\n",
    "])\n",
    "print(np.argmax(sl_ham))"
   ],
   "metadata": {
    "collapsed": false,
    "pycharm": {
     "name": "#%%\n"
    },
    "ExecuteTime": {
     "end_time": "2024-05-23T05:53:47.117233Z",
     "start_time": "2024-05-23T05:53:46.997902900Z"
    }
   }
  },
  {
   "cell_type": "code",
   "execution_count": 23,
   "outputs": [],
   "source": [
    "a = np.ones((1000,10000))"
   ],
   "metadata": {
    "collapsed": false,
    "pycharm": {
     "name": "#%%\n"
    },
    "ExecuteTime": {
     "end_time": "2024-05-23T05:53:47.118244Z",
     "start_time": "2024-05-23T05:53:47.001732200Z"
    }
   }
  },
  {
   "cell_type": "code",
   "execution_count": 24,
   "outputs": [
    {
     "name": "stdout",
     "output_type": "stream",
     "text": [
      "!\n",
      "(1000, 10000)\n"
     ]
    }
   ],
   "source": [
    "for i in range(10_00):\n",
    "    a[0, 0] = 999\n",
    "    a = np.zeros(a.shape)\n",
    "    # a = np.zeros_like(a)\n",
    "    # a[:, :] = 0\n",
    "print('!')\n",
    "print(a.shape)"
   ],
   "metadata": {
    "collapsed": false,
    "pycharm": {
     "name": "#%%\n"
    },
    "ExecuteTime": {
     "end_time": "2024-05-23T05:53:47.663089100Z",
     "start_time": "2024-05-23T05:53:47.020986600Z"
    }
   }
  },
  {
   "cell_type": "code",
   "execution_count": 25,
   "outputs": [
    {
     "name": "stdout",
     "output_type": "stream",
     "text": [
      "[(1, 2), (4, 2)]\n"
     ]
    }
   ],
   "source": [
    "k = [(1, 2), (9, 2), (4, 2)]\n",
    "k.remove((9, 2))\n",
    "print(k)"
   ],
   "metadata": {
    "collapsed": false,
    "pycharm": {
     "name": "#%%\n"
    },
    "ExecuteTime": {
     "end_time": "2024-05-23T05:53:47.665108600Z",
     "start_time": "2024-05-23T05:53:47.658905800Z"
    }
   }
  },
  {
   "cell_type": "code",
   "execution_count": 26,
   "outputs": [
    {
     "name": "stdout",
     "output_type": "stream",
     "text": [
      "1.469133086\n",
      "5\n"
     ]
    }
   ],
   "source": [
    "L = 7.34566543\n",
    "B = 8\n",
    "n_sl = 10\n",
    "wid = (2 * L)/10\n",
    "print(wid)\n",
    "cost_x = B\n",
    "print(\n",
    "    int(np.ceil((cost_x - (B - L)) / wid))\n",
    ")\n"
   ],
   "metadata": {
    "collapsed": false,
    "pycharm": {
     "name": "#%%\n"
    },
    "ExecuteTime": {
     "end_time": "2024-05-23T05:53:47.672961900Z",
     "start_time": "2024-05-23T05:53:47.663089100Z"
    }
   }
  },
  {
   "cell_type": "code",
   "execution_count": 27,
   "outputs": [
    {
     "name": "stdout",
     "output_type": "stream",
     "text": [
      "[-1]\n"
     ]
    }
   ],
   "source": [
    "def fuccc(li):\n",
    "    li.append(-1)\n",
    "lll = []\n",
    "fuccc(lll)\n",
    "print(lll)"
   ],
   "metadata": {
    "collapsed": false,
    "pycharm": {
     "name": "#%%\n"
    },
    "ExecuteTime": {
     "end_time": "2024-05-23T05:53:47.675021900Z",
     "start_time": "2024-05-23T05:53:47.671440500Z"
    }
   }
  },
  {
   "cell_type": "code",
   "execution_count": 128,
   "outputs": [],
   "source": [
    "a = np.array([0,2,4,15,20,23,25,30,31,37,46,49,64,66,74,87,95,96,122,137,147,210,246,253,269])\n",
    "b= np.array([0,2,4,15,20,23,25,30,31,37,46,49,64,66,74,77,87,96,122,137,140,210,246,337,414])\n",
    "c= np.array([0,2,4,15,20,23,31,35,37,46,49,60,64,66,74,87,96,122,137,147,188,210,246,284,291])\n",
    "d= np.array([0,2,4,15,20,23,25,31,35,37,46,49,64,66,74,87,95,96,122,137,147,165,210,246])\n",
    "e= np.array([0,2,4,15,20,23,25,30,31,35,37,46,49,64,66,74,87,96,122,137,147,210,246,253,392])"
   ],
   "metadata": {
    "collapsed": false,
    "ExecuteTime": {
     "end_time": "2024-05-23T12:52:08.244257600Z",
     "start_time": "2024-05-23T12:52:08.241054200Z"
    }
   }
  },
  {
   "cell_type": "code",
   "execution_count": 140,
   "outputs": [
    {
     "name": "stdout",
     "output_type": "stream",
     "text": [
      "0.0\n",
      "8.0\n",
      "10.0\n",
      "5.0\n",
      "4.0\n",
      "8.0\n",
      "0.0\n",
      "12.0\n",
      "9.0\n",
      "8.0\n",
      "10.0\n",
      "12.0\n",
      "0.0\n",
      "7.0\n",
      "8.0\n",
      "5.0\n",
      "9.0\n",
      "7.0\n",
      "0.0\n",
      "5.0\n",
      "4.0\n",
      "8.0\n",
      "8.0\n",
      "5.0\n",
      "0.0\n"
     ]
    }
   ],
   "source": [
    "sl = [a, b, c, d, e]\n",
    "for s in range(len(sl)):\n",
    "    t = np.zeros(450)\n",
    "    t[sl[s]] = 1\n",
    "    sl[s] = t\n",
    "# print(np.abs(sl[0] - sl[1]))\n",
    "# print(np.abs(sl[0] - sl[1]).sum())\n",
    "# print(sl)\n",
    "for pi in sl:\n",
    "    ham = 0\n",
    "    for pj in sl:\n",
    "        ham = np.abs(pi - pj).sum()\n",
    "        print(ham)\n"
   ],
   "metadata": {
    "collapsed": false,
    "ExecuteTime": {
     "end_time": "2024-05-23T12:57:20.863891600Z",
     "start_time": "2024-05-23T12:57:20.856298700Z"
    }
   }
  }
 ],
 "metadata": {
  "kernelspec": {
   "display_name": "Python 3",
   "language": "python",
   "name": "python3"
  },
  "language_info": {
   "codemirror_mode": {
    "name": "ipython",
    "version": 2
   },
   "file_extension": ".py",
   "mimetype": "text/x-python",
   "name": "python",
   "nbconvert_exporter": "python",
   "pygments_lexer": "ipython2",
   "version": "2.7.6"
  }
 },
 "nbformat": 4,
 "nbformat_minor": 0
}
