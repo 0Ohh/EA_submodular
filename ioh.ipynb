{
 "cells": [
  {
   "cell_type": "code",
   "execution_count": 11,
   "metadata": {
    "collapsed": true,
    "pycharm": {
     "name": "#%%\n"
    }
   },
   "outputs": [
    {
     "data": {
      "text/plain": "{2000: 'MaxCut2000',\n 2001: 'MaxCut2001',\n 2002: 'MaxCut2002',\n 2003: 'MaxCut2003',\n 2004: 'MaxCut2004',\n 2100: 'MaxCoverage2100',\n 2101: 'MaxCoverage2101',\n 2102: 'MaxCoverage2102',\n 2103: 'MaxCoverage2103',\n 2104: 'MaxCoverage2104',\n 2105: 'MaxCoverage2105',\n 2106: 'MaxCoverage2106',\n 2107: 'MaxCoverage2107',\n 2108: 'MaxCoverage2108',\n 2109: 'MaxCoverage2109',\n 2110: 'MaxCoverage2110',\n 2111: 'MaxCoverage2111',\n 2112: 'MaxCoverage2112',\n 2113: 'MaxCoverage2113',\n 2114: 'MaxCoverage2114',\n 2115: 'MaxCoverage2115',\n 2116: 'MaxCoverage2116',\n 2117: 'MaxCoverage2117',\n 2118: 'MaxCoverage2118',\n 2119: 'MaxCoverage2119',\n 2120: 'MaxCoverage2120',\n 2121: 'MaxCoverage2121',\n 2122: 'MaxCoverage2122',\n 2123: 'MaxCoverage2123',\n 2124: 'MaxCoverage2124',\n 2125: 'MaxCoverage2125',\n 2126: 'MaxCoverage2126',\n 2127: 'MaxCoverage2127',\n 2200: 'MaxInfluence2200',\n 2201: 'MaxInfluence2201',\n 2202: 'MaxInfluence2202',\n 2203: 'MaxInfluence2203',\n 2204: 'MaxInfluence2204',\n 2205: 'MaxInfluence2205',\n 2206: 'MaxInfluence2206',\n 2207: 'MaxInfluence2207',\n 2208: 'MaxInfluence2208',\n 2209: 'MaxInfluence2209',\n 2210: 'MaxInfluence2210',\n 2211: 'MaxInfluence2211',\n 2212: 'MaxInfluence2212',\n 2213: 'MaxInfluence2213',\n 2214: 'MaxInfluence2214',\n 2215: 'MaxInfluence2215',\n 2216: 'MaxInfluence2216',\n 2217: 'MaxInfluence2217',\n 2218: 'MaxInfluence2218',\n 2219: 'MaxInfluence2219',\n 2220: 'MaxInfluence2220',\n 2221: 'MaxInfluence2221',\n 2222: 'MaxInfluence2222',\n 2223: 'MaxInfluence2223',\n 2300: 'PackWhileTravel2300',\n 2301: 'PackWhileTravel2301',\n 2302: 'PackWhileTravel2302',\n 2303: 'PackWhileTravel2303',\n 2304: 'PackWhileTravel2304',\n 2305: 'PackWhileTravel2305',\n 2306: 'PackWhileTravel2306',\n 2307: 'PackWhileTravel2307',\n 2308: 'PackWhileTravel2308'}"
     },
     "execution_count": 11,
     "metadata": {},
     "output_type": "execute_result"
    }
   ],
   "source": [
    "import ioh\n",
    "from ioh import problem\n",
    "\n",
    "ioh.problem.MaxCut.problems"
   ]
  },
  {
   "cell_type": "code",
   "execution_count": 16,
   "outputs": [
    {
     "data": {
      "text/plain": "<IntegerSingleObjectiveProblem 2001. MaxCut2001 (iid=1 dim=800)>"
     },
     "execution_count": 16,
     "metadata": {},
     "output_type": "execute_result"
    }
   ],
   "source": [
    "\n",
    "p1 = ioh.get_problem(\n",
    "    'MaxCut2000',\n",
    "    instance=1,\n",
    "    dimension=1,\n",
    "    problem_class=ioh.ProblemClass.GRAPH\n",
    ")\n",
    "p1"
   ],
   "metadata": {
    "collapsed": false,
    "pycharm": {
     "name": "#%%\n"
    }
   }
  },
  {
   "cell_type": "code",
   "execution_count": 32,
   "outputs": [
    {
     "name": "stdout",
     "output_type": "stream",
     "text": [
      "(800,)\n"
     ]
    }
   ],
   "source": [
    "import numpy as np\n",
    "# p1(np.array([0, 1]))\n",
    "x0 = np.random.randint(p1.bounds.lb, p1.bounds.ub)\n",
    "print(x0.shape)"
   ],
   "metadata": {
    "collapsed": false,
    "pycharm": {
     "name": "#%%\n"
    }
   }
  },
  {
   "cell_type": "code",
   "execution_count": 45,
   "outputs": [
    {
     "name": "stdout",
     "output_type": "stream",
     "text": [
      "7244.0\n",
      "7244.0\n"
     ]
    }
   ],
   "source": [
    "x0 = np.zeros(800, 'int')\n",
    "# for i in range(800):\n",
    "#     x0[i:] = 1\n",
    "#     print(p1(x0), i)\n",
    "#     x0[i:] = 0\n",
    "x0 = np.zeros(800, 'int')\n",
    "a = x0.copy()\n",
    "a[199:] = 1\n",
    "b = 1-a\n",
    "print(p1(a))\n",
    "print(p1(b))"
   ],
   "metadata": {
    "collapsed": false,
    "pycharm": {
     "name": "#%%\n"
    }
   }
  }
 ],
 "metadata": {
  "kernelspec": {
   "display_name": "Python 3",
   "language": "python",
   "name": "python3"
  },
  "language_info": {
   "codemirror_mode": {
    "name": "ipython",
    "version": 2
   },
   "file_extension": ".py",
   "mimetype": "text/x-python",
   "name": "python",
   "nbconvert_exporter": "python",
   "pygments_lexer": "ipython2",
   "version": "2.7.6"
  }
 },
 "nbformat": 4,
 "nbformat_minor": 0
}